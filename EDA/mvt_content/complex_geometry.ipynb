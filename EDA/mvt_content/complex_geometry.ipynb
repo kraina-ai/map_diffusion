{
 "cells": [
  {
   "cell_type": "code",
   "execution_count": 56,
   "metadata": {},
   "outputs": [],
   "source": [
    "import json \n",
    "import os\n",
    "import pandas as pd\n",
    "from tqdm import tqdm\n",
    "import mapbox_vector_tile\n",
    "from transformers import AutoTokenizer, AutoModelForCausalLM\n",
    "import copy\n",
    "import numpy as np\n",
    "\n",
    "import seaborn as sns\n",
    "import matplotlib.pyplot as plt\n",
    "import operator as op\n",
    "import math\n",
    "\n",
    "import shapely\n",
    "\n",
    "tokenizer = AutoTokenizer.from_pretrained(\"EleutherAI/gpt-j-6B\")"
   ]
  },
  {
   "cell_type": "code",
   "execution_count": 57,
   "metadata": {},
   "outputs": [
    {
     "name": "stdout",
     "output_type": "stream",
     "text": [
      "LINESTRING (0 0, 1 10, 0 20)\n",
      "LINESTRING (0 0, 0 20)\n",
      "POLYGON ((0 0, 0 10, 10 10, 10 0, 0 0), (2 2, 2 4, 4 4, 4 2, 2 2))\n",
      "POLYGON ((0 0, 0 10, 10 10, 10 0, 0 0))\n"
     ]
    }
   ],
   "source": [
    "from shapely import LineString, Polygon\n",
    "line = LineString([(0, 0), (1, 10), (0, 20)])\n",
    "print(shapely.simplify(line, tolerance=0.9))\n",
    "\n",
    "print(shapely.simplify(line, tolerance=1))\n",
    "\n",
    "polygon_with_hole = Polygon(\n",
    "    [(0, 0), (0, 10), (10, 10), (10, 0), (0, 0)],\n",
    "    holes=[[(2, 2), (2, 4), (4, 4), (4, 2), (2, 2)]]\n",
    ")\n",
    "print(shapely.simplify(polygon_with_hole, tolerance=4, preserve_topology=True))\n",
    "\n",
    "print(shapely.simplify(polygon_with_hole, tolerance=4, preserve_topology=False))"
   ]
  },
  {
   "cell_type": "code",
   "execution_count": 58,
   "metadata": {},
   "outputs": [
    {
     "name": "stdout",
     "output_type": "stream",
     "text": [
      "POLYGON ((0 0, 0 10, 10 10, 10 0, 0 0))\n"
     ]
    }
   ],
   "source": [
    "print(shapely.simplify(polygon_with_hole, tolerance=6, preserve_topology=False))"
   ]
  },
  {
   "cell_type": "code",
   "execution_count": 59,
   "metadata": {},
   "outputs": [
    {
     "data": {
      "text/plain": [
       "[[[0.0, 0.0], [0.0, 10.0], [10.0, 10.0], [10.0, 0.0], [0.0, 0.0]],\n",
       " [[2.0, 2.0], [2.0, 4.0], [4.0, 4.0], [4.0, 2.0], [2.0, 2.0]]]"
      ]
     },
     "execution_count": 59,
     "metadata": {},
     "output_type": "execute_result"
    }
   ],
   "source": [
    "json.loads(shapely.to_geojson(polygon_with_hole))[\"coordinates\"]"
   ]
  },
  {
   "cell_type": "code",
   "execution_count": 60,
   "metadata": {},
   "outputs": [],
   "source": [
    "FILE_DIR = '../../map_generation/EDA'\n",
    "ALL_VECTOR_DIR = '../../data/vector_tiles'\n",
    "files = ['file1.json', 'file2.json', 'file3.json']\n",
    "\n",
    "def mvt2json(path):\n",
    "    with open(path, mode=\"rb\") as mvt_file:\n",
    "        contents = mvt_file.read()\n",
    "        return  mapbox_vector_tile.decode(contents)"
   ]
  },
  {
   "cell_type": "code",
   "execution_count": 104,
   "metadata": {},
   "outputs": [
    {
     "data": {
      "text/plain": [
       "[[[[3102, 4129], [3070, 4057], [2977, 4097], [2991, 4129], [3102, 4129]]],\n",
       " [[[3119, 4129], [3116, 4124], [3104, 4129], [3119, 4129]]]]"
      ]
     },
     "execution_count": 104,
     "metadata": {},
     "output_type": "execute_result"
    }
   ],
   "source": [
    "poly = [[[[3102, 4129], [3070, 4057], [2977, 4097], [2991, 4129], [3102, 4129]]], [[[3119, 4129], [3116, 4124], [3104, 4129], [3119, 4129]]]]\n",
    "poly"
   ]
  },
  {
   "cell_type": "code",
   "execution_count": 121,
   "metadata": {},
   "outputs": [],
   "source": [
    "newpoly = []\n",
    "for pol in poly:\n",
    "    newpoly.append((pol[0], []))\n",
    "ob = shapely.MultiPolygon(newpoly)"
   ]
  },
  {
   "cell_type": "code",
   "execution_count": 122,
   "metadata": {},
   "outputs": [
    {
     "data": {
      "image/svg+xml": [
       "<svg xmlns=\"http://www.w3.org/2000/svg\" xmlns:xlink=\"http://www.w3.org/1999/xlink\" width=\"153.35999999999967\" height=\"100.0\" viewBox=\"2971.32 4051.32 153.35999999999967 83.36000000000013\" preserveAspectRatio=\"xMinYMin meet\"><g transform=\"matrix(1,0,0,-1,0,8186.0)\"><g><path fill-rule=\"evenodd\" fill=\"#66cc99\" stroke=\"#555555\" stroke-width=\"2.0\" opacity=\"0.6\" d=\"M 3102.0,4129.0 L 3070.0,4057.0 L 2977.0,4097.0 L 2991.0,4129.0 L 3102.0,4129.0 z\" /><path fill-rule=\"evenodd\" fill=\"#66cc99\" stroke=\"#555555\" stroke-width=\"2.0\" opacity=\"0.6\" d=\"M 3119.0,4129.0 L 3116.0,4124.0 L 3104.0,4129.0 L 3119.0,4129.0 z\" /></g></g></svg>"
      ],
      "text/plain": [
       "<MULTIPOLYGON (((3102 4129, 3070 4057, 2977 4097, 2991 4129, 3102 4129)), ((...>"
      ]
     },
     "execution_count": 122,
     "metadata": {},
     "output_type": "execute_result"
    }
   ],
   "source": [
    "ob"
   ]
  },
  {
   "cell_type": "code",
   "execution_count": 118,
   "metadata": {},
   "outputs": [],
   "source": [
    "ob = shapely.MultiPolygon([\n",
    "    (\n",
    "    [[0.0, 0.0], [0.0, 1.0], [1.0, 1.0], [1.0, 0.0]],\n",
    "    []\n",
    "    ),\n",
    "    (\n",
    "    [[2.0, 2.0], [2.0, 3.0], [3.0, 3.0], [3.0, 2.0]],\n",
    "    []\n",
    "    )\n",
    "    ])"
   ]
  },
  {
   "cell_type": "code",
   "execution_count": 119,
   "metadata": {},
   "outputs": [
    {
     "data": {
      "image/svg+xml": [
       "<svg xmlns=\"http://www.w3.org/2000/svg\" xmlns:xlink=\"http://www.w3.org/1999/xlink\" width=\"100.0\" height=\"100.0\" viewBox=\"-0.12 -0.12 3.24 3.24\" preserveAspectRatio=\"xMinYMin meet\"><g transform=\"matrix(1,0,0,-1,0,3.0)\"><g><path fill-rule=\"evenodd\" fill=\"#66cc99\" stroke=\"#555555\" stroke-width=\"0.06480000000000001\" opacity=\"0.6\" d=\"M 0.0,0.0 L 0.0,1.0 L 1.0,1.0 L 1.0,0.0 L 0.0,0.0 z\" /><path fill-rule=\"evenodd\" fill=\"#66cc99\" stroke=\"#555555\" stroke-width=\"0.06480000000000001\" opacity=\"0.6\" d=\"M 2.0,2.0 L 2.0,3.0 L 3.0,3.0 L 3.0,2.0 L 2.0,2.0 z\" /></g></g></svg>"
      ],
      "text/plain": [
       "<MULTIPOLYGON (((0 0, 0 1, 1 1, 1 0, 0 0)), ((2 2, 2 3, 3 3, 3 2, 2 2)))>"
      ]
     },
     "execution_count": 119,
     "metadata": {},
     "output_type": "execute_result"
    }
   ],
   "source": [
    "ob"
   ]
  },
  {
   "cell_type": "code",
   "execution_count": 106,
   "metadata": {},
   "outputs": [
    {
     "ename": "TypeError",
     "evalue": "'int' object is not iterable",
     "output_type": "error",
     "traceback": [
      "\u001b[0;31m---------------------------------------------------------------------------\u001b[0m",
      "\u001b[0;31mTypeError\u001b[0m                                 Traceback (most recent call last)",
      "Cell \u001b[0;32mIn[106], line 1\u001b[0m\n\u001b[0;32m----> 1\u001b[0m shapely\u001b[39m.\u001b[39;49mMultiPolygon(newpoly)\n",
      "File \u001b[0;32m~/.local/lib/python3.10/site-packages/shapely/geometry/multipolygon.py:81\u001b[0m, in \u001b[0;36mMultiPolygon.__new__\u001b[0;34m(self, polygons)\u001b[0m\n\u001b[1;32m     79\u001b[0m     shell \u001b[39m=\u001b[39m ob[\u001b[39m0\u001b[39m]\n\u001b[1;32m     80\u001b[0m     holes \u001b[39m=\u001b[39m ob[\u001b[39m1\u001b[39m]\n\u001b[0;32m---> 81\u001b[0m     p \u001b[39m=\u001b[39m polygon\u001b[39m.\u001b[39;49mPolygon(shell, holes)\n\u001b[1;32m     82\u001b[0m \u001b[39melse\u001b[39;00m:\n\u001b[1;32m     83\u001b[0m     p \u001b[39m=\u001b[39m polygon\u001b[39m.\u001b[39mPolygon(ob)\n",
      "File \u001b[0;32m~/.local/lib/python3.10/site-packages/shapely/geometry/polygon.py:230\u001b[0m, in \u001b[0;36mPolygon.__new__\u001b[0;34m(self, shell, holes)\u001b[0m\n\u001b[1;32m    228\u001b[0m     \u001b[39mreturn\u001b[39;00m shell\n\u001b[1;32m    229\u001b[0m \u001b[39melse\u001b[39;00m:\n\u001b[0;32m--> 230\u001b[0m     shell \u001b[39m=\u001b[39m LinearRing(shell)\n\u001b[1;32m    232\u001b[0m \u001b[39mif\u001b[39;00m holes \u001b[39mis\u001b[39;00m \u001b[39mnot\u001b[39;00m \u001b[39mNone\u001b[39;00m:\n\u001b[1;32m    233\u001b[0m     \u001b[39mif\u001b[39;00m \u001b[39mlen\u001b[39m(holes) \u001b[39m==\u001b[39m \u001b[39m0\u001b[39m:\n\u001b[1;32m    234\u001b[0m         \u001b[39m# shapely constructor cannot handle holes=[]\u001b[39;00m\n",
      "File \u001b[0;32m~/.local/lib/python3.10/site-packages/shapely/geometry/polygon.py:93\u001b[0m, in \u001b[0;36mLinearRing.__new__\u001b[0;34m(self, coordinates)\u001b[0m\n\u001b[1;32m     90\u001b[0m     \u001b[39melse\u001b[39;00m:\n\u001b[1;32m     91\u001b[0m         \u001b[39mreturn\u001b[39;00m [\u001b[39mfloat\u001b[39m(c) \u001b[39mfor\u001b[39;00m c \u001b[39min\u001b[39;00m o]\n\u001b[0;32m---> 93\u001b[0m coordinates \u001b[39m=\u001b[39m np\u001b[39m.\u001b[39marray([_coords(o) \u001b[39mfor\u001b[39;00m o \u001b[39min\u001b[39;00m coordinates])\n\u001b[1;32m     94\u001b[0m \u001b[39mif\u001b[39;00m \u001b[39mnot\u001b[39;00m np\u001b[39m.\u001b[39missubdtype(coordinates\u001b[39m.\u001b[39mdtype, np\u001b[39m.\u001b[39mnumber):\n\u001b[1;32m     95\u001b[0m     \u001b[39m# conversion of coords to 2D array failed, this might be due\u001b[39;00m\n\u001b[1;32m     96\u001b[0m     \u001b[39m# to inconsistent coordinate dimensionality\u001b[39;00m\n\u001b[1;32m     97\u001b[0m     \u001b[39mraise\u001b[39;00m \u001b[39mValueError\u001b[39;00m(\u001b[39m\"\u001b[39m\u001b[39mInconsistent coordinate dimensionality\u001b[39m\u001b[39m\"\u001b[39m)\n",
      "File \u001b[0;32m~/.local/lib/python3.10/site-packages/shapely/geometry/polygon.py:93\u001b[0m, in \u001b[0;36m<listcomp>\u001b[0;34m(.0)\u001b[0m\n\u001b[1;32m     90\u001b[0m     \u001b[39melse\u001b[39;00m:\n\u001b[1;32m     91\u001b[0m         \u001b[39mreturn\u001b[39;00m [\u001b[39mfloat\u001b[39m(c) \u001b[39mfor\u001b[39;00m c \u001b[39min\u001b[39;00m o]\n\u001b[0;32m---> 93\u001b[0m coordinates \u001b[39m=\u001b[39m np\u001b[39m.\u001b[39marray([_coords(o) \u001b[39mfor\u001b[39;00m o \u001b[39min\u001b[39;00m coordinates])\n\u001b[1;32m     94\u001b[0m \u001b[39mif\u001b[39;00m \u001b[39mnot\u001b[39;00m np\u001b[39m.\u001b[39missubdtype(coordinates\u001b[39m.\u001b[39mdtype, np\u001b[39m.\u001b[39mnumber):\n\u001b[1;32m     95\u001b[0m     \u001b[39m# conversion of coords to 2D array failed, this might be due\u001b[39;00m\n\u001b[1;32m     96\u001b[0m     \u001b[39m# to inconsistent coordinate dimensionality\u001b[39;00m\n\u001b[1;32m     97\u001b[0m     \u001b[39mraise\u001b[39;00m \u001b[39mValueError\u001b[39;00m(\u001b[39m\"\u001b[39m\u001b[39mInconsistent coordinate dimensionality\u001b[39m\u001b[39m\"\u001b[39m)\n",
      "File \u001b[0;32m~/.local/lib/python3.10/site-packages/shapely/geometry/polygon.py:91\u001b[0m, in \u001b[0;36mLinearRing.__new__.<locals>._coords\u001b[0;34m(o)\u001b[0m\n\u001b[1;32m     89\u001b[0m     \u001b[39mreturn\u001b[39;00m o\u001b[39m.\u001b[39mcoords[\u001b[39m0\u001b[39m]\n\u001b[1;32m     90\u001b[0m \u001b[39melse\u001b[39;00m:\n\u001b[0;32m---> 91\u001b[0m     \u001b[39mreturn\u001b[39;00m [\u001b[39mfloat\u001b[39m(c) \u001b[39mfor\u001b[39;00m c \u001b[39min\u001b[39;00m o]\n",
      "\u001b[0;31mTypeError\u001b[0m: 'int' object is not iterable"
     ]
    }
   ],
   "source": [
    "shapely.MultiPolygon(newpoly)"
   ]
  },
  {
   "cell_type": "code",
   "execution_count": 123,
   "metadata": {},
   "outputs": [],
   "source": [
    "def get_bbox_diameter(shape):\n",
    "    bbox = shape.bounds\n",
    "    return math.sqrt((bbox[3]-bbox[1])**2 + (bbox[2]-bbox[0])**2)\n",
    "\n",
    "def json2shapely(geometry, geo_type):\n",
    "    try:\n",
    "        if geo_type == 'Point':\n",
    "            return shapely.Point(geometry['coordinates'])\n",
    "        elif geo_type == 'LineString':\n",
    "            return shapely.LineString(geometry['coordinates'])\n",
    "        elif geo_type == 'MultiLineString':\n",
    "            return shapely.MultiLineString(geometry['coordinates'])\n",
    "        elif geo_type == 'Polygon':\n",
    "            return shapely.Polygon(geometry['coordinates'][0])\n",
    "        elif geo_type == 'MultiPolygon':\n",
    "            polygons = geometry['coordinates']\n",
    "            newpoly = []\n",
    "            for polygon in polygons:\n",
    "                newpoly.append((polygon[0], []))\n",
    "            return shapely.MultiPolygon(newpoly)\n",
    "    except:\n",
    "        print(geometry['coordinates'])\n",
    "        raise ValueError('A very specific bad thing happened.')\n",
    "    \n",
    "def simplify_geo(geometry, geotype, perc):\n",
    "    if geotype != 'Point':\n",
    "        shape = json2shapely(geometry, geotype)\n",
    "        tolerance = get_bbox_diameter(shape) * perc\n",
    "        newshape = shapely.simplify(shape, tolerance=tolerance, preserve_topology=False)\n",
    "        geometry['coordinates'] = json.loads(shapely.to_geojson(newshape))[\"coordinates\"]\n",
    "        return shape, newshape\n",
    "    \n",
    "def simplify(layer, perc):\n",
    "    for feature in layer['features']:\n",
    "        geometry = feature['geometry']\n",
    "        geo_type = geometry['type']\n",
    "        simplify_geo(geometry, geo_type, perc)\n",
    "    return layer"
   ]
  },
  {
   "cell_type": "code",
   "execution_count": 124,
   "metadata": {},
   "outputs": [],
   "source": [
    "berlin = pd.read_pickle('../../data/vector_tiles/Berlin, Germany.pkl')\n",
    "path = os.path.join(\"../..\", berlin.iloc[0]['tile'])\n",
    "tile = mvt2json(path)\n",
    "tile.keys()\n",
    "\n",
    "geojson = json.dumps(tile['road']['features'][0])\n",
    "shape = shapely.from_geojson(geojson)"
   ]
  },
  {
   "cell_type": "code",
   "execution_count": 82,
   "metadata": {},
   "outputs": [],
   "source": [
    "feature = tile['road']['features'][0]\n",
    "geometry = feature['geometry']\n",
    "geotype = geometry['type']"
   ]
  },
  {
   "cell_type": "code",
   "execution_count": 83,
   "metadata": {},
   "outputs": [
    {
     "name": "stdout",
     "output_type": "stream",
     "text": [
      "6\n",
      "2\n"
     ]
    }
   ],
   "source": [
    "old, new = simplify_geo(geometry, geotype, 0.25)\n",
    "print(shapely.get_num_coordinates(old))\n",
    "print(shapely.get_num_coordinates(new))"
   ]
  },
  {
   "cell_type": "code",
   "execution_count": 125,
   "metadata": {},
   "outputs": [],
   "source": [
    "def testShapeComplexityImpact(tiles_df, layer_name, perc):\n",
    "\n",
    "    tiles = {\n",
    "        'complex': [],\n",
    "        'simple': [],\n",
    "        'perc difference': []\n",
    "    }\n",
    "\n",
    "    for idx, tile in tqdm(tiles_df.iterrows(), total=tiles_df.shape[0]):\n",
    "        path = os.path.join(\"../..\", tile['tile'])\n",
    "        tile = mvt2json(path)\n",
    "        if layer_name not in tile.keys():\n",
    "            continue\n",
    "        layer = tile[layer_name]\n",
    "        layer_simple = copy.deepcopy(layer)\n",
    "        complex_str = json.dumps(layer)\n",
    "        simple = simplify(layer_simple, perc)\n",
    "        simple_str = json.dumps(simple)\n",
    "        simple_tokens = len(tokenizer.tokenize(simple_str))\n",
    "        complex_tokens = len(tokenizer.tokenize(complex_str))\n",
    "        tiles['simple'].append(simple_tokens)\n",
    "        tiles['complex'].append(complex_tokens)\n",
    "        tiles['perc difference'].append((complex_tokens - simple_tokens)/complex_tokens)\n",
    "        \n",
    "    return tiles\n",
    "    \n",
    "def visualizeSizeDiff(size):\n",
    "    sorted_keys, sorted_vals = zip(*sorted(size.items(), key=op.itemgetter(1)))\n",
    "\n",
    "    # almost verbatim from question\n",
    "    boxplot = sns.boxplot(data=sorted_vals, width=.18)\n",
    "\n",
    "    # category labels\n",
    "    plt.xticks(plt.xticks()[0], sorted_keys)\n",
    "    boxplot.set_yscale(\"log\")\n",
    "    boxplot.axhline(2048)\n",
    "    plt.show()"
   ]
  },
  {
   "cell_type": "code",
   "execution_count": 126,
   "metadata": {},
   "outputs": [
    {
     "name": "stderr",
     "output_type": "stream",
     "text": [
      "100%|██████████| 6786/6786 [1:11:34<00:00,  1.58it/s]   \n"
     ]
    },
    {
     "data": {
      "image/png": "[encoded data removed]",
      "text/plain": [
       "<Figure size 640x480 with 1 Axes>"
      ]
     },
     "metadata": {},
     "output_type": "display_data"
    }
   ],
   "source": [
    "buildings = testShapeComplexityImpact(berlin, \"building\", 0.5)\n",
    "\n",
    "building_size = {\n",
    "    'simple': buildings['simple'],\n",
    "    'complex': buildings['complex']\n",
    "}\n",
    "\n",
    "visualizeSizeDiff(building_size)"
   ]
  },
  {
   "cell_type": "code",
   "execution_count": 127,
   "metadata": {},
   "outputs": [
    {
     "data": {
      "image/png": "[encoded data removed]",
      "text/plain": [
       "<Figure size 640x480 with 1 Axes>"
      ]
     },
     "metadata": {},
     "output_type": "display_data"
    }
   ],
   "source": [
    "perc = pd.DataFrame(buildings['perc difference'])\n",
    "boxplot = sns.boxplot(data=perc, width=.18)\n",
    "plt.show()"
   ]
  }
 ],
 "metadata": {
  "kernelspec": {
   "display_name": "Python 3",
   "language": "python",
   "name": "python3"
  },
  "language_info": {
   "codemirror_mode": {
    "name": "ipython",
    "version": 3
   },
   "file_extension": ".py",
   "mimetype": "text/x-python",
   "name": "python",
   "nbconvert_exporter": "python",
   "pygments_lexer": "ipython3",
   "version": "3.10.6"
  },
  "orig_nbformat": 4
 },
 "nbformat": 4,
 "nbformat_minor": 2
}
