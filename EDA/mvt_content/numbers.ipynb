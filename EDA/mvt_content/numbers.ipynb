{
 "cells": [
  {
   "cell_type": "code",
   "execution_count": 41,
   "metadata": {},
   "outputs": [],
   "source": [
    "import json \n",
    "import os\n",
    "import pandas as pd\n",
    "from tqdm import tqdm\n",
    "import mapbox_vector_tile\n",
    "from transformers import AutoTokenizer, AutoModelForCausalLM\n",
    "import copy\n",
    "import numpy as np\n",
    "\n",
    "import seaborn as sns\n",
    "import matplotlib.pyplot as plt\n",
    "import operator as op"
   ]
  },
  {
   "cell_type": "code",
   "execution_count": 2,
   "metadata": {},
   "outputs": [],
   "source": [
    "tokenizer = AutoTokenizer.from_pretrained(\"EleutherAI/gpt-j-6B\")"
   ]
  },
  {
   "cell_type": "code",
   "execution_count": 4,
   "metadata": {},
   "outputs": [],
   "source": [
    "FILE_DIR = '../../map_generation/EDA'\n",
    "ALL_VECTOR_DIR = '../../data/vector_tiles'\n",
    "files = ['file1.json', 'file2.json', 'file3.json']\n",
    "\n",
    "def mvt2json(path):\n",
    "    with open(path, mode=\"rb\") as mvt_file:\n",
    "        contents = mvt_file.read()\n",
    "        return  mapbox_vector_tile.decode(contents)\n",
    "\n",
    "def read_json(path):\n",
    "    file = open(os.path.join(FILE_DIR, path), \"r\")\n",
    "    dic_json = json.load(file)\n",
    "    return json.dumps(dic_json)\n",
    "\n",
    "def read_single_string(path):\n",
    "    file = open(os.path.join(FILE_DIR, path), \"r\")\n",
    "    return file.read()\n",
    "\n",
    "# # works for geojson from mvt\n",
    "# def layer_tokens(path):\n",
    "#     file = open(os.path.join(FILE_DIR, path), \"r\")\n",
    "#     dic_json = json.load(file)\n",
    "#     layers = {}\n",
    "#     for feature in dic_json['features']:\n",
    "#         if feature['properties']['vt_layer'] not in layers.keys():\n",
    "#             layers[feature['properties']['vt_layer']] = []\n",
    "#     return layers"
   ]
  },
  {
   "cell_type": "code",
   "execution_count": 7,
   "metadata": {},
   "outputs": [],
   "source": [
    "berlin = pd.read_pickle('../../data/vector_tiles/Berlin, Germany.pkl')\n",
    "path = os.path.join(\"../..\", berlin.iloc[57]['tile'])\n",
    "tile = mvt2json(path)"
   ]
  },
  {
   "cell_type": "code",
   "execution_count": 56,
   "metadata": {},
   "outputs": [],
   "source": [
    "def random_float():\n",
    "    return \"0.\"+str(np.random.randint(1e14, 1e15))\n",
    "\n",
    "def newPoint():\n",
    "    return [random_float(), random_float()]\n",
    "\n",
    "def newLineString(line):\n",
    "    newline = []\n",
    "    for _ in line:\n",
    "        newpoint = newPoint()\n",
    "        newline.append(newpoint)\n",
    "    return newline\n",
    "    \n",
    "def newMultiLineString(lines):\n",
    "    newlines = []\n",
    "    for line in lines:\n",
    "        newline = newLineString(line)\n",
    "        newlines.append(newline)\n",
    "    return newlines\n",
    "\n",
    "def newMultiPolygon(polygons):\n",
    "    newpolygons = []\n",
    "    for polygon in polygons:\n",
    "        newpolygon = newMultiLineString(polygon)\n",
    "        newpolygons.append(newpolygon)\n",
    "    return newpolygons\n",
    "\n",
    "def replaceGeometry(geometry, geo_type):\n",
    "    if geo_type == 'Point':\n",
    "        geometry['coordinates'] = newPoint()\n",
    "    elif geo_type == 'LineString':\n",
    "        geometry['coordinates'] = newLineString(geometry['coordinates'])\n",
    "    elif geo_type == 'MultiLineString':\n",
    "        geometry['coordinates'] = newMultiLineString(geometry['coordinates'])\n",
    "    elif geo_type == 'Polygon':\n",
    "        geometry['coordinates'] = newMultiLineString(geometry['coordinates'])\n",
    "    elif geo_type == 'MultiPolygon':\n",
    "        geometry['coordinates'] = newMultiPolygon(geometry['coordinates'])\n",
    "    else:\n",
    "        print(geometry)\n",
    "\n",
    "def floatify(layer):\n",
    "    for feature in layer['features']:\n",
    "        geometry = feature['geometry']\n",
    "        geo_type = geometry['type']\n",
    "        replaceGeometry(geometry, geo_type)\n",
    "    return layer"
   ]
  },
  {
   "cell_type": "code",
   "execution_count": 62,
   "metadata": {},
   "outputs": [],
   "source": [
    "def testNumberImpact(tiles_df, layer_name):\n",
    "\n",
    "    tiles = {\n",
    "        'int': [],\n",
    "        'float': [],\n",
    "        'difference': [],\n",
    "        'perc difference': []\n",
    "    }\n",
    "\n",
    "    for idx, tile in tqdm(tiles_df.iterrows(), total=tiles_df.shape[0]):\n",
    "        path = os.path.join(\"../..\", tile['tile'])\n",
    "        tile = mvt2json(path)\n",
    "        if layer_name not in tile.keys():\n",
    "            continue\n",
    "        layer = tile[layer_name]\n",
    "        layer_float = copy.deepcopy(layer)\n",
    "        int_str = json.dumps(layer)\n",
    "        floaty = floatify(layer_float)\n",
    "        floaty_str = json.dumps(floaty)\n",
    "        int_tokens = len(tokenizer.tokenize(int_str))\n",
    "        float_tokens = len(tokenizer.tokenize(floaty_str))\n",
    "        tiles['int'].append(int_tokens)\n",
    "        tiles['float'].append(float_tokens)\n",
    "        tiles['difference'].append(float_tokens - int_tokens)\n",
    "        tiles['perc difference'].append((float_tokens - int_tokens)/float_tokens)\n",
    "        \n",
    "    return tiles\n",
    "    \n",
    "def visualizeSizeDiff(size):\n",
    "    sorted_keys, sorted_vals = zip(*sorted(size.items(), key=op.itemgetter(1)))\n",
    "\n",
    "    # almost verbatim from question\n",
    "    boxplot = sns.boxplot(data=sorted_vals, width=.18)\n",
    "\n",
    "    # category labels\n",
    "    plt.xticks(plt.xticks()[0], sorted_keys)\n",
    "    boxplot.set_yscale(\"log\")\n",
    "    boxplot.axhline(2048)\n",
    "    plt.show()"
   ]
  },
  {
   "cell_type": "code",
   "execution_count": 51,
   "metadata": {},
   "outputs": [
    {
     "data": {
      "image/png": "[encoded data removed]",
      "text/plain": [
       "<Figure size 640x480 with 1 Axes>"
      ]
     },
     "metadata": {},
     "output_type": "display_data"
    }
   ],
   "source": [
    "buildings = testNumberImpact(berlin, \"building\")\n",
    "\n",
    "building_size = {\n",
    "    'int': buildings['int'],\n",
    "    'float': buildings['float']\n",
    "}\n",
    "\n",
    "visualizeSizeDiff(building_size)"
   ]
  },
  {
   "cell_type": "code",
   "execution_count": 47,
   "metadata": {},
   "outputs": [
    {
     "data": {
      "image/png": "[encoded data removed]",
      "text/plain": [
       "<Figure size 640x480 with 1 Axes>"
      ]
     },
     "metadata": {},
     "output_type": "display_data"
    }
   ],
   "source": [
    "perc = pd.DataFrame(buildings['perc difference'])\n",
    "boxplot = sns.boxplot(data=perc, width=.18)\n",
    "plt.show()"
   ]
  },
  {
   "cell_type": "code",
   "execution_count": 64,
   "metadata": {},
   "outputs": [
    {
     "name": "stderr",
     "output_type": "stream",
     "text": [
      "100%|██████████| 6786/6786 [09:34<00:00, 11.82it/s]\n"
     ]
    },
    {
     "data": {
      "image/png": "[encoded data removed]",
      "text/plain": [
       "<Figure size 640x480 with 1 Axes>"
      ]
     },
     "metadata": {},
     "output_type": "display_data"
    }
   ],
   "source": [
    "roads = testNumberImpact(berlin, \"road\")\n",
    "\n",
    "road_size = {\n",
    "    'int': roads['int'],\n",
    "    'float': roads['float']\n",
    "}\n",
    "\n",
    "visualizeSizeDiff(road_size)"
   ]
  },
  {
   "cell_type": "code",
   "execution_count": null,
   "metadata": {},
   "outputs": [],
   "source": [
    "perc = pd.DataFrame(roads['perc difference'])\n",
    "boxplot = sns.boxplot(data=perc, width=.18)\n",
    "plt.show()"
   ]
  }
 ],
 "metadata": {
  "kernelspec": {
   "display_name": "Python 3",
   "language": "python",
   "name": "python3"
  },
  "language_info": {
   "codemirror_mode": {
    "name": "ipython",
    "version": 3
   },
   "file_extension": ".py",
   "mimetype": "text/x-python",
   "name": "python",
   "nbconvert_exporter": "python",
   "pygments_lexer": "ipython3",
   "version": "3.10.6"
  },
  "orig_nbformat": 4
 },
 "nbformat": 4,
 "nbformat_minor": 2
}
