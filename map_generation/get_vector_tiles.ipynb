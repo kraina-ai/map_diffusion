{
 "cells": [
  {
   "cell_type": "code",
   "execution_count": null,
   "metadata": {},
   "outputs": [],
   "source": [
    "import geopandas as gpd\n",
    "import pandas as pd\n",
    "from shapely import geometry\n",
    "import os\n",
    "import time\n",
    "\n",
    "from srai.constants import REGIONS_INDEX, WGS84_CRS\n",
    "from srai.embedders import CountEmbedder\n",
    "from srai.joiners import IntersectionJoiner\n",
    "from srai.loaders.osm_loaders import OSMOnlineLoader, OSMPbfLoader\n",
    "from srai.loaders.osm_loaders.filters import HEX2VEC_FILTER\n",
    "from srai.regionizers import H3Regionizer, SlippyMapRegionizer\n",
    "from srai.utils import geocode_to_region_gdf"
   ]
  },
  {
   "cell_type": "code",
   "execution_count": null,
   "metadata": {},
   "outputs": [],
   "source": [
    "\n",
    "def get_embedding_for_region(region_name: str) -> pd.DataFrame:\n",
    "    bbox_gdf = geocode_to_region_gdf(region_name)\n",
    "    regionizer = SlippyMapRegionizer(zoom=16)\n",
    "    regions_gdf = regionizer.transform(bbox_gdf)\n",
    "    path = f\"data/pbfs/{region_name}\"\n",
    "    if not os.path.exists(path):\n",
    "        os.makedirs(path)\n",
    "    loader = OSMPbfLoader(download_directory=path)\n",
    "    features_gdf = loader.load(bbox_gdf, tags=HEX2VEC_FILTER)\n",
    "    joiner = IntersectionJoiner()\n",
    "    joint_gdf = joiner.transform(regions_gdf, features_gdf)\n",
    "    embedder = CountEmbedder()\n",
    "    embedding = embedder.transform(regions_gdf, features_gdf, joint_gdf)\n",
    "    return embedding"
   ]
  },
  {
   "cell_type": "code",
   "execution_count": null,
   "metadata": {},
   "outputs": [],
   "source": [
    "from tqdm import tqdm\n",
    "from datetime import datetime\n",
    "\n",
    "errors = []\n",
    "with open('data/cities_v2.txt', 'r') as cities_file:\n",
    "    for city in cities_file:\n",
    "        print(city)\n",
    "        city = city.replace(\"\\n\", \"\")\n",
    "        path = f\"data/embeddings/{city}.pkl\"\n",
    "        path2 = f\"data/pbfs/{city}\"\n",
    "        if os.path.exists(path) and os.path.exists(path2):\n",
    "            continue\n",
    "        done = False\n",
    "        while not done:\n",
    "            try:\n",
    "                df = get_embedding_for_region(city)\n",
    "                df.to_pickle(path)\n",
    "                done = True\n",
    "            except Exception as e:\n",
    "                now = datetime.now()\n",
    "                current_time = now.strftime(\"%H:%M:%S\")\n",
    "                print(f\"{current_time}: failed at {city}\")\n",
    "                print()\n",
    "                time.sleep(600)"
   ]
  }
 ],
 "metadata": {
  "kernelspec": {
   "display_name": ".venv",
   "language": "python",
   "name": "python3"
  },
  "language_info": {
   "codemirror_mode": {
    "name": "ipython",
    "version": 3
   },
   "file_extension": ".py",
   "mimetype": "text/x-python",
   "name": "python",
   "nbconvert_exporter": "python",
   "pygments_lexer": "ipython3",
   "version": "3.10.10"
  },
  "orig_nbformat": 4,
  "vscode": {
   "interpreter": {
    "hash": "5dce9f45505a373811135736fcc1a28d7cb642c7707cc61eb0340150084562f1"
   }
  }
 },
 "nbformat": 4,
 "nbformat_minor": 2
}
