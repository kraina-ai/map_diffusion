{
 "cells": [
  {
   "cell_type": "code",
   "execution_count": 2,
   "metadata": {},
   "outputs": [],
   "source": [
    "import os\n",
    "\n",
    "import torch\n",
    "from diffusers import StableDiffusionPipeline\n",
    "\n",
    "from config import CHECKPOINTS_DIR, MODEL_NAME, DEVICE, DATA_DIR"
   ]
  },
  {
   "cell_type": "code",
   "execution_count": 3,
   "metadata": {},
   "outputs": [],
   "source": [
    "\n",
    "def get_prediction(pipe: StableDiffusionPipeline, prompt: str):\n",
    "    with torch.no_grad():\n",
    "        images = pipe(prompt, height=256, width=256).images\n",
    "\n",
    "    return images[0]\n"
   ]
  },
  {
   "cell_type": "code",
   "execution_count": null,
   "metadata": {
    "scrolled": false
   },
   "outputs": [],
   "source": [
    "# !python diff_hugging.py\n",
    "import diff_hugging\n",
    "diff_hugging.main()"
   ]
  },
  {
   "cell_type": "code",
   "execution_count": null,
   "metadata": {},
   "outputs": [],
   "source": [
    "path = os.path.join(CHECKPOINTS_DIR, f'{MODEL_NAME}_pipeline')\n",
    "pipeline = StableDiffusionPipeline.from_pretrained(path).to(DEVICE)"
   ]
  },
  {
   "cell_type": "code",
   "execution_count": 1,
   "metadata": {},
   "outputs": [
    {
     "ename": "NameError",
     "evalue": "name 'DATA_DIR' is not defined",
     "output_type": "error",
     "traceback": [
      "\u001b[0;31m---------------------------------------------------------------------------\u001b[0m",
      "\u001b[0;31mNameError\u001b[0m                                 Traceback (most recent call last)",
      "Cell \u001b[0;32mIn[1], line 3\u001b[0m\n\u001b[1;32m      1\u001b[0m \u001b[39mfrom\u001b[39;00m \u001b[39mosm_dataset\u001b[39;00m \u001b[39mimport\u001b[39;00m TextToImageDataset\n\u001b[1;32m      2\u001b[0m \u001b[39mfrom\u001b[39;00m \u001b[39mtransformers\u001b[39;00m \u001b[39mimport\u001b[39;00m CLIPTokenizer\n\u001b[0;32m----> 3\u001b[0m ds \u001b[39m=\u001b[39m TextToImageDataset(DATA_DIR)\n\u001b[1;32m      4\u001b[0m tokens \u001b[39m=\u001b[39m ds[\u001b[39m0\u001b[39m][\u001b[39m1\u001b[39m]\n\u001b[1;32m      5\u001b[0m tokenizer \u001b[39m=\u001b[39m CLIPTokenizer\u001b[39m.\u001b[39mfrom_pretrained(\n\u001b[1;32m      6\u001b[0m     \u001b[39m\"\u001b[39m\u001b[39mstabilityai/stable-diffusion-2\u001b[39m\u001b[39m\"\u001b[39m, subfolder\u001b[39m=\u001b[39m\u001b[39m\"\u001b[39m\u001b[39mtokenizer\u001b[39m\u001b[39m\"\u001b[39m\n\u001b[1;32m      7\u001b[0m )\n",
      "\u001b[0;31mNameError\u001b[0m: name 'DATA_DIR' is not defined"
     ]
    }
   ],
   "source": [
    "from osm_dataset import TextToImageDataset\n",
    "from transformers import CLIPTokenizer\n",
    "ds = TextToImageDataset(DATA_DIR)\n",
    "tokens = ds[0][1]\n",
    "tokenizer = CLIPTokenizer.from_pretrained(\n",
    "    \"stabilityai/stable-diffusion-2\", subfolder=\"tokenizer\"\n",
    ")"
   ]
  },
  {
   "cell_type": "code",
   "execution_count": null,
   "metadata": {},
   "outputs": [
    {
     "data": {
      "text/plain": [
       "DatasetDict({\n",
       "    train: Dataset({\n",
       "        features: ['image', 'aeroway_aerodrome', 'aeroway_apron', 'aeroway_gate', 'aeroway_hangar', 'aeroway_helipad', 'aeroway_heliport', 'aeroway_navigationaid', 'aeroway_runway', 'aeroway_taxiway', 'aeroway_terminal', 'aeroway_windsock', 'amenity_animal_boarding', 'amenity_animal_breeding', 'amenity_animal_shelter', 'amenity_arts_centre', 'amenity_atm', 'amenity_baby_hatch', 'amenity_bank', 'amenity_bar', 'amenity_bbq', 'amenity_bench', 'amenity_bicycle_parking', 'amenity_bicycle_rental', 'amenity_bicycle_repair_station', 'amenity_biergarten', 'amenity_boat_rental', 'amenity_boat_sharing', 'amenity_brothel', 'amenity_bureau_de_change', 'amenity_bus_station', 'amenity_cafe', 'amenity_car_rental', 'amenity_car_sharing', 'amenity_car_wash', 'amenity_casino', 'amenity_charging_station', 'amenity_childcare', 'amenity_cinema', 'amenity_clinic', 'amenity_clock', 'amenity_college', 'amenity_community_centre', 'amenity_conference_centre', 'amenity_courthouse', 'amenity_crematorium', 'amenity_dentist', 'amenity_dive_centre', 'amenity_doctors', 'amenity_dog_toilet', 'amenity_drinking_water', 'amenity_driving_school', 'amenity_embassy', 'amenity_events_venue', 'amenity_fast_food', 'amenity_ferry_terminal', 'amenity_fire_station', 'amenity_food_court', 'amenity_fountain', 'amenity_fuel', 'amenity_funeral_hall', 'amenity_gambling', 'amenity_give_box', 'amenity_grave_yard', 'amenity_grit_bin', 'amenity_gym', 'amenity_hospital', 'amenity_hunting_stand', 'amenity_ice_cream', 'amenity_internet_cafe', 'amenity_kindergarten', 'amenity_kitchen', 'amenity_kneipp_water_cure', 'amenity_language_school', 'amenity_library', 'amenity_lounger', 'amenity_love_hotel', 'amenity_marketplace', 'amenity_monastery', 'amenity_motorcycle_parking', 'amenity_music_school', 'amenity_nightclub', 'amenity_nursing_home', 'amenity_parking', 'amenity_parking_entrance', 'amenity_parking_space', 'amenity_pharmacy', 'amenity_photo_booth', 'amenity_place_of_mourning', 'amenity_place_of_worship', 'amenity_planetarium', 'amenity_police', 'amenity_post_box', 'amenity_post_depot', 'amenity_post_office', 'amenity_prison', 'amenity_pub', 'amenity_public_bath', 'amenity_public_bookcase', 'amenity_ranger_station', 'amenity_recycling', 'amenity_refugee_site', 'amenity_restaurant', 'amenity_sanitary_dump_station', 'amenity_school', 'amenity_shelter', 'amenity_shower', 'amenity_social_centre', 'amenity_social_facility', 'amenity_stripclub', 'amenity_studio', 'amenity_swingerclub', 'amenity_taxi', 'amenity_telephone', 'amenity_theatre', 'amenity_toilets', 'amenity_townhall', 'amenity_toy_library', 'amenity_university', 'amenity_vehicle_inspection', 'amenity_vending_machine', 'amenity_veterinary', 'amenity_waste_disposal', 'amenity_waste_transfer_station', 'amenity_water_point', 'amenity_watering_place', 'building_apartments', 'building_bakehouse', 'building_barn', 'building_bridge', 'building_bungalow', 'building_bunker', 'building_cabin', 'building_carport', 'building_cathedral', 'building_chapel', 'building_church', 'building_civic', 'building_college', 'building_commercial', 'building_conservatory', 'building_construction', 'building_container', 'building_cowshed', 'building_detached', 'building_dormitory', 'building_farm', 'building_farm_auxiliary', 'building_fire_station', 'building_garage', 'building_garages', 'building_gatehouse', 'building_government', 'building_grandstand', 'building_greenhouse', 'building_hangar', 'building_hospital', 'building_hotel', 'building_house', 'building_houseboat', 'building_hut', 'building_industrial', 'building_kindergarten', 'building_kiosk', 'building_military', 'building_monastery', 'building_mosque', 'building_office', 'building_parking', 'building_pavilion', 'building_presbytery', 'building_public', 'building_religious', 'building_residential', 'building_retail', 'building_riding_hall', 'building_roof', 'building_ruins', 'building_school', 'building_semidetached_house', 'building_service', 'building_shed', 'building_shrine', 'building_sports_hall', 'building_stable', 'building_stadium', 'building_static_caravan', 'building_sty', 'building_supermarket', 'building_synagogue', 'building_temple', 'building_terrace', 'building_toilets', 'building_train_station', 'building_transformer_tower', 'building_transportation', 'building_tree_house', 'building_university', 'building_warehouse', 'building_water_tower', 'building_yes', 'healthcare_alternative', 'healthcare_audiologist', 'healthcare_birthing_center', 'healthcare_blood_bank', 'healthcare_blood_donation', 'healthcare_counselling', 'healthcare_dialysis', 'healthcare_hospice', 'healthcare_laboratory', 'healthcare_midwife', 'healthcare_nurse', 'healthcare_occupational_therapist', 'healthcare_optometrist', 'healthcare_physiotherapist', 'healthcare_podiatrist', 'healthcare_psychotherapist', 'healthcare_rehabilitation', 'healthcare_sample_collection', 'healthcare_speech_therapist', 'healthcare_vaccination_centre', 'historic_aircraft', 'historic_aqueduct', 'historic_archaeological_site', 'historic_battlefield', 'historic_bomb_crater', 'historic_boundary_stone', 'historic_building', 'historic_cannon', 'historic_castle', 'historic_castle_wall', 'historic_charcoal_pile', 'historic_church', 'historic_city_gate', 'historic_citywalls', 'historic_farm', 'historic_fort', 'historic_highwater_mark', 'historic_locomotive', 'historic_manor', 'historic_memorial', 'historic_milestone', 'historic_monastery', 'historic_monument', 'historic_pillory', 'historic_railway_car', 'historic_ruins', 'historic_rune_stone', 'historic_ship', 'historic_tank', 'historic_tower', 'historic_wayside_cross', 'historic_wayside_shrine', 'historic_wreck', 'historic_yes', 'landuse_allotments', 'landuse_basin', 'landuse_brownfield', 'landuse_cemetery', 'landuse_commercial', 'landuse_conservation', 'landuse_construction', 'landuse_depot', 'landuse_farmland', 'landuse_farmyard', 'landuse_flowerbed', 'landuse_forest', 'landuse_garages', 'landuse_greenfield', 'landuse_greenhouse_horticulture', 'landuse_industrial', 'landuse_landfill', 'landuse_meadow', 'landuse_military', 'landuse_orchard', 'landuse_plant_nursery', 'landuse_port', 'landuse_quarry', 'landuse_railway', 'landuse_recreation_ground', 'landuse_religious', 'landuse_reservoir', 'landuse_residential', 'landuse_retail', 'landuse_village_green', 'landuse_vineyard', 'landuse_winter_sports', 'leisure_adult_gaming_centre', 'leisure_amusement_arcade', 'leisure_bandstand', 'leisure_beach_resort', 'leisure_bird_hide', 'leisure_common', 'leisure_dance', 'leisure_disc_golf_course', 'leisure_dog_park', 'leisure_escape_game', 'leisure_firepit', 'leisure_fishing', 'leisure_fitness_centre', 'leisure_fitness_station', 'leisure_garden', 'leisure_hackerspace', 'leisure_horse_riding', 'leisure_ice_rink', 'leisure_marina', 'leisure_miniature_golf', 'leisure_nature_reserve', 'leisure_park', 'leisure_picnic_table', 'leisure_pitch', 'leisure_playground', 'leisure_slipway', 'leisure_sports_centre', 'leisure_stadium', 'leisure_summer_camp', 'leisure_swimming_area', 'leisure_swimming_pool', 'leisure_track', 'leisure_water_park', 'military_airfield', 'military_barracks', 'military_bunker', 'military_checkpoint', 'military_danger_area', 'military_naval_base', 'military_obstacle_course', 'military_office', 'military_range', 'military_training_area', 'military_trench', 'natural_arete', 'natural_bare_rock', 'natural_bay', 'natural_beach', 'natural_cape', 'natural_cave_entrance', 'natural_cliff', 'natural_coastline', 'natural_dune', 'natural_fell', 'natural_grassland', 'natural_heath', 'natural_hot_spring', 'natural_isthmus', 'natural_mud', 'natural_peak', 'natural_peninsula', 'natural_reef', 'natural_ridge', 'natural_rock', 'natural_saddle', 'natural_sand', 'natural_scree', 'natural_scrub', 'natural_shingle', 'natural_sinkhole', 'natural_spring', 'natural_stone', 'natural_strait', 'natural_water', 'natural_wetland', 'natural_wood', 'office_accountant', 'office_advertising_agency', 'office_architect', 'office_association', 'office_charity', 'office_company', 'office_consulting', 'office_courier', 'office_coworking', 'office_diplomatic', 'office_educational_institution', 'office_employment_agency', 'office_energy_supplier', 'office_engineer', 'office_estate_agent', 'office_financial', 'office_financial_advisor', 'office_forestry', 'office_foundation', 'office_government', 'office_guide', 'office_insurance', 'office_it', 'office_lawyer', 'office_logistics', 'office_moving_company', 'office_newspaper', 'office_ngo', 'office_notary', 'office_political_party', 'office_property_management', 'office_quango', 'office_religion', 'office_research', 'office_surveyor', 'office_tax_advisor', 'office_telecommunication', 'office_visa', 'office_water_utility', 'office_yes', 'shop_agrarian', 'shop_alcohol', 'shop_anime', 'shop_antiques', 'shop_appliance', 'shop_art', 'shop_atv', 'shop_baby_goods', 'shop_bag', 'shop_bakery', 'shop_bathroom_furnishing', 'shop_beauty', 'shop_bed', 'shop_beverages', 'shop_bicycle', 'shop_boat', 'shop_bookmaker', 'shop_books', 'shop_boutique', 'shop_brewing_supplies', 'shop_butcher', 'shop_camera', 'shop_candles', 'shop_cannabis', 'shop_car', 'shop_car_parts', 'shop_car_repair', 'shop_caravan', 'shop_carpet', 'shop_charity', 'shop_cheese', 'shop_chemist', 'shop_chocolate', 'shop_clothes', 'shop_coffee', 'shop_collector', 'shop_computer', 'shop_confectionery', 'shop_convenience', 'shop_copyshop', 'shop_cosmetics', 'shop_craft', 'shop_curtain', 'shop_dairy', 'shop_deli', 'shop_department_store', 'shop_doityourself', 'shop_doors', 'shop_drugstore', 'shop_dry_cleaning', 'shop_electrical', 'shop_electronics', 'shop_energy', 'shop_erotic', 'shop_fabric', 'shop_farm', 'shop_fashion', 'shop_fashion_accessories', 'shop_fireplace', 'shop_fishing', 'shop_flooring', 'shop_florist', 'shop_frame', 'shop_frozen_food', 'shop_fuel', 'shop_funeral_directors', 'shop_furniture', 'shop_games', 'shop_garden_centre', 'shop_garden_furniture', 'shop_gas', 'shop_general', 'shop_gift', 'shop_glaziery', 'shop_golf', 'shop_greengrocer', 'shop_groundskeeping', 'shop_hairdresser', 'shop_hairdresser_supply', 'shop_hardware', 'shop_health_food', 'shop_hearing_aids', 'shop_herbalist', 'shop_hifi', 'shop_household_linen', 'shop_houseware', 'shop_hunting', 'shop_ice_cream', 'shop_interior_decoration', 'shop_jewelry', 'shop_kiosk', 'shop_kitchen', 'shop_lamps', 'shop_laundry', 'shop_leather', 'shop_lighting', 'shop_locksmith', 'shop_lottery', 'shop_mall', 'shop_massage', 'shop_medical_supply', 'shop_military_surplus', 'shop_mobile_phone', 'shop_model', 'shop_money_lender', 'shop_motorcycle', 'shop_music', 'shop_musical_instrument', 'shop_newsagent', 'shop_nutrition_supplements', 'shop_optician', 'shop_organic', 'shop_outdoor', 'shop_outpost', 'shop_paint', 'shop_party', 'shop_pasta', 'shop_pastry', 'shop_pawnbroker', 'shop_perfumery', 'shop_pest_control', 'shop_pet', 'shop_pet_grooming', 'shop_photo', 'shop_pyrotechnics', 'shop_radiotechnics', 'shop_religion', 'shop_scuba_diving', 'shop_seafood', 'shop_second_hand', 'shop_security', 'shop_sewing', 'shop_shoes', 'shop_ski', 'shop_spices', 'shop_sports', 'shop_stationery', 'shop_storage_rental', 'shop_supermarket', 'shop_swimming_pool', 'shop_tailor', 'shop_tattoo', 'shop_tea', 'shop_ticket', 'shop_tiles', 'shop_tobacco', 'shop_toys', 'shop_trade', 'shop_travel_agency', 'shop_trophy', 'shop_tyres', 'shop_vacant', 'shop_vacuum_cleaner', 'shop_variety_store', 'shop_video', 'shop_video_games', 'shop_watches', 'shop_water', 'shop_weapons', 'shop_wholesale', 'shop_window_blind', 'shop_windows', 'shop_wine', 'shop_wool', 'sport_10pin', 'sport_9pin', 'sport_aikido', 'sport_american_football', 'sport_archery', 'sport_athletics', 'sport_badminton', 'sport_bandy', 'sport_baseball', 'sport_basketball', 'sport_beachvolleyball', 'sport_biathlon', 'sport_billiards', 'sport_bmx', 'sport_bobsleigh', 'sport_boules', 'sport_bowls', 'sport_boxing', 'sport_bullfighting', 'sport_canadian_football', 'sport_canoe', 'sport_chess', 'sport_cliff_diving', 'sport_climbing', 'sport_climbing_adventure', 'sport_cricket', 'sport_croquet', 'sport_crossfit', 'sport_curling', 'sport_cycling', 'sport_darts', 'sport_dog_agility', 'sport_dog_racing', 'sport_equestrian', 'sport_fencing', 'sport_field_hockey', 'sport_fitness', 'sport_floorball', 'sport_free_flying', 'sport_futsal', 'sport_gaelic_games', 'sport_golf', 'sport_gymnastics', 'sport_handball', 'sport_hapkido', 'sport_horse_racing', 'sport_horseshoes', 'sport_ice_hockey', 'sport_ice_skating', 'sport_ice_stock', 'sport_judo', 'sport_karate', 'sport_karting', 'sport_kickboxing', 'sport_kitesurfing', 'sport_korfball', 'sport_lacrosse', 'sport_martial_arts', 'sport_miniature_golf', 'sport_model_aerodrome', 'sport_motocross', 'sport_motor', 'sport_multi', 'sport_netball', 'sport_obstacle_course', 'sport_orienteering', 'sport_paddle_tennis', 'sport_padel', 'sport_parachuting', 'sport_parkour', 'sport_pelota', 'sport_pickleball', 'sport_pilates', 'sport_pole_dance', 'sport_racquet', 'sport_rc_car', 'sport_roller_skating', 'sport_rowing', 'sport_rugby_league', 'sport_rugby_union', 'sport_running', 'sport_sailing', 'sport_scuba_diving', 'sport_shooting', 'sport_skateboard', 'sport_ski_jumping', 'sport_skiing', 'sport_snooker', 'sport_soccer', 'sport_speedway', 'sport_squash', 'sport_surfing', 'sport_swimming', 'sport_table_soccer', 'sport_table_tennis', 'sport_taekwondo', 'sport_tennis', 'sport_toboggan', 'sport_volleyball', 'sport_wakeboarding', 'sport_water_polo', 'sport_water_ski', 'sport_weightlifting', 'sport_wrestling', 'sport_yoga', 'tourism_alpine_hut', 'tourism_apartment', 'tourism_aquarium', 'tourism_artwork', 'tourism_attraction', 'tourism_camp_pitch', 'tourism_camp_site', 'tourism_caravan_site', 'tourism_chalet', 'tourism_gallery', 'tourism_guest_house', 'tourism_hostel', 'tourism_hotel', 'tourism_information', 'tourism_motel', 'tourism_museum', 'tourism_picnic_site', 'tourism_theme_park', 'tourism_viewpoint', 'tourism_wilderness_hut', 'tourism_yes', 'tourism_zoo', 'water_basin', 'water_canal', 'water_ditch', 'water_fish_pass', 'water_lagoon', 'water_lake', 'water_lock', 'water_moat', 'water_oxbow', 'water_pond', 'water_reflecting_pool', 'water_reservoir', 'water_river', 'water_wastewater', 'waterway_boatyard', 'waterway_canal', 'waterway_dam', 'waterway_ditch', 'waterway_dock', 'waterway_drain', 'waterway_fairway', 'waterway_fuel', 'waterway_lock_gate', 'waterway_pressurised', 'waterway_river', 'waterway_riverbank', 'waterway_stream', 'waterway_tidal_channel', 'waterway_turning_point', 'waterway_water_point', 'waterway_waterfall', 'waterway_weir', 'input_ids', 'pixel_values'],\n",
       "        num_rows: 2144\n",
       "    })\n",
       "})"
      ]
     },
     "execution_count": 17,
     "metadata": {},
     "output_type": "execute_result"
    }
   ],
   "source": [
    "# get_prediction(pipeline, tokenizer.decode(tokens))\n",
    "ds.dataset"
   ]
  },
  {
   "cell_type": "code",
   "execution_count": null,
   "metadata": {},
   "outputs": [
    {
     "data": {
      "text/html": [
       "<pre style=\"white-space:pre;overflow-x:auto;line-height:normal;font-family:Menlo,'DejaVu Sans Mono',consolas,'Courier New',monospace\"><span style=\"color: #800000; text-decoration-color: #800000\">╭─────────────────────────────── </span><span style=\"color: #800000; text-decoration-color: #800000; font-weight: bold\">Traceback </span><span style=\"color: #bf7f7f; text-decoration-color: #bf7f7f; font-weight: bold\">(most recent call last)</span><span style=\"color: #800000; text-decoration-color: #800000\"> ────────────────────────────────╮</span>\n",
       "<span style=\"color: #800000; text-decoration-color: #800000\">│</span> <span style=\"color: #bfbf7f; text-decoration-color: #bfbf7f\">/tmp/ipykernel_18885/</span><span style=\"color: #808000; text-decoration-color: #808000; font-weight: bold\">925624119.py</span>:<span style=\"color: #0000ff; text-decoration-color: #0000ff\">4</span> in <span style=\"color: #00ff00; text-decoration-color: #00ff00\">&lt;module&gt;</span>                                                  <span style=\"color: #800000; text-decoration-color: #800000\">│</span>\n",
       "<span style=\"color: #800000; text-decoration-color: #800000\">│</span>                                                                                                  <span style=\"color: #800000; text-decoration-color: #800000\">│</span>\n",
       "<span style=\"color: #800000; text-decoration-color: #800000\">│</span> <span style=\"color: #800000; text-decoration-color: #800000; font-style: italic\">[Errno 2] No such file or directory: '/tmp/ipykernel_18885/925624119.py'</span>                         <span style=\"color: #800000; text-decoration-color: #800000\">│</span>\n",
       "<span style=\"color: #800000; text-decoration-color: #800000\">│</span>                                                                                                  <span style=\"color: #800000; text-decoration-color: #800000\">│</span>\n",
       "<span style=\"color: #800000; text-decoration-color: #800000\">│</span> <span style=\"color: #bfbf7f; text-decoration-color: #bfbf7f\">/home/marcin/Documents/mgr/semestr_II/nlp/nlp_l2/nlp_venv/lib/python3.10/site-packages/torch/uti</span> <span style=\"color: #800000; text-decoration-color: #800000\">│</span>\n",
       "<span style=\"color: #800000; text-decoration-color: #800000\">│</span> <span style=\"color: #bfbf7f; text-decoration-color: #bfbf7f\">ls/data/</span><span style=\"color: #808000; text-decoration-color: #808000; font-weight: bold\">dataloader.py</span>:<span style=\"color: #0000ff; text-decoration-color: #0000ff\">634</span> in <span style=\"color: #00ff00; text-decoration-color: #00ff00\">__next__</span>                                                            <span style=\"color: #800000; text-decoration-color: #800000\">│</span>\n",
       "<span style=\"color: #800000; text-decoration-color: #800000\">│</span>                                                                                                  <span style=\"color: #800000; text-decoration-color: #800000\">│</span>\n",
       "<span style=\"color: #800000; text-decoration-color: #800000\">│</span>   <span style=\"color: #7f7f7f; text-decoration-color: #7f7f7f\"> 631 │   │   │   </span><span style=\"color: #0000ff; text-decoration-color: #0000ff\">if</span> <span style=\"color: #00ffff; text-decoration-color: #00ffff\">self</span>._sampler_iter <span style=\"color: #ff00ff; text-decoration-color: #ff00ff\">is</span> <span style=\"color: #0000ff; text-decoration-color: #0000ff\">None</span>:                                                <span style=\"color: #800000; text-decoration-color: #800000\">│</span>\n",
       "<span style=\"color: #800000; text-decoration-color: #800000\">│</span>   <span style=\"color: #7f7f7f; text-decoration-color: #7f7f7f\"> 632 │   │   │   │   # TODO(https://github.com/pytorch/pytorch/issues/76750)</span>                   <span style=\"color: #800000; text-decoration-color: #800000\">│</span>\n",
       "<span style=\"color: #800000; text-decoration-color: #800000\">│</span>   <span style=\"color: #7f7f7f; text-decoration-color: #7f7f7f\"> 633 │   │   │   │   </span><span style=\"color: #00ffff; text-decoration-color: #00ffff\">self</span>._reset()  <span style=\"color: #7f7f7f; text-decoration-color: #7f7f7f\"># type: ignore[call-arg]</span>                                   <span style=\"color: #800000; text-decoration-color: #800000\">│</span>\n",
       "<span style=\"color: #800000; text-decoration-color: #800000\">│</span> <span style=\"color: #800000; text-decoration-color: #800000\">❱ </span> 634 <span style=\"color: #7f7f7f; text-decoration-color: #7f7f7f\">│   │   │   </span>data = <span style=\"color: #00ffff; text-decoration-color: #00ffff\">self</span>._next_data()                                                      <span style=\"color: #800000; text-decoration-color: #800000\">│</span>\n",
       "<span style=\"color: #800000; text-decoration-color: #800000\">│</span>   <span style=\"color: #7f7f7f; text-decoration-color: #7f7f7f\"> 635 │   │   │   </span><span style=\"color: #00ffff; text-decoration-color: #00ffff\">self</span>._num_yielded += <span style=\"color: #0000ff; text-decoration-color: #0000ff\">1</span>                                                        <span style=\"color: #800000; text-decoration-color: #800000\">│</span>\n",
       "<span style=\"color: #800000; text-decoration-color: #800000\">│</span>   <span style=\"color: #7f7f7f; text-decoration-color: #7f7f7f\"> 636 │   │   │   </span><span style=\"color: #0000ff; text-decoration-color: #0000ff\">if</span> <span style=\"color: #00ffff; text-decoration-color: #00ffff\">self</span>._dataset_kind == _DatasetKind.Iterable <span style=\"color: #ff00ff; text-decoration-color: #ff00ff\">and</span> \\                          <span style=\"color: #800000; text-decoration-color: #800000\">│</span>\n",
       "<span style=\"color: #800000; text-decoration-color: #800000\">│</span>   <span style=\"color: #7f7f7f; text-decoration-color: #7f7f7f\"> 637 │   │   │   │   │   </span><span style=\"color: #00ffff; text-decoration-color: #00ffff\">self</span>._IterableDataset_len_called <span style=\"color: #ff00ff; text-decoration-color: #ff00ff\">is</span> <span style=\"color: #ff00ff; text-decoration-color: #ff00ff\">not</span> <span style=\"color: #0000ff; text-decoration-color: #0000ff\">None</span> <span style=\"color: #ff00ff; text-decoration-color: #ff00ff\">and</span> \\                    <span style=\"color: #800000; text-decoration-color: #800000\">│</span>\n",
       "<span style=\"color: #800000; text-decoration-color: #800000\">│</span>                                                                                                  <span style=\"color: #800000; text-decoration-color: #800000\">│</span>\n",
       "<span style=\"color: #800000; text-decoration-color: #800000\">│</span> <span style=\"color: #bfbf7f; text-decoration-color: #bfbf7f\">/home/marcin/Documents/mgr/semestr_II/nlp/nlp_l2/nlp_venv/lib/python3.10/site-packages/torch/uti</span> <span style=\"color: #800000; text-decoration-color: #800000\">│</span>\n",
       "<span style=\"color: #800000; text-decoration-color: #800000\">│</span> <span style=\"color: #bfbf7f; text-decoration-color: #bfbf7f\">ls/data/</span><span style=\"color: #808000; text-decoration-color: #808000; font-weight: bold\">dataloader.py</span>:<span style=\"color: #0000ff; text-decoration-color: #0000ff\">677</span> in <span style=\"color: #00ff00; text-decoration-color: #00ff00\">_next_data</span>                                                          <span style=\"color: #800000; text-decoration-color: #800000\">│</span>\n",
       "<span style=\"color: #800000; text-decoration-color: #800000\">│</span>                                                                                                  <span style=\"color: #800000; text-decoration-color: #800000\">│</span>\n",
       "<span style=\"color: #800000; text-decoration-color: #800000\">│</span>   <span style=\"color: #7f7f7f; text-decoration-color: #7f7f7f\"> 674 │   │   │   </span><span style=\"color: #00ffff; text-decoration-color: #00ffff\">self</span>._dataset_kind, <span style=\"color: #00ffff; text-decoration-color: #00ffff\">self</span>._dataset, <span style=\"color: #00ffff; text-decoration-color: #00ffff\">self</span>._auto_collation, <span style=\"color: #00ffff; text-decoration-color: #00ffff\">self</span>._collate_fn, <span style=\"color: #00ffff; text-decoration-color: #00ffff\">s</span>  <span style=\"color: #800000; text-decoration-color: #800000\">│</span>\n",
       "<span style=\"color: #800000; text-decoration-color: #800000\">│</span>   <span style=\"color: #7f7f7f; text-decoration-color: #7f7f7f\"> 675 │   </span>                                                                                      <span style=\"color: #800000; text-decoration-color: #800000\">│</span>\n",
       "<span style=\"color: #800000; text-decoration-color: #800000\">│</span>   <span style=\"color: #7f7f7f; text-decoration-color: #7f7f7f\"> 676 │   </span><span style=\"color: #0000ff; text-decoration-color: #0000ff\">def</span> <span style=\"color: #00ff00; text-decoration-color: #00ff00\">_next_data</span>(<span style=\"color: #00ffff; text-decoration-color: #00ffff\">self</span>):                                                                 <span style=\"color: #800000; text-decoration-color: #800000\">│</span>\n",
       "<span style=\"color: #800000; text-decoration-color: #800000\">│</span> <span style=\"color: #800000; text-decoration-color: #800000\">❱ </span> 677 <span style=\"color: #7f7f7f; text-decoration-color: #7f7f7f\">│   │   </span>index = <span style=\"color: #00ffff; text-decoration-color: #00ffff\">self</span>._next_index()  <span style=\"color: #7f7f7f; text-decoration-color: #7f7f7f\"># may raise StopIteration</span>                             <span style=\"color: #800000; text-decoration-color: #800000\">│</span>\n",
       "<span style=\"color: #800000; text-decoration-color: #800000\">│</span>   <span style=\"color: #7f7f7f; text-decoration-color: #7f7f7f\"> 678 │   │   </span>data = <span style=\"color: #00ffff; text-decoration-color: #00ffff\">self</span>._dataset_fetcher.fetch(index)  <span style=\"color: #7f7f7f; text-decoration-color: #7f7f7f\"># may raise StopIteration</span>              <span style=\"color: #800000; text-decoration-color: #800000\">│</span>\n",
       "<span style=\"color: #800000; text-decoration-color: #800000\">│</span>   <span style=\"color: #7f7f7f; text-decoration-color: #7f7f7f\"> 679 │   │   </span><span style=\"color: #0000ff; text-decoration-color: #0000ff\">if</span> <span style=\"color: #00ffff; text-decoration-color: #00ffff\">self</span>._pin_memory:                                                              <span style=\"color: #800000; text-decoration-color: #800000\">│</span>\n",
       "<span style=\"color: #800000; text-decoration-color: #800000\">│</span>   <span style=\"color: #7f7f7f; text-decoration-color: #7f7f7f\"> 680 │   │   │   </span>data = _utils.pin_memory.pin_memory(data, <span style=\"color: #00ffff; text-decoration-color: #00ffff\">self</span>._pin_memory_device)            <span style=\"color: #800000; text-decoration-color: #800000\">│</span>\n",
       "<span style=\"color: #800000; text-decoration-color: #800000\">│</span>                                                                                                  <span style=\"color: #800000; text-decoration-color: #800000\">│</span>\n",
       "<span style=\"color: #800000; text-decoration-color: #800000\">│</span> <span style=\"color: #bfbf7f; text-decoration-color: #bfbf7f\">/home/marcin/Documents/mgr/semestr_II/nlp/nlp_l2/nlp_venv/lib/python3.10/site-packages/torch/uti</span> <span style=\"color: #800000; text-decoration-color: #800000\">│</span>\n",
       "<span style=\"color: #800000; text-decoration-color: #800000\">│</span> <span style=\"color: #bfbf7f; text-decoration-color: #bfbf7f\">ls/data/</span><span style=\"color: #808000; text-decoration-color: #808000; font-weight: bold\">dataloader.py</span>:<span style=\"color: #0000ff; text-decoration-color: #0000ff\">624</span> in <span style=\"color: #00ff00; text-decoration-color: #00ff00\">_next_index</span>                                                         <span style=\"color: #800000; text-decoration-color: #800000\">│</span>\n",
       "<span style=\"color: #800000; text-decoration-color: #800000\">│</span>                                                                                                  <span style=\"color: #800000; text-decoration-color: #800000\">│</span>\n",
       "<span style=\"color: #800000; text-decoration-color: #800000\">│</span>   <span style=\"color: #7f7f7f; text-decoration-color: #7f7f7f\"> 621 │   │   │   </span><span style=\"color: #00ffff; text-decoration-color: #00ffff\">self</span>._dataset = torch.utils.data.graph_settings.apply_random_seed(<span style=\"color: #00ffff; text-decoration-color: #00ffff\">self</span>._data  <span style=\"color: #800000; text-decoration-color: #800000\">│</span>\n",
       "<span style=\"color: #800000; text-decoration-color: #800000\">│</span>   <span style=\"color: #7f7f7f; text-decoration-color: #7f7f7f\"> 622 │   </span>                                                                                      <span style=\"color: #800000; text-decoration-color: #800000\">│</span>\n",
       "<span style=\"color: #800000; text-decoration-color: #800000\">│</span>   <span style=\"color: #7f7f7f; text-decoration-color: #7f7f7f\"> 623 │   </span><span style=\"color: #0000ff; text-decoration-color: #0000ff\">def</span> <span style=\"color: #00ff00; text-decoration-color: #00ff00\">_next_index</span>(<span style=\"color: #00ffff; text-decoration-color: #00ffff\">self</span>):                                                                <span style=\"color: #800000; text-decoration-color: #800000\">│</span>\n",
       "<span style=\"color: #800000; text-decoration-color: #800000\">│</span> <span style=\"color: #800000; text-decoration-color: #800000\">❱ </span> 624 <span style=\"color: #7f7f7f; text-decoration-color: #7f7f7f\">│   │   </span><span style=\"color: #0000ff; text-decoration-color: #0000ff\">return</span> <span style=\"color: #00ffff; text-decoration-color: #00ffff\">next</span>(<span style=\"color: #00ffff; text-decoration-color: #00ffff\">self</span>._sampler_iter)  <span style=\"color: #7f7f7f; text-decoration-color: #7f7f7f\"># may raise StopIteration</span>                        <span style=\"color: #800000; text-decoration-color: #800000\">│</span>\n",
       "<span style=\"color: #800000; text-decoration-color: #800000\">│</span>   <span style=\"color: #7f7f7f; text-decoration-color: #7f7f7f\"> 625 │   </span>                                                                                      <span style=\"color: #800000; text-decoration-color: #800000\">│</span>\n",
       "<span style=\"color: #800000; text-decoration-color: #800000\">│</span>   <span style=\"color: #7f7f7f; text-decoration-color: #7f7f7f\"> 626 │   </span><span style=\"color: #0000ff; text-decoration-color: #0000ff\">def</span> <span style=\"color: #00ff00; text-decoration-color: #00ff00\">_next_data</span>(<span style=\"color: #00ffff; text-decoration-color: #00ffff\">self</span>):                                                                 <span style=\"color: #800000; text-decoration-color: #800000\">│</span>\n",
       "<span style=\"color: #800000; text-decoration-color: #800000\">│</span>   <span style=\"color: #7f7f7f; text-decoration-color: #7f7f7f\"> 627 │   │   </span><span style=\"color: #0000ff; text-decoration-color: #0000ff\">raise</span> <span style=\"color: #00ffff; text-decoration-color: #00ffff\">NotImplementedError</span>                                                         <span style=\"color: #800000; text-decoration-color: #800000\">│</span>\n",
       "<span style=\"color: #800000; text-decoration-color: #800000\">│</span>                                                                                                  <span style=\"color: #800000; text-decoration-color: #800000\">│</span>\n",
       "<span style=\"color: #800000; text-decoration-color: #800000\">│</span> <span style=\"color: #bfbf7f; text-decoration-color: #bfbf7f\">/home/marcin/Documents/mgr/semestr_II/nlp/nlp_l2/nlp_venv/lib/python3.10/site-packages/torch/uti</span> <span style=\"color: #800000; text-decoration-color: #800000\">│</span>\n",
       "<span style=\"color: #800000; text-decoration-color: #800000\">│</span> <span style=\"color: #bfbf7f; text-decoration-color: #bfbf7f\">ls/data/</span><span style=\"color: #808000; text-decoration-color: #808000; font-weight: bold\">sampler.py</span>:<span style=\"color: #0000ff; text-decoration-color: #0000ff\">254</span> in <span style=\"color: #00ff00; text-decoration-color: #00ff00\">__iter__</span>                                                               <span style=\"color: #800000; text-decoration-color: #800000\">│</span>\n",
       "<span style=\"color: #800000; text-decoration-color: #800000\">│</span>                                                                                                  <span style=\"color: #800000; text-decoration-color: #800000\">│</span>\n",
       "<span style=\"color: #800000; text-decoration-color: #800000\">│</span>   <span style=\"color: #7f7f7f; text-decoration-color: #7f7f7f\">251 │   │   </span><span style=\"color: #0000ff; text-decoration-color: #0000ff\">else</span>:                                                                              <span style=\"color: #800000; text-decoration-color: #800000\">│</span>\n",
       "<span style=\"color: #800000; text-decoration-color: #800000\">│</span>   <span style=\"color: #7f7f7f; text-decoration-color: #7f7f7f\">252 │   │   │   </span>batch = [<span style=\"color: #0000ff; text-decoration-color: #0000ff\">0</span>] * <span style=\"color: #00ffff; text-decoration-color: #00ffff\">self</span>.batch_size                                                  <span style=\"color: #800000; text-decoration-color: #800000\">│</span>\n",
       "<span style=\"color: #800000; text-decoration-color: #800000\">│</span>   <span style=\"color: #7f7f7f; text-decoration-color: #7f7f7f\">253 │   │   │   </span>idx_in_batch = <span style=\"color: #0000ff; text-decoration-color: #0000ff\">0</span>                                                               <span style=\"color: #800000; text-decoration-color: #800000\">│</span>\n",
       "<span style=\"color: #800000; text-decoration-color: #800000\">│</span> <span style=\"color: #800000; text-decoration-color: #800000\">❱ </span>254 <span style=\"color: #7f7f7f; text-decoration-color: #7f7f7f\">│   │   │   </span><span style=\"color: #0000ff; text-decoration-color: #0000ff\">for</span> idx <span style=\"color: #ff00ff; text-decoration-color: #ff00ff\">in</span> <span style=\"color: #00ffff; text-decoration-color: #00ffff\">self</span>.sampler:                                                       <span style=\"color: #800000; text-decoration-color: #800000\">│</span>\n",
       "<span style=\"color: #800000; text-decoration-color: #800000\">│</span>   <span style=\"color: #7f7f7f; text-decoration-color: #7f7f7f\">255 │   │   │   │   </span>batch[idx_in_batch] = idx                                                  <span style=\"color: #800000; text-decoration-color: #800000\">│</span>\n",
       "<span style=\"color: #800000; text-decoration-color: #800000\">│</span>   <span style=\"color: #7f7f7f; text-decoration-color: #7f7f7f\">256 │   │   │   │   </span>idx_in_batch += <span style=\"color: #0000ff; text-decoration-color: #0000ff\">1</span>                                                          <span style=\"color: #800000; text-decoration-color: #800000\">│</span>\n",
       "<span style=\"color: #800000; text-decoration-color: #800000\">│</span>   <span style=\"color: #7f7f7f; text-decoration-color: #7f7f7f\">257 │   │   │   │   </span><span style=\"color: #0000ff; text-decoration-color: #0000ff\">if</span> idx_in_batch == <span style=\"color: #00ffff; text-decoration-color: #00ffff\">self</span>.batch_size:                                        <span style=\"color: #800000; text-decoration-color: #800000\">│</span>\n",
       "<span style=\"color: #800000; text-decoration-color: #800000\">│</span>                                                                                                  <span style=\"color: #800000; text-decoration-color: #800000\">│</span>\n",
       "<span style=\"color: #800000; text-decoration-color: #800000\">│</span> <span style=\"color: #bfbf7f; text-decoration-color: #bfbf7f\">/home/marcin/Documents/mgr/semestr_II/nlp/nlp_l2/nlp_venv/lib/python3.10/site-packages/torch/uti</span> <span style=\"color: #800000; text-decoration-color: #800000\">│</span>\n",
       "<span style=\"color: #800000; text-decoration-color: #800000\">│</span> <span style=\"color: #bfbf7f; text-decoration-color: #bfbf7f\">ls/data/</span><span style=\"color: #808000; text-decoration-color: #808000; font-weight: bold\">sampler.py</span>:<span style=\"color: #0000ff; text-decoration-color: #0000ff\">76</span> in <span style=\"color: #00ff00; text-decoration-color: #00ff00\">__iter__</span>                                                                <span style=\"color: #800000; text-decoration-color: #800000\">│</span>\n",
       "<span style=\"color: #800000; text-decoration-color: #800000\">│</span>                                                                                                  <span style=\"color: #800000; text-decoration-color: #800000\">│</span>\n",
       "<span style=\"color: #800000; text-decoration-color: #800000\">│</span>   <span style=\"color: #7f7f7f; text-decoration-color: #7f7f7f\"> 73 │   │   </span><span style=\"color: #00ffff; text-decoration-color: #00ffff\">self</span>.data_source = data_source                                                     <span style=\"color: #800000; text-decoration-color: #800000\">│</span>\n",
       "<span style=\"color: #800000; text-decoration-color: #800000\">│</span>   <span style=\"color: #7f7f7f; text-decoration-color: #7f7f7f\"> 74 │   </span>                                                                                       <span style=\"color: #800000; text-decoration-color: #800000\">│</span>\n",
       "<span style=\"color: #800000; text-decoration-color: #800000\">│</span>   <span style=\"color: #7f7f7f; text-decoration-color: #7f7f7f\"> 75 │   </span><span style=\"color: #0000ff; text-decoration-color: #0000ff\">def</span> <span style=\"color: #00ff00; text-decoration-color: #00ff00\">__iter__</span>(<span style=\"color: #00ffff; text-decoration-color: #00ffff\">self</span>) -&gt; Iterator[<span style=\"color: #00ffff; text-decoration-color: #00ffff\">int</span>]:                                                   <span style=\"color: #800000; text-decoration-color: #800000\">│</span>\n",
       "<span style=\"color: #800000; text-decoration-color: #800000\">│</span> <span style=\"color: #800000; text-decoration-color: #800000\">❱ </span> 76 <span style=\"color: #7f7f7f; text-decoration-color: #7f7f7f\">│   │   </span><span style=\"color: #0000ff; text-decoration-color: #0000ff\">return</span> <span style=\"color: #00ffff; text-decoration-color: #00ffff\">iter</span>(<span style=\"color: #00ffff; text-decoration-color: #00ffff\">range</span>(<span style=\"color: #00ffff; text-decoration-color: #00ffff\">len</span>(<span style=\"color: #00ffff; text-decoration-color: #00ffff\">self</span>.data_source)))                                          <span style=\"color: #800000; text-decoration-color: #800000\">│</span>\n",
       "<span style=\"color: #800000; text-decoration-color: #800000\">│</span>   <span style=\"color: #7f7f7f; text-decoration-color: #7f7f7f\"> 77 │   </span>                                                                                       <span style=\"color: #800000; text-decoration-color: #800000\">│</span>\n",
       "<span style=\"color: #800000; text-decoration-color: #800000\">│</span>   <span style=\"color: #7f7f7f; text-decoration-color: #7f7f7f\"> 78 │   </span><span style=\"color: #0000ff; text-decoration-color: #0000ff\">def</span> <span style=\"color: #00ff00; text-decoration-color: #00ff00\">__len__</span>(<span style=\"color: #00ffff; text-decoration-color: #00ffff\">self</span>) -&gt; <span style=\"color: #00ffff; text-decoration-color: #00ffff\">int</span>:                                                              <span style=\"color: #800000; text-decoration-color: #800000\">│</span>\n",
       "<span style=\"color: #800000; text-decoration-color: #800000\">│</span>   <span style=\"color: #7f7f7f; text-decoration-color: #7f7f7f\"> 79 │   │   </span><span style=\"color: #0000ff; text-decoration-color: #0000ff\">return</span> <span style=\"color: #00ffff; text-decoration-color: #00ffff\">len</span>(<span style=\"color: #00ffff; text-decoration-color: #00ffff\">self</span>.data_source)                                                       <span style=\"color: #800000; text-decoration-color: #800000\">│</span>\n",
       "<span style=\"color: #800000; text-decoration-color: #800000\">╰──────────────────────────────────────────────────────────────────────────────────────────────────╯</span>\n",
       "<span style=\"color: #ff0000; text-decoration-color: #ff0000; font-weight: bold\">TypeError: </span><span style=\"color: #008000; text-decoration-color: #008000\">'dict'</span> object cannot be interpreted as an integer\n",
       "</pre>\n"
      ],
      "text/plain": [
       "\u001b[31m╭─\u001b[0m\u001b[31m──────────────────────────────\u001b[0m\u001b[31m \u001b[0m\u001b[1;31mTraceback \u001b[0m\u001b[1;2;31m(most recent call last)\u001b[0m\u001b[31m \u001b[0m\u001b[31m───────────────────────────────\u001b[0m\u001b[31m─╮\u001b[0m\n",
       "\u001b[31m│\u001b[0m \u001b[2;33m/tmp/ipykernel_18885/\u001b[0m\u001b[1;33m925624119.py\u001b[0m:\u001b[94m4\u001b[0m in \u001b[92m<module>\u001b[0m                                                  \u001b[31m│\u001b[0m\n",
       "\u001b[31m│\u001b[0m                                                                                                  \u001b[31m│\u001b[0m\n",
       "\u001b[31m│\u001b[0m \u001b[3;31m[Errno 2] No such file or directory: '/tmp/ipykernel_18885/925624119.py'\u001b[0m                         \u001b[31m│\u001b[0m\n",
       "\u001b[31m│\u001b[0m                                                                                                  \u001b[31m│\u001b[0m\n",
       "\u001b[31m│\u001b[0m \u001b[2;33m/home/marcin/Documents/mgr/semestr_II/nlp/nlp_l2/nlp_venv/lib/python3.10/site-packages/torch/uti\u001b[0m \u001b[31m│\u001b[0m\n",
       "\u001b[31m│\u001b[0m \u001b[2;33mls/data/\u001b[0m\u001b[1;33mdataloader.py\u001b[0m:\u001b[94m634\u001b[0m in \u001b[92m__next__\u001b[0m                                                            \u001b[31m│\u001b[0m\n",
       "\u001b[31m│\u001b[0m                                                                                                  \u001b[31m│\u001b[0m\n",
       "\u001b[31m│\u001b[0m   \u001b[2m 631 \u001b[0m\u001b[2m│   │   │   \u001b[0m\u001b[94mif\u001b[0m \u001b[96mself\u001b[0m._sampler_iter \u001b[95mis\u001b[0m \u001b[94mNone\u001b[0m:                                                \u001b[31m│\u001b[0m\n",
       "\u001b[31m│\u001b[0m   \u001b[2m 632 \u001b[0m\u001b[2m│   │   │   │   \u001b[0m\u001b[2m# TODO(https://github.com/pytorch/pytorch/issues/76750)\u001b[0m                   \u001b[31m│\u001b[0m\n",
       "\u001b[31m│\u001b[0m   \u001b[2m 633 \u001b[0m\u001b[2m│   │   │   │   \u001b[0m\u001b[96mself\u001b[0m._reset()  \u001b[2m# type: ignore[call-arg]\u001b[0m                                   \u001b[31m│\u001b[0m\n",
       "\u001b[31m│\u001b[0m \u001b[31m❱ \u001b[0m 634 \u001b[2m│   │   │   \u001b[0mdata = \u001b[96mself\u001b[0m._next_data()                                                      \u001b[31m│\u001b[0m\n",
       "\u001b[31m│\u001b[0m   \u001b[2m 635 \u001b[0m\u001b[2m│   │   │   \u001b[0m\u001b[96mself\u001b[0m._num_yielded += \u001b[94m1\u001b[0m                                                        \u001b[31m│\u001b[0m\n",
       "\u001b[31m│\u001b[0m   \u001b[2m 636 \u001b[0m\u001b[2m│   │   │   \u001b[0m\u001b[94mif\u001b[0m \u001b[96mself\u001b[0m._dataset_kind == _DatasetKind.Iterable \u001b[95mand\u001b[0m \\                          \u001b[31m│\u001b[0m\n",
       "\u001b[31m│\u001b[0m   \u001b[2m 637 \u001b[0m\u001b[2m│   │   │   │   │   \u001b[0m\u001b[96mself\u001b[0m._IterableDataset_len_called \u001b[95mis\u001b[0m \u001b[95mnot\u001b[0m \u001b[94mNone\u001b[0m \u001b[95mand\u001b[0m \\                    \u001b[31m│\u001b[0m\n",
       "\u001b[31m│\u001b[0m                                                                                                  \u001b[31m│\u001b[0m\n",
       "\u001b[31m│\u001b[0m \u001b[2;33m/home/marcin/Documents/mgr/semestr_II/nlp/nlp_l2/nlp_venv/lib/python3.10/site-packages/torch/uti\u001b[0m \u001b[31m│\u001b[0m\n",
       "\u001b[31m│\u001b[0m \u001b[2;33mls/data/\u001b[0m\u001b[1;33mdataloader.py\u001b[0m:\u001b[94m677\u001b[0m in \u001b[92m_next_data\u001b[0m                                                          \u001b[31m│\u001b[0m\n",
       "\u001b[31m│\u001b[0m                                                                                                  \u001b[31m│\u001b[0m\n",
       "\u001b[31m│\u001b[0m   \u001b[2m 674 \u001b[0m\u001b[2m│   │   │   \u001b[0m\u001b[96mself\u001b[0m._dataset_kind, \u001b[96mself\u001b[0m._dataset, \u001b[96mself\u001b[0m._auto_collation, \u001b[96mself\u001b[0m._collate_fn, \u001b[96ms\u001b[0m  \u001b[31m│\u001b[0m\n",
       "\u001b[31m│\u001b[0m   \u001b[2m 675 \u001b[0m\u001b[2m│   \u001b[0m                                                                                      \u001b[31m│\u001b[0m\n",
       "\u001b[31m│\u001b[0m   \u001b[2m 676 \u001b[0m\u001b[2m│   \u001b[0m\u001b[94mdef\u001b[0m \u001b[92m_next_data\u001b[0m(\u001b[96mself\u001b[0m):                                                                 \u001b[31m│\u001b[0m\n",
       "\u001b[31m│\u001b[0m \u001b[31m❱ \u001b[0m 677 \u001b[2m│   │   \u001b[0mindex = \u001b[96mself\u001b[0m._next_index()  \u001b[2m# may raise StopIteration\u001b[0m                             \u001b[31m│\u001b[0m\n",
       "\u001b[31m│\u001b[0m   \u001b[2m 678 \u001b[0m\u001b[2m│   │   \u001b[0mdata = \u001b[96mself\u001b[0m._dataset_fetcher.fetch(index)  \u001b[2m# may raise StopIteration\u001b[0m              \u001b[31m│\u001b[0m\n",
       "\u001b[31m│\u001b[0m   \u001b[2m 679 \u001b[0m\u001b[2m│   │   \u001b[0m\u001b[94mif\u001b[0m \u001b[96mself\u001b[0m._pin_memory:                                                              \u001b[31m│\u001b[0m\n",
       "\u001b[31m│\u001b[0m   \u001b[2m 680 \u001b[0m\u001b[2m│   │   │   \u001b[0mdata = _utils.pin_memory.pin_memory(data, \u001b[96mself\u001b[0m._pin_memory_device)            \u001b[31m│\u001b[0m\n",
       "\u001b[31m│\u001b[0m                                                                                                  \u001b[31m│\u001b[0m\n",
       "\u001b[31m│\u001b[0m \u001b[2;33m/home/marcin/Documents/mgr/semestr_II/nlp/nlp_l2/nlp_venv/lib/python3.10/site-packages/torch/uti\u001b[0m \u001b[31m│\u001b[0m\n",
       "\u001b[31m│\u001b[0m \u001b[2;33mls/data/\u001b[0m\u001b[1;33mdataloader.py\u001b[0m:\u001b[94m624\u001b[0m in \u001b[92m_next_index\u001b[0m                                                         \u001b[31m│\u001b[0m\n",
       "\u001b[31m│\u001b[0m                                                                                                  \u001b[31m│\u001b[0m\n",
       "\u001b[31m│\u001b[0m   \u001b[2m 621 \u001b[0m\u001b[2m│   │   │   \u001b[0m\u001b[96mself\u001b[0m._dataset = torch.utils.data.graph_settings.apply_random_seed(\u001b[96mself\u001b[0m._data  \u001b[31m│\u001b[0m\n",
       "\u001b[31m│\u001b[0m   \u001b[2m 622 \u001b[0m\u001b[2m│   \u001b[0m                                                                                      \u001b[31m│\u001b[0m\n",
       "\u001b[31m│\u001b[0m   \u001b[2m 623 \u001b[0m\u001b[2m│   \u001b[0m\u001b[94mdef\u001b[0m \u001b[92m_next_index\u001b[0m(\u001b[96mself\u001b[0m):                                                                \u001b[31m│\u001b[0m\n",
       "\u001b[31m│\u001b[0m \u001b[31m❱ \u001b[0m 624 \u001b[2m│   │   \u001b[0m\u001b[94mreturn\u001b[0m \u001b[96mnext\u001b[0m(\u001b[96mself\u001b[0m._sampler_iter)  \u001b[2m# may raise StopIteration\u001b[0m                        \u001b[31m│\u001b[0m\n",
       "\u001b[31m│\u001b[0m   \u001b[2m 625 \u001b[0m\u001b[2m│   \u001b[0m                                                                                      \u001b[31m│\u001b[0m\n",
       "\u001b[31m│\u001b[0m   \u001b[2m 626 \u001b[0m\u001b[2m│   \u001b[0m\u001b[94mdef\u001b[0m \u001b[92m_next_data\u001b[0m(\u001b[96mself\u001b[0m):                                                                 \u001b[31m│\u001b[0m\n",
       "\u001b[31m│\u001b[0m   \u001b[2m 627 \u001b[0m\u001b[2m│   │   \u001b[0m\u001b[94mraise\u001b[0m \u001b[96mNotImplementedError\u001b[0m                                                         \u001b[31m│\u001b[0m\n",
       "\u001b[31m│\u001b[0m                                                                                                  \u001b[31m│\u001b[0m\n",
       "\u001b[31m│\u001b[0m \u001b[2;33m/home/marcin/Documents/mgr/semestr_II/nlp/nlp_l2/nlp_venv/lib/python3.10/site-packages/torch/uti\u001b[0m \u001b[31m│\u001b[0m\n",
       "\u001b[31m│\u001b[0m \u001b[2;33mls/data/\u001b[0m\u001b[1;33msampler.py\u001b[0m:\u001b[94m254\u001b[0m in \u001b[92m__iter__\u001b[0m                                                               \u001b[31m│\u001b[0m\n",
       "\u001b[31m│\u001b[0m                                                                                                  \u001b[31m│\u001b[0m\n",
       "\u001b[31m│\u001b[0m   \u001b[2m251 \u001b[0m\u001b[2m│   │   \u001b[0m\u001b[94melse\u001b[0m:                                                                              \u001b[31m│\u001b[0m\n",
       "\u001b[31m│\u001b[0m   \u001b[2m252 \u001b[0m\u001b[2m│   │   │   \u001b[0mbatch = [\u001b[94m0\u001b[0m] * \u001b[96mself\u001b[0m.batch_size                                                  \u001b[31m│\u001b[0m\n",
       "\u001b[31m│\u001b[0m   \u001b[2m253 \u001b[0m\u001b[2m│   │   │   \u001b[0midx_in_batch = \u001b[94m0\u001b[0m                                                               \u001b[31m│\u001b[0m\n",
       "\u001b[31m│\u001b[0m \u001b[31m❱ \u001b[0m254 \u001b[2m│   │   │   \u001b[0m\u001b[94mfor\u001b[0m idx \u001b[95min\u001b[0m \u001b[96mself\u001b[0m.sampler:                                                       \u001b[31m│\u001b[0m\n",
       "\u001b[31m│\u001b[0m   \u001b[2m255 \u001b[0m\u001b[2m│   │   │   │   \u001b[0mbatch[idx_in_batch] = idx                                                  \u001b[31m│\u001b[0m\n",
       "\u001b[31m│\u001b[0m   \u001b[2m256 \u001b[0m\u001b[2m│   │   │   │   \u001b[0midx_in_batch += \u001b[94m1\u001b[0m                                                          \u001b[31m│\u001b[0m\n",
       "\u001b[31m│\u001b[0m   \u001b[2m257 \u001b[0m\u001b[2m│   │   │   │   \u001b[0m\u001b[94mif\u001b[0m idx_in_batch == \u001b[96mself\u001b[0m.batch_size:                                        \u001b[31m│\u001b[0m\n",
       "\u001b[31m│\u001b[0m                                                                                                  \u001b[31m│\u001b[0m\n",
       "\u001b[31m│\u001b[0m \u001b[2;33m/home/marcin/Documents/mgr/semestr_II/nlp/nlp_l2/nlp_venv/lib/python3.10/site-packages/torch/uti\u001b[0m \u001b[31m│\u001b[0m\n",
       "\u001b[31m│\u001b[0m \u001b[2;33mls/data/\u001b[0m\u001b[1;33msampler.py\u001b[0m:\u001b[94m76\u001b[0m in \u001b[92m__iter__\u001b[0m                                                                \u001b[31m│\u001b[0m\n",
       "\u001b[31m│\u001b[0m                                                                                                  \u001b[31m│\u001b[0m\n",
       "\u001b[31m│\u001b[0m   \u001b[2m 73 \u001b[0m\u001b[2m│   │   \u001b[0m\u001b[96mself\u001b[0m.data_source = data_source                                                     \u001b[31m│\u001b[0m\n",
       "\u001b[31m│\u001b[0m   \u001b[2m 74 \u001b[0m\u001b[2m│   \u001b[0m                                                                                       \u001b[31m│\u001b[0m\n",
       "\u001b[31m│\u001b[0m   \u001b[2m 75 \u001b[0m\u001b[2m│   \u001b[0m\u001b[94mdef\u001b[0m \u001b[92m__iter__\u001b[0m(\u001b[96mself\u001b[0m) -> Iterator[\u001b[96mint\u001b[0m]:                                                   \u001b[31m│\u001b[0m\n",
       "\u001b[31m│\u001b[0m \u001b[31m❱ \u001b[0m 76 \u001b[2m│   │   \u001b[0m\u001b[94mreturn\u001b[0m \u001b[96miter\u001b[0m(\u001b[96mrange\u001b[0m(\u001b[96mlen\u001b[0m(\u001b[96mself\u001b[0m.data_source)))                                          \u001b[31m│\u001b[0m\n",
       "\u001b[31m│\u001b[0m   \u001b[2m 77 \u001b[0m\u001b[2m│   \u001b[0m                                                                                       \u001b[31m│\u001b[0m\n",
       "\u001b[31m│\u001b[0m   \u001b[2m 78 \u001b[0m\u001b[2m│   \u001b[0m\u001b[94mdef\u001b[0m \u001b[92m__len__\u001b[0m(\u001b[96mself\u001b[0m) -> \u001b[96mint\u001b[0m:                                                              \u001b[31m│\u001b[0m\n",
       "\u001b[31m│\u001b[0m   \u001b[2m 79 \u001b[0m\u001b[2m│   │   \u001b[0m\u001b[94mreturn\u001b[0m \u001b[96mlen\u001b[0m(\u001b[96mself\u001b[0m.data_source)                                                       \u001b[31m│\u001b[0m\n",
       "\u001b[31m╰──────────────────────────────────────────────────────────────────────────────────────────────────╯\u001b[0m\n",
       "\u001b[1;91mTypeError: \u001b[0m\u001b[32m'dict'\u001b[0m object cannot be interpreted as an integer\n"
      ]
     },
     "metadata": {},
     "output_type": "display_data"
    }
   ],
   "source": [
    "from torch.utils.data import DataLoader\n",
    "\n",
    "dl = DataLoader(ds)\n",
    "next(iter(dl))"
   ]
  },
  {
   "cell_type": "code",
   "execution_count": 5,
   "metadata": {},
   "outputs": [
    {
     "data": {
      "text/html": [
       "<pre style=\"white-space:pre;overflow-x:auto;line-height:normal;font-family:Menlo,'DejaVu Sans Mono',consolas,'Courier New',monospace\"><span style=\"color: #800000; text-decoration-color: #800000\">╭─────────────────────────────── </span><span style=\"color: #800000; text-decoration-color: #800000; font-weight: bold\">Traceback </span><span style=\"color: #bf7f7f; text-decoration-color: #bf7f7f; font-weight: bold\">(most recent call last)</span><span style=\"color: #800000; text-decoration-color: #800000\"> ────────────────────────────────╮</span>\n",
       "<span style=\"color: #800000; text-decoration-color: #800000\">│</span> <span style=\"color: #bfbf7f; text-decoration-color: #bfbf7f\">/tmp/ipykernel_15438/</span><span style=\"color: #808000; text-decoration-color: #808000; font-weight: bold\">2417126976.py</span>:<span style=\"color: #0000ff; text-decoration-color: #0000ff\">1</span> in <span style=\"color: #00ff00; text-decoration-color: #00ff00\">&lt;module&gt;</span>                                                 <span style=\"color: #800000; text-decoration-color: #800000\">│</span>\n",
       "<span style=\"color: #800000; text-decoration-color: #800000\">│</span>                                                                                                  <span style=\"color: #800000; text-decoration-color: #800000\">│</span>\n",
       "<span style=\"color: #800000; text-decoration-color: #800000\">│</span> <span style=\"color: #800000; text-decoration-color: #800000; font-style: italic\">[Errno 2] No such file or directory: '/tmp/ipykernel_15438/2417126976.py'</span>                        <span style=\"color: #800000; text-decoration-color: #800000\">│</span>\n",
       "<span style=\"color: #800000; text-decoration-color: #800000\">╰──────────────────────────────────────────────────────────────────────────────────────────────────╯</span>\n",
       "<span style=\"color: #ff0000; text-decoration-color: #ff0000; font-weight: bold\">ImportError: </span>cannot import name <span style=\"color: #008000; text-decoration-color: #008000\">'version'</span> from <span style=\"color: #008000; text-decoration-color: #008000\">'datasets'</span> \n",
       "<span style=\"font-weight: bold\">(</span><span style=\"color: #800080; text-decoration-color: #800080\">/home/marcin/Documents/mgr/semestr_II/nlp/nlp_l2/nlp_venv/lib/python3.10/site-packages/datasets/</span><span style=\"color: #ff00ff; text-decoration-color: #ff00ff\">__init__.py</span><span style=\"font-weight: bold\">)</span>\n",
       "</pre>\n"
      ],
      "text/plain": [
       "\u001b[31m╭─\u001b[0m\u001b[31m──────────────────────────────\u001b[0m\u001b[31m \u001b[0m\u001b[1;31mTraceback \u001b[0m\u001b[1;2;31m(most recent call last)\u001b[0m\u001b[31m \u001b[0m\u001b[31m───────────────────────────────\u001b[0m\u001b[31m─╮\u001b[0m\n",
       "\u001b[31m│\u001b[0m \u001b[2;33m/tmp/ipykernel_15438/\u001b[0m\u001b[1;33m2417126976.py\u001b[0m:\u001b[94m1\u001b[0m in \u001b[92m<module>\u001b[0m                                                 \u001b[31m│\u001b[0m\n",
       "\u001b[31m│\u001b[0m                                                                                                  \u001b[31m│\u001b[0m\n",
       "\u001b[31m│\u001b[0m \u001b[3;31m[Errno 2] No such file or directory: '/tmp/ipykernel_15438/2417126976.py'\u001b[0m                        \u001b[31m│\u001b[0m\n",
       "\u001b[31m╰──────────────────────────────────────────────────────────────────────────────────────────────────╯\u001b[0m\n",
       "\u001b[1;91mImportError: \u001b[0mcannot import name \u001b[32m'version'\u001b[0m from \u001b[32m'datasets'\u001b[0m \n",
       "\u001b[1m(\u001b[0m\u001b[35m/home/marcin/Documents/mgr/semestr_II/nlp/nlp_l2/nlp_venv/lib/python3.10/site-packages/datasets/\u001b[0m\u001b[95m__init__.py\u001b[0m\u001b[1m)\u001b[0m\n"
      ]
     },
     "metadata": {},
     "output_type": "display_data"
    }
   ],
   "source": [
    "from datasets import load_dataset, version\n",
    "version\n",
    "# # Check if \"wiki40b\" dataset is cached\n",
    "# if is_cached(\"wiki40b\"):\n",
    "#     print(\"Cached version of 'wiki40b' dataset is available.\")\n",
    "# else:\n",
    "#     print(\"Cached version of 'wiki40b' dataset is not available.\")\n"
   ]
  },
  {
   "cell_type": "code",
   "execution_count": 12,
   "metadata": {},
   "outputs": [
    {
     "data": {
      "application/vnd.jupyter.widget-view+json": {
       "model_id": "30547620580643e895d944f271b3da4c",
       "version_major": 2,
       "version_minor": 0
      },
      "text/plain": [
       "Resolving data files:   0%|          | 0/2145 [00:00<?, ?it/s]"
      ]
     },
     "metadata": {},
     "output_type": "display_data"
    },
    {
     "name": "stdout",
     "output_type": "stream",
     "text": [
      "Downloading and preparing dataset imagefolder/Wrocław, PL to /home/marcin/.cache/huggingface/datasets/imagefolder/Wrocław, PL-16adbde1af182d57/0.0.0/37fbb85cc714a338bea574ac6c7d0b5be5aff46c1862c1989b20e0771199e93f...\n"
     ]
    },
    {
     "data": {
      "application/vnd.jupyter.widget-view+json": {
       "model_id": "45b15a25e6984f0e8e30eea793cfa2ea",
       "version_major": 2,
       "version_minor": 0
      },
      "text/plain": [
       "Downloading data files:   0%|          | 0/2145 [00:00<?, ?it/s]"
      ]
     },
     "metadata": {},
     "output_type": "display_data"
    },
    {
     "data": {
      "application/vnd.jupyter.widget-view+json": {
       "model_id": "1d4dfc333ca9410cae6c0bbd248de985",
       "version_major": 2,
       "version_minor": 0
      },
      "text/plain": [
       "Downloading data files: 0it [00:00, ?it/s]"
      ]
     },
     "metadata": {},
     "output_type": "display_data"
    },
    {
     "data": {
      "application/vnd.jupyter.widget-view+json": {
       "model_id": "f9d49f7a951343b1a83baf52d7f53e1a",
       "version_major": 2,
       "version_minor": 0
      },
      "text/plain": [
       "Extracting data files: 0it [00:00, ?it/s]"
      ]
     },
     "metadata": {},
     "output_type": "display_data"
    },
    {
     "data": {
      "application/vnd.jupyter.widget-view+json": {
       "model_id": "b984c1cb1ecb4b8882d18a5db1981be2",
       "version_major": 2,
       "version_minor": 0
      },
      "text/plain": [
       "Generating train split: 0 examples [00:00, ? examples/s]"
      ]
     },
     "metadata": {},
     "output_type": "display_data"
    },
    {
     "name": "stdout",
     "output_type": "stream",
     "text": [
      "Dataset imagefolder downloaded and prepared to /home/marcin/.cache/huggingface/datasets/imagefolder/Wrocław, PL-16adbde1af182d57/0.0.0/37fbb85cc714a338bea574ac6c7d0b5be5aff46c1862c1989b20e0771199e93f. Subsequent calls will reuse this data.\n"
     ]
    },
    {
     "data": {
      "application/vnd.jupyter.widget-view+json": {
       "model_id": "bdfaa8dc76f84d7bbd96a8a2e053282c",
       "version_major": 2,
       "version_minor": 0
      },
      "text/plain": [
       "  0%|          | 0/1 [00:00<?, ?it/s]"
      ]
     },
     "metadata": {},
     "output_type": "display_data"
    }
   ],
   "source": [
    "ds = load_dataset(DATA_DIR)"
   ]
  },
  {
   "cell_type": "code",
   "execution_count": 15,
   "metadata": {},
   "outputs": [
    {
     "data": {
      "text/plain": [
       "HFCacheInfo(size_on_disk=4372811342, repos=frozenset({CachedRepoInfo(repo_id='hf-internal-testing/tiny-stable-diffusion-pipe', repo_type='model', repo_path=PosixPath('/home/marcin/.cache/huggingface/hub/models--hf-internal-testing--tiny-stable-diffusion-pipe'), size_on_disk=8824686, nb_files=11, revisions=frozenset({CachedRevisionInfo(commit_hash='8051a73213fc78161923542a134cb88eddb5ebdd', snapshot_path=PosixPath('/home/marcin/.cache/huggingface/hub/models--hf-internal-testing--tiny-stable-diffusion-pipe/snapshots/8051a73213fc78161923542a134cb88eddb5ebdd'), size_on_disk=8824686, files=frozenset({CachedFileInfo(file_name='pytorch_model.bin', file_path=PosixPath('/home/marcin/.cache/huggingface/hub/models--hf-internal-testing--tiny-stable-diffusion-pipe/snapshots/8051a73213fc78161923542a134cb88eddb5ebdd/text_encoder/pytorch_model.bin'), blob_path=PosixPath('/home/marcin/.cache/huggingface/hub/models--hf-internal-testing--tiny-stable-diffusion-pipe/blobs/9d56720d7eb5270ea803289848671ddcc3de5c80a56641e88148136d2de28ed8'), size_on_disk=300646, blob_last_accessed=1681773505.3712993, blob_last_modified=1681773505.6513019), CachedFileInfo(file_name='scheduler_config.json', file_path=PosixPath('/home/marcin/.cache/huggingface/hub/models--hf-internal-testing--tiny-stable-diffusion-pipe/snapshots/8051a73213fc78161923542a134cb88eddb5ebdd/scheduler/scheduler_config.json'), blob_path=PosixPath('/home/marcin/.cache/huggingface/hub/models--hf-internal-testing--tiny-stable-diffusion-pipe/blobs/9e62adbcc1557aa252534776a786f498b6ec967e'), size_on_disk=237, blob_last_accessed=1681773504.1746218, blob_last_modified=1681773504.4012907), CachedFileInfo(file_name='config.json', file_path=PosixPath('/home/marcin/.cache/huggingface/hub/models--hf-internal-testing--tiny-stable-diffusion-pipe/snapshots/8051a73213fc78161923542a134cb88eddb5ebdd/unet/config.json'), blob_path=PosixPath('/home/marcin/.cache/huggingface/hub/models--hf-internal-testing--tiny-stable-diffusion-pipe/blobs/23816800ebb5473658990794f728b323b5c98c75'), size_on_disk=438, blob_last_accessed=1681773506.901313, blob_last_modified=1681773507.1279817), CachedFileInfo(file_name='merges.txt', file_path=PosixPath('/home/marcin/.cache/huggingface/hub/models--hf-internal-testing--tiny-stable-diffusion-pipe/snapshots/8051a73213fc78161923542a134cb88eddb5ebdd/tokenizer/merges.txt'), blob_path=PosixPath('/home/marcin/.cache/huggingface/hub/models--hf-internal-testing--tiny-stable-diffusion-pipe/blobs/e9193d6fc11f7b6e281b4686221363b6cdc4e576'), size_on_disk=4780, blob_last_accessed=1681773502.4346063, blob_last_modified=1681773502.6746085), CachedFileInfo(file_name='diffusion_pytorch_model.bin', file_path=PosixPath('/home/marcin/.cache/huggingface/hub/models--hf-internal-testing--tiny-stable-diffusion-pipe/snapshots/8051a73213fc78161923542a134cb88eddb5ebdd/vae/diffusion_pytorch_model.bin'), blob_path=PosixPath('/home/marcin/.cache/huggingface/hub/models--hf-internal-testing--tiny-stable-diffusion-pipe/blobs/56861600bf1a29357ccb828f66ed2a1747b9026c894ab47aaacb082b20673f41'), size_on_disk=2678089, blob_last_accessed=1681773506.3546414, blob_last_modified=1681773506.644644), CachedFileInfo(file_name='diffusion_pytorch_model.bin', file_path=PosixPath('/home/marcin/.cache/huggingface/hub/models--hf-internal-testing--tiny-stable-diffusion-pipe/snapshots/8051a73213fc78161923542a134cb88eddb5ebdd/unet/diffusion_pytorch_model.bin'), blob_path=PosixPath('/home/marcin/.cache/huggingface/hub/models--hf-internal-testing--tiny-stable-diffusion-pipe/blobs/228772f10e985dbe23aa818dc665754ad635d043e2d18c1a5cf1b1b8d34961a4'), size_on_disk=5824609, blob_last_accessed=1681773507.3479836, blob_last_modified=1681773507.6946535), CachedFileInfo(file_name='config.json', file_path=PosixPath('/home/marcin/.cache/huggingface/hub/models--hf-internal-testing--tiny-stable-diffusion-pipe/snapshots/8051a73213fc78161923542a134cb88eddb5ebdd/vae/config.json'), blob_path=PosixPath('/home/marcin/.cache/huggingface/hub/models--hf-internal-testing--tiny-stable-diffusion-pipe/blobs/08790c0388b59d2a88718a67239ce384a1415cbd'), size_on_disk=435, blob_last_accessed=1681773505.891304, blob_last_modified=1681773506.1246395), CachedFileInfo(file_name='config.json', file_path=PosixPath('/home/marcin/.cache/huggingface/hub/models--hf-internal-testing--tiny-stable-diffusion-pipe/snapshots/8051a73213fc78161923542a134cb88eddb5ebdd/text_encoder/config.json'), blob_path=PosixPath('/home/marcin/.cache/huggingface/hub/models--hf-internal-testing--tiny-stable-diffusion-pipe/blobs/de1413b5376eafea1c49afa15a54e478f66c8eb8'), size_on_disk=534, blob_last_accessed=1681773504.9012952, blob_last_modified=1681773505.1246305), CachedFileInfo(file_name='vocab.json', file_path=PosixPath('/home/marcin/.cache/huggingface/hub/models--hf-internal-testing--tiny-stable-diffusion-pipe/snapshots/8051a73213fc78161923542a134cb88eddb5ebdd/tokenizer/vocab.json'), blob_path=PosixPath('/home/marcin/.cache/huggingface/hub/models--hf-internal-testing--tiny-stable-diffusion-pipe/blobs/67c203f550a5c376198d25e6d2b22f9e7c008b9f'), size_on_disk=13551, blob_last_accessed=1681773501.954602, blob_last_modified=1681773502.1912708), CachedFileInfo(file_name='tokenizer_config.json', file_path=PosixPath('/home/marcin/.cache/huggingface/hub/models--hf-internal-testing--tiny-stable-diffusion-pipe/snapshots/8051a73213fc78161923542a134cb88eddb5ebdd/tokenizer/tokenizer_config.json'), blob_path=PosixPath('/home/marcin/.cache/huggingface/hub/models--hf-internal-testing--tiny-stable-diffusion-pipe/blobs/7532cd4b194060007a910f5796d3a45ed8015fac'), size_on_disk=978, blob_last_accessed=1681773503.634617, blob_last_modified=1681773503.8979528), CachedFileInfo(file_name='special_tokens_map.json', file_path=PosixPath('/home/marcin/.cache/huggingface/hub/models--hf-internal-testing--tiny-stable-diffusion-pipe/snapshots/8051a73213fc78161923542a134cb88eddb5ebdd/tokenizer/special_tokens_map.json'), blob_path=PosixPath('/home/marcin/.cache/huggingface/hub/models--hf-internal-testing--tiny-stable-diffusion-pipe/blobs/9bfb42aa97dcd61e89f279ccaee988bccb4fabae'), size_on_disk=389, blob_last_accessed=1681773503.157946, blob_last_modified=1681773503.3979483)}), refs=frozenset({'main'}), last_modified=1681773507.6946535)}), last_accessed=1681773507.3479836, last_modified=1681773507.6946535), CachedRepoInfo(repo_id='stabilityai/stable-diffusion-2', repo_type='model', repo_path=PosixPath('/home/marcin/.cache/huggingface/hub/models--stabilityai--stable-diffusion-2'), size_on_disk=1585865, nb_files=4, revisions=frozenset({CachedRevisionInfo(commit_hash='07753ec23aeaf08862a5f6a8fcb0f9a883863b1b', snapshot_path=PosixPath('/home/marcin/.cache/huggingface/hub/models--stabilityai--stable-diffusion-2/snapshots/07753ec23aeaf08862a5f6a8fcb0f9a883863b1b'), size_on_disk=1585865, files=frozenset({CachedFileInfo(file_name='tokenizer_config.json', file_path=PosixPath('/home/marcin/.cache/huggingface/hub/models--stabilityai--stable-diffusion-2/snapshots/07753ec23aeaf08862a5f6a8fcb0f9a883863b1b/tokenizer/tokenizer_config.json'), blob_path=PosixPath('/home/marcin/.cache/huggingface/hub/models--stabilityai--stable-diffusion-2/blobs/f4fe219b936c0e171504b4bba0c33c7bef6ea211'), size_on_disk=824, blob_last_accessed=1681722094.9137416, blob_last_modified=1681722095.1504087), CachedFileInfo(file_name='special_tokens_map.json', file_path=PosixPath('/home/marcin/.cache/huggingface/hub/models--stabilityai--stable-diffusion-2/snapshots/07753ec23aeaf08862a5f6a8fcb0f9a883863b1b/tokenizer/special_tokens_map.json'), blob_path=PosixPath('/home/marcin/.cache/huggingface/hub/models--stabilityai--stable-diffusion-2/blobs/ae0c5be6f35217e51c4c000fd325d8de0294e99c'), size_on_disk=460, blob_last_accessed=1681722094.4637408, blob_last_modified=1681722094.683741), CachedFileInfo(file_name='vocab.json', file_path=PosixPath('/home/marcin/.cache/huggingface/hub/models--stabilityai--stable-diffusion-2/snapshots/07753ec23aeaf08862a5f6a8fcb0f9a883863b1b/tokenizer/vocab.json'), blob_path=PosixPath('/home/marcin/.cache/huggingface/hub/models--stabilityai--stable-diffusion-2/blobs/469be27c5c010538f845f518c4f5e8574c78f7c8'), size_on_disk=1059962, blob_last_accessed=1681722092.6370711, blob_last_modified=1681722093.3570724), CachedFileInfo(file_name='merges.txt', file_path=PosixPath('/home/marcin/.cache/huggingface/hub/models--stabilityai--stable-diffusion-2/snapshots/07753ec23aeaf08862a5f6a8fcb0f9a883863b1b/tokenizer/merges.txt'), blob_path=PosixPath('/home/marcin/.cache/huggingface/hub/models--stabilityai--stable-diffusion-2/blobs/76e821f1b6f0a9709293c3b6b51ed90980b3166b'), size_on_disk=524619, blob_last_accessed=1681722093.6504061, blob_last_modified=1681722094.01374)}), refs=frozenset({'main'}), last_modified=1681722095.1504087)}), last_accessed=1681722094.9137416, last_modified=1681722095.1504087), CachedRepoInfo(repo_id='OFA-Sys/small-stable-diffusion-v0', repo_type='model', repo_path=PosixPath('/home/marcin/.cache/huggingface/hub/models--OFA-Sys--small-stable-diffusion-v0'), size_on_disk=4362400186, nb_files=15, revisions=frozenset({CachedRevisionInfo(commit_hash='38e10e5e71e8fbf717a47a81e7543cd01c1a8140', snapshot_path=PosixPath('/home/marcin/.cache/huggingface/hub/models--OFA-Sys--small-stable-diffusion-v0/snapshots/38e10e5e71e8fbf717a47a81e7543cd01c1a8140'), size_on_disk=4362400186, files=frozenset({CachedFileInfo(file_name='config.json', file_path=PosixPath('/home/marcin/.cache/huggingface/hub/models--OFA-Sys--small-stable-diffusion-v0/snapshots/38e10e5e71e8fbf717a47a81e7543cd01c1a8140/safety_checker/config.json'), blob_path=PosixPath('/home/marcin/.cache/huggingface/hub/models--OFA-Sys--small-stable-diffusion-v0/blobs/b39247bebbec7e468136acc636ac69b08498df99'), size_on_disk=4795, blob_last_accessed=1679312171.0775208, blob_last_modified=1679312171.5575242), CachedFileInfo(file_name='model_index.json', file_path=PosixPath('/home/marcin/.cache/huggingface/hub/models--OFA-Sys--small-stable-diffusion-v0/snapshots/38e10e5e71e8fbf717a47a81e7543cd01c1a8140/model_index.json'), blob_path=PosixPath('/home/marcin/.cache/huggingface/hub/models--OFA-Sys--small-stable-diffusion-v0/blobs/e2d17781f1cc44993885dc881c207b9c00a03eff'), size_on_disk=560, blob_last_accessed=1679312168.2108333, blob_last_modified=1679312168.6941702), CachedFileInfo(file_name='config.json', file_path=PosixPath('/home/marcin/.cache/huggingface/hub/models--OFA-Sys--small-stable-diffusion-v0/snapshots/38e10e5e71e8fbf717a47a81e7543cd01c1a8140/vae/config.json'), blob_path=PosixPath('/home/marcin/.cache/huggingface/hub/models--OFA-Sys--small-stable-diffusion-v0/blobs/51be107946b5d3de0fba19c35e11f5f562f42f05'), size_on_disk=581, blob_last_accessed=1679306947.696671, blob_last_modified=1679306948.1800067), CachedFileInfo(file_name='diffusion_pytorch_model.bin', file_path=PosixPath('/home/marcin/.cache/huggingface/hub/models--OFA-Sys--small-stable-diffusion-v0/snapshots/38e10e5e71e8fbf717a47a81e7543cd01c1a8140/vae/diffusion_pytorch_model.bin'), blob_path=PosixPath('/home/marcin/.cache/huggingface/hub/models--OFA-Sys--small-stable-diffusion-v0/blobs/d16a79cb6c6127b8965341d585af620c4fd9362c4d33d561213d2bdd2f0727fb'), size_on_disk=334710673, blob_last_accessed=1679306936.42995, blob_last_modified=1679306947.2133353), CachedFileInfo(file_name='tokenizer_config.json', file_path=PosixPath('/home/marcin/.cache/huggingface/hub/models--OFA-Sys--small-stable-diffusion-v0/snapshots/38e10e5e71e8fbf717a47a81e7543cd01c1a8140/tokenizer/tokenizer_config.json'), blob_path=PosixPath('/home/marcin/.cache/huggingface/hub/models--OFA-Sys--small-stable-diffusion-v0/blobs/ce84c31f1e7d68b96860034b8247da947a328d03'), size_on_disk=836, blob_last_accessed=1679306914.1165092, blob_last_modified=1679306914.6065116), CachedFileInfo(file_name='preprocessor_config.json', file_path=PosixPath('/home/marcin/.cache/huggingface/hub/models--OFA-Sys--small-stable-diffusion-v0/snapshots/38e10e5e71e8fbf717a47a81e7543cd01c1a8140/feature_extractor/preprocessor_config.json'), blob_path=PosixPath('/home/marcin/.cache/huggingface/hub/models--OFA-Sys--small-stable-diffusion-v0/blobs/0d9d33b883843d1b370da781f3943051067e1b2c'), size_on_disk=518, blob_last_accessed=1679312170.1208472, blob_last_modified=1679312170.5908506), CachedFileInfo(file_name='config.json', file_path=PosixPath('/home/marcin/.cache/huggingface/hub/models--OFA-Sys--small-stable-diffusion-v0/snapshots/38e10e5e71e8fbf717a47a81e7543cd01c1a8140/text_encoder/config.json'), blob_path=PosixPath('/home/marcin/.cache/huggingface/hub/models--OFA-Sys--small-stable-diffusion-v0/blobs/2b0b77393e8a1b2e10de9758043048ebc80d80e1'), size_on_disk=560, blob_last_accessed=1679306915.1565142, blob_last_modified=1679306915.6365166), CachedFileInfo(file_name='special_tokens_map.json', file_path=PosixPath('/home/marcin/.cache/huggingface/hub/models--OFA-Sys--small-stable-diffusion-v0/snapshots/38e10e5e71e8fbf717a47a81e7543cd01c1a8140/tokenizer/special_tokens_map.json'), blob_path=PosixPath('/home/marcin/.cache/huggingface/hub/models--OFA-Sys--small-stable-diffusion-v0/blobs/2c2130b544c0c5a72d5d00da071ba130a9800fb2'), size_on_disk=472, blob_last_accessed=1679306913.1431713, blob_last_modified=1679306913.6331737), CachedFileInfo(file_name='merges.txt', file_path=PosixPath('/home/marcin/.cache/huggingface/hub/models--OFA-Sys--small-stable-diffusion-v0/snapshots/38e10e5e71e8fbf717a47a81e7543cd01c1a8140/tokenizer/merges.txt'), blob_path=PosixPath('/home/marcin/.cache/huggingface/hub/models--OFA-Sys--small-stable-diffusion-v0/blobs/76e821f1b6f0a9709293c3b6b51ed90980b3166b'), size_on_disk=524619, blob_last_accessed=1679306911.186495, blob_last_modified=1679306912.139833), CachedFileInfo(file_name='pytorch_model.bin', file_path=PosixPath('/home/marcin/.cache/huggingface/hub/models--OFA-Sys--small-stable-diffusion-v0/snapshots/38e10e5e71e8fbf717a47a81e7543cd01c1a8140/safety_checker/pytorch_model.bin'), blob_path=PosixPath('/home/marcin/.cache/huggingface/hub/models--OFA-Sys--small-stable-diffusion-v0/blobs/75f5f098f12e0b765dd8f917182dccbea8c87d269265f3e616cf67282c426940'), size_on_disk=1216067303, blob_last_accessed=1679312172.0408611, blob_last_modified=1679312206.447781), CachedFileInfo(file_name='scheduler_config.json', file_path=PosixPath('/home/marcin/.cache/huggingface/hub/models--OFA-Sys--small-stable-diffusion-v0/snapshots/38e10e5e71e8fbf717a47a81e7543cd01c1a8140/scheduler/scheduler_config.json'), blob_path=PosixPath('/home/marcin/.cache/huggingface/hub/models--OFA-Sys--small-stable-diffusion-v0/blobs/42b783e709999068c767bde1f30b3bbf8d23fe77'), size_on_disk=459, blob_last_accessed=1679306908.5964828, blob_last_modified=1679306909.0798182), CachedFileInfo(file_name='vocab.json', file_path=PosixPath('/home/marcin/.cache/huggingface/hub/models--OFA-Sys--small-stable-diffusion-v0/snapshots/38e10e5e71e8fbf717a47a81e7543cd01c1a8140/tokenizer/vocab.json'), blob_path=PosixPath('/home/marcin/.cache/huggingface/hub/models--OFA-Sys--small-stable-diffusion-v0/blobs/469be27c5c010538f845f518c4f5e8574c78f7c8'), size_on_disk=1059962, blob_last_accessed=1679306909.5931542, blob_last_modified=1679306910.7098262), CachedFileInfo(file_name='config.json', file_path=PosixPath('/home/marcin/.cache/huggingface/hub/models--OFA-Sys--small-stable-diffusion-v0/snapshots/38e10e5e71e8fbf717a47a81e7543cd01c1a8140/unet/config.json'), blob_path=PosixPath('/home/marcin/.cache/huggingface/hub/models--OFA-Sys--small-stable-diffusion-v0/blobs/4580c899b0e2552c90589db91188e845bc6378f9'), size_on_disk=748, blob_last_accessed=1679307016.2970014, blob_last_modified=1679307016.780337), CachedFileInfo(file_name='pytorch_model.bin', file_path=PosixPath('/home/marcin/.cache/huggingface/hub/models--OFA-Sys--small-stable-diffusion-v0/snapshots/38e10e5e71e8fbf717a47a81e7543cd01c1a8140/text_encoder/pytorch_model.bin'), blob_path=PosixPath('/home/marcin/.cache/huggingface/hub/models--OFA-Sys--small-stable-diffusion-v0/blobs/2de7a84d9501053703047206ad888d6e9814081444dcc5debb316bd1db06a232'), size_on_disk=492308087, blob_last_accessed=1679306916.126519, blob_last_modified=1679306935.1666107), CachedFileInfo(file_name='diffusion_pytorch_model.bin', file_path=PosixPath('/home/marcin/.cache/huggingface/hub/models--OFA-Sys--small-stable-diffusion-v0/snapshots/38e10e5e71e8fbf717a47a81e7543cd01c1a8140/unet/diffusion_pytorch_model.bin'), blob_path=PosixPath('/home/marcin/.cache/huggingface/hub/models--OFA-Sys--small-stable-diffusion-v0/blobs/2cb22aebb48a8ba4f44bde337f5a0dc6fc251dd889829da2a54bc9e6e94fef41'), size_on_disk=2317720013, blob_last_accessed=1679306948.7600095, blob_last_modified=1679307015.7803323)}), refs=frozenset({'main'}), last_modified=1679312206.447781)}), last_accessed=1679312172.0408611, last_modified=1679312206.447781), CachedRepoInfo(repo_id='google/t5-v1_1-base', repo_type='model', repo_path=PosixPath('/home/marcin/.cache/huggingface/hub/models--google--t5-v1_1-base'), size_on_disk=605, nb_files=1, revisions=frozenset({CachedRevisionInfo(commit_hash='b5fc947a416ea3cb079532cb3c2bbadeb7f800fc', snapshot_path=PosixPath('/home/marcin/.cache/huggingface/hub/models--google--t5-v1_1-base/snapshots/b5fc947a416ea3cb079532cb3c2bbadeb7f800fc'), size_on_disk=605, files=frozenset({CachedFileInfo(file_name='config.json', file_path=PosixPath('/home/marcin/.cache/huggingface/hub/models--google--t5-v1_1-base/snapshots/b5fc947a416ea3cb079532cb3c2bbadeb7f800fc/config.json'), blob_path=PosixPath('/home/marcin/.cache/huggingface/hub/models--google--t5-v1_1-base/blobs/032298d1a67fc381da24c2d04ea9085767fdf41a'), size_on_disk=605, blob_last_accessed=1681722096.0904102, blob_last_modified=1681722096.3137438)}), refs=frozenset({'main'}), last_modified=1681722096.3137438)}), last_accessed=1681722096.0904102, last_modified=1681722096.3137438)}), warnings=[CorruptedCacheException('Repo path is not a directory: /home/marcin/.cache/huggingface/hub/version.txt'), CorruptedCacheException(\"Snapshots dir doesn't exist in cached repo: /home/marcin/.cache/huggingface/hub/models--models--stable_wroclaw_pipeline/snapshots\"), CorruptedCacheException('Repo path is not a directory: /home/marcin/.cache/huggingface/hub/version_diffusers_cache.txt'), CorruptedCacheException(\"Snapshots dir doesn't exist in cached repo: /home/marcin/.cache/huggingface/hub/models--models--stable_wroclaw_test_pipeline/snapshots\")])"
      ]
     },
     "execution_count": 15,
     "metadata": {},
     "output_type": "execute_result"
    }
   ],
   "source": [
    "from huggingface_hub import scan_cache_dir\n",
    "\n",
    "hf_cache_info = scan_cache_dir()\n",
    "hf_cache_info"
   ]
  }
 ],
 "metadata": {
  "kernelspec": {
   "display_name": "Python 3 (ipykernel)",
   "language": "python",
   "name": "python3"
  },
  "language_info": {
   "codemirror_mode": {
    "name": "ipython",
    "version": 3
   },
   "file_extension": ".py",
   "mimetype": "text/x-python",
   "name": "python",
   "nbconvert_exporter": "python",
   "pygments_lexer": "ipython3",
   "version": "3.10.10"
  },
  "vscode": {
   "interpreter": {
    "hash": "685727852e42551632e0fc1e43e361d886b7ddaddaf1474b2acdf6903161a758"
   }
  }
 },
 "nbformat": 4,
 "nbformat_minor": 2
}
