{
 "cells": [
  {
   "attachments": {},
   "cell_type": "markdown",
   "metadata": {},
   "source": [
    "# Datasets creation"
   ]
  },
  {
   "cell_type": "code",
   "execution_count": 6,
   "metadata": {},
   "outputs": [],
   "source": [
    "import os\n",
    "from itertools import product\n",
    "\n",
    "import numpy as np\n",
    "import pandas as pd\n",
    "from datasets import load_dataset\n",
    "from functional import seq\n",
    "from config import TAGS\n",
    "from tqdm import tqdm\n",
    "\n",
    "from map_generation.osm_dataset import TextToImageDataset"
   ]
  },
  {
   "attachments": {},
   "cell_type": "markdown",
   "metadata": {},
   "source": [
    "# Prepare data"
   ]
  },
  {
   "cell_type": "code",
   "execution_count": 7,
   "metadata": {},
   "outputs": [
    {
     "data": {
      "text/plain": [
       "['aeroway_aerodrome',\n",
       " 'aeroway_apron',\n",
       " 'aeroway_gate',\n",
       " 'aeroway_hangar',\n",
       " 'aeroway_helipad']"
      ]
     },
     "execution_count": 7,
     "metadata": {},
     "output_type": "execute_result"
    }
   ],
   "source": [
    "def _flatten_tags(tags):\n",
    "    tags_flat = (\n",
    "        seq(tags.items())\n",
    "        .starmap(lambda k, v: product([k], v if isinstance(v, list) else [v]))\n",
    "        .flatten()\n",
    "        .map(lambda x: \"_\".join(x))\n",
    "        .list()\n",
    "    )\n",
    "    return tags_flat\n",
    "columns = _flatten_tags(TAGS)\n",
    "columns[:5]"
   ]
  },
  {
   "attachments": {},
   "cell_type": "markdown",
   "metadata": {},
   "source": [
    "# Saving metadata to image folders\n",
    "Code creates csv with tags in each city's tiles folder. Metadata.csv is used to generate captions.\n",
    "\n",
    "Due to changes in srai.SippyMapRegionizer this code does not run with embeddings present in drive. You can skip this step - on drive are folders with created metadata.csv or use freshly created embeddings with previous notebook."
   ]
  },
  {
   "cell_type": "code",
   "execution_count": 8,
   "metadata": {},
   "outputs": [
    {
     "name": "stderr",
     "output_type": "stream",
     "text": [
      "100%|██████████| 46/46 [00:21<00:00,  2.16it/s]\n"
     ]
    }
   ],
   "source": [
    "for city in tqdm(os.listdir(\"../data/tiles\")):\n",
    "    path_to_embedding = f\"../data/embeddings_roads/{city}.pkl\"\n",
    "    if os.path.exists(path_to_embedding):\n",
    "        df = pd.read_pickle(path_to_embedding)\n",
    "        df = df.reindex(columns=columns, fill_value=0)\n",
    "        df.index = df.index + \".png\"\n",
    "        df.index = df.index.rename(\"file_name\")\n",
    "        path = f\"../data/tiles/{city}/metadata.csv\"\n",
    "        df.to_csv(path)\n",
    "    else :\n",
    "        print(city, \"not found\")"
   ]
  },
  {
   "cell_type": "code",
   "execution_count": 10,
   "metadata": {},
   "outputs": [
    {
     "data": {
      "text/html": [
       "<div>\n",
       "<style scoped>\n",
       "    .dataframe tbody tr th:only-of-type {\n",
       "        vertical-align: middle;\n",
       "    }\n",
       "\n",
       "    .dataframe tbody tr th {\n",
       "        vertical-align: top;\n",
       "    }\n",
       "\n",
       "    .dataframe thead th {\n",
       "        text-align: right;\n",
       "    }\n",
       "</style>\n",
       "<table border=\"1\" class=\"dataframe\">\n",
       "  <thead>\n",
       "    <tr style=\"text-align: right;\">\n",
       "      <th></th>\n",
       "      <th>aeroway_aerodrome</th>\n",
       "      <th>aeroway_apron</th>\n",
       "      <th>aeroway_gate</th>\n",
       "      <th>aeroway_hangar</th>\n",
       "      <th>aeroway_helipad</th>\n",
       "      <th>aeroway_holding_position</th>\n",
       "      <th>aeroway_navigationaid</th>\n",
       "      <th>aeroway_parking_position</th>\n",
       "      <th>aeroway_runway</th>\n",
       "      <th>aeroway_taxiway</th>\n",
       "      <th>...</th>\n",
       "      <th>wheelchair_yes</th>\n",
       "      <th>wires_double</th>\n",
       "      <th>wires_single</th>\n",
       "      <th>wood_deciduous</th>\n",
       "      <th>wood_mixed</th>\n",
       "      <th>zone:traffic_BE-VLG:urban</th>\n",
       "      <th>zone:traffic_DE:rural</th>\n",
       "      <th>zone:traffic_DE:urban</th>\n",
       "      <th>zone:traffic_NL:rural</th>\n",
       "      <th>zone:traffic_NL:urban</th>\n",
       "    </tr>\n",
       "    <tr>\n",
       "      <th>region_id</th>\n",
       "      <th></th>\n",
       "      <th></th>\n",
       "      <th></th>\n",
       "      <th></th>\n",
       "      <th></th>\n",
       "      <th></th>\n",
       "      <th></th>\n",
       "      <th></th>\n",
       "      <th></th>\n",
       "      <th></th>\n",
       "      <th></th>\n",
       "      <th></th>\n",
       "      <th></th>\n",
       "      <th></th>\n",
       "      <th></th>\n",
       "      <th></th>\n",
       "      <th></th>\n",
       "      <th></th>\n",
       "      <th></th>\n",
       "      <th></th>\n",
       "      <th></th>\n",
       "    </tr>\n",
       "  </thead>\n",
       "  <tbody>\n",
       "    <tr>\n",
       "      <th>11165_26133_16.png</th>\n",
       "      <td>0</td>\n",
       "      <td>0</td>\n",
       "      <td>0</td>\n",
       "      <td>0</td>\n",
       "      <td>0</td>\n",
       "      <td>0</td>\n",
       "      <td>0</td>\n",
       "      <td>0</td>\n",
       "      <td>0</td>\n",
       "      <td>0</td>\n",
       "      <td>...</td>\n",
       "      <td>0</td>\n",
       "      <td>0</td>\n",
       "      <td>0</td>\n",
       "      <td>0</td>\n",
       "      <td>0</td>\n",
       "      <td>0</td>\n",
       "      <td>0</td>\n",
       "      <td>0</td>\n",
       "      <td>0</td>\n",
       "      <td>0</td>\n",
       "    </tr>\n",
       "    <tr>\n",
       "      <th>11165_26134_16.png</th>\n",
       "      <td>0</td>\n",
       "      <td>0</td>\n",
       "      <td>0</td>\n",
       "      <td>0</td>\n",
       "      <td>0</td>\n",
       "      <td>0</td>\n",
       "      <td>0</td>\n",
       "      <td>0</td>\n",
       "      <td>0</td>\n",
       "      <td>0</td>\n",
       "      <td>...</td>\n",
       "      <td>0</td>\n",
       "      <td>0</td>\n",
       "      <td>0</td>\n",
       "      <td>0</td>\n",
       "      <td>0</td>\n",
       "      <td>0</td>\n",
       "      <td>0</td>\n",
       "      <td>0</td>\n",
       "      <td>0</td>\n",
       "      <td>0</td>\n",
       "    </tr>\n",
       "    <tr>\n",
       "      <th>11165_26135_16.png</th>\n",
       "      <td>0</td>\n",
       "      <td>0</td>\n",
       "      <td>0</td>\n",
       "      <td>0</td>\n",
       "      <td>0</td>\n",
       "      <td>0</td>\n",
       "      <td>0</td>\n",
       "      <td>0</td>\n",
       "      <td>0</td>\n",
       "      <td>0</td>\n",
       "      <td>...</td>\n",
       "      <td>0</td>\n",
       "      <td>0</td>\n",
       "      <td>0</td>\n",
       "      <td>0</td>\n",
       "      <td>0</td>\n",
       "      <td>0</td>\n",
       "      <td>0</td>\n",
       "      <td>0</td>\n",
       "      <td>0</td>\n",
       "      <td>0</td>\n",
       "    </tr>\n",
       "    <tr>\n",
       "      <th>11165_26136_16.png</th>\n",
       "      <td>0</td>\n",
       "      <td>0</td>\n",
       "      <td>0</td>\n",
       "      <td>0</td>\n",
       "      <td>0</td>\n",
       "      <td>0</td>\n",
       "      <td>0</td>\n",
       "      <td>0</td>\n",
       "      <td>0</td>\n",
       "      <td>0</td>\n",
       "      <td>...</td>\n",
       "      <td>0</td>\n",
       "      <td>0</td>\n",
       "      <td>0</td>\n",
       "      <td>0</td>\n",
       "      <td>0</td>\n",
       "      <td>0</td>\n",
       "      <td>0</td>\n",
       "      <td>0</td>\n",
       "      <td>0</td>\n",
       "      <td>0</td>\n",
       "    </tr>\n",
       "    <tr>\n",
       "      <th>11165_26137_16.png</th>\n",
       "      <td>0</td>\n",
       "      <td>0</td>\n",
       "      <td>0</td>\n",
       "      <td>0</td>\n",
       "      <td>0</td>\n",
       "      <td>0</td>\n",
       "      <td>0</td>\n",
       "      <td>0</td>\n",
       "      <td>0</td>\n",
       "      <td>0</td>\n",
       "      <td>...</td>\n",
       "      <td>0</td>\n",
       "      <td>0</td>\n",
       "      <td>0</td>\n",
       "      <td>0</td>\n",
       "      <td>0</td>\n",
       "      <td>0</td>\n",
       "      <td>0</td>\n",
       "      <td>0</td>\n",
       "      <td>0</td>\n",
       "      <td>0</td>\n",
       "    </tr>\n",
       "    <tr>\n",
       "      <th>...</th>\n",
       "      <td>...</td>\n",
       "      <td>...</td>\n",
       "      <td>...</td>\n",
       "      <td>...</td>\n",
       "      <td>...</td>\n",
       "      <td>...</td>\n",
       "      <td>...</td>\n",
       "      <td>...</td>\n",
       "      <td>...</td>\n",
       "      <td>...</td>\n",
       "      <td>...</td>\n",
       "      <td>...</td>\n",
       "      <td>...</td>\n",
       "      <td>...</td>\n",
       "      <td>...</td>\n",
       "      <td>...</td>\n",
       "      <td>...</td>\n",
       "      <td>...</td>\n",
       "      <td>...</td>\n",
       "      <td>...</td>\n",
       "      <td>...</td>\n",
       "    </tr>\n",
       "    <tr>\n",
       "      <th>11257_26162_16.png</th>\n",
       "      <td>0</td>\n",
       "      <td>0</td>\n",
       "      <td>0</td>\n",
       "      <td>0</td>\n",
       "      <td>0</td>\n",
       "      <td>0</td>\n",
       "      <td>0</td>\n",
       "      <td>0</td>\n",
       "      <td>0</td>\n",
       "      <td>0</td>\n",
       "      <td>...</td>\n",
       "      <td>0</td>\n",
       "      <td>0</td>\n",
       "      <td>0</td>\n",
       "      <td>0</td>\n",
       "      <td>0</td>\n",
       "      <td>0</td>\n",
       "      <td>0</td>\n",
       "      <td>0</td>\n",
       "      <td>0</td>\n",
       "      <td>0</td>\n",
       "    </tr>\n",
       "    <tr>\n",
       "      <th>11257_26163_16.png</th>\n",
       "      <td>0</td>\n",
       "      <td>0</td>\n",
       "      <td>0</td>\n",
       "      <td>0</td>\n",
       "      <td>0</td>\n",
       "      <td>0</td>\n",
       "      <td>0</td>\n",
       "      <td>0</td>\n",
       "      <td>0</td>\n",
       "      <td>0</td>\n",
       "      <td>...</td>\n",
       "      <td>0</td>\n",
       "      <td>0</td>\n",
       "      <td>0</td>\n",
       "      <td>0</td>\n",
       "      <td>0</td>\n",
       "      <td>0</td>\n",
       "      <td>0</td>\n",
       "      <td>0</td>\n",
       "      <td>0</td>\n",
       "      <td>0</td>\n",
       "    </tr>\n",
       "    <tr>\n",
       "      <th>11257_26164_16.png</th>\n",
       "      <td>0</td>\n",
       "      <td>0</td>\n",
       "      <td>0</td>\n",
       "      <td>0</td>\n",
       "      <td>0</td>\n",
       "      <td>0</td>\n",
       "      <td>0</td>\n",
       "      <td>0</td>\n",
       "      <td>0</td>\n",
       "      <td>0</td>\n",
       "      <td>...</td>\n",
       "      <td>0</td>\n",
       "      <td>0</td>\n",
       "      <td>0</td>\n",
       "      <td>0</td>\n",
       "      <td>0</td>\n",
       "      <td>0</td>\n",
       "      <td>0</td>\n",
       "      <td>0</td>\n",
       "      <td>0</td>\n",
       "      <td>0</td>\n",
       "    </tr>\n",
       "    <tr>\n",
       "      <th>11258_26157_16.png</th>\n",
       "      <td>0</td>\n",
       "      <td>0</td>\n",
       "      <td>0</td>\n",
       "      <td>0</td>\n",
       "      <td>0</td>\n",
       "      <td>0</td>\n",
       "      <td>0</td>\n",
       "      <td>0</td>\n",
       "      <td>0</td>\n",
       "      <td>0</td>\n",
       "      <td>...</td>\n",
       "      <td>0</td>\n",
       "      <td>0</td>\n",
       "      <td>0</td>\n",
       "      <td>0</td>\n",
       "      <td>0</td>\n",
       "      <td>0</td>\n",
       "      <td>0</td>\n",
       "      <td>0</td>\n",
       "      <td>0</td>\n",
       "      <td>0</td>\n",
       "    </tr>\n",
       "    <tr>\n",
       "      <th>11258_26158_16.png</th>\n",
       "      <td>0</td>\n",
       "      <td>0</td>\n",
       "      <td>0</td>\n",
       "      <td>0</td>\n",
       "      <td>0</td>\n",
       "      <td>0</td>\n",
       "      <td>0</td>\n",
       "      <td>0</td>\n",
       "      <td>0</td>\n",
       "      <td>0</td>\n",
       "      <td>...</td>\n",
       "      <td>0</td>\n",
       "      <td>0</td>\n",
       "      <td>0</td>\n",
       "      <td>0</td>\n",
       "      <td>0</td>\n",
       "      <td>0</td>\n",
       "      <td>0</td>\n",
       "      <td>0</td>\n",
       "      <td>0</td>\n",
       "      <td>0</td>\n",
       "    </tr>\n",
       "  </tbody>\n",
       "</table>\n",
       "<p>5880 rows × 1567 columns</p>\n",
       "</div>"
      ],
      "text/plain": [
       "                    aeroway_aerodrome  aeroway_apron  aeroway_gate  \\\n",
       "region_id                                                            \n",
       "11165_26133_16.png                  0              0             0   \n",
       "11165_26134_16.png                  0              0             0   \n",
       "11165_26135_16.png                  0              0             0   \n",
       "11165_26136_16.png                  0              0             0   \n",
       "11165_26137_16.png                  0              0             0   \n",
       "...                               ...            ...           ...   \n",
       "11257_26162_16.png                  0              0             0   \n",
       "11257_26163_16.png                  0              0             0   \n",
       "11257_26164_16.png                  0              0             0   \n",
       "11258_26157_16.png                  0              0             0   \n",
       "11258_26158_16.png                  0              0             0   \n",
       "\n",
       "                    aeroway_hangar  aeroway_helipad  aeroway_holding_position  \\\n",
       "region_id                                                                       \n",
       "11165_26133_16.png               0                0                         0   \n",
       "11165_26134_16.png               0                0                         0   \n",
       "11165_26135_16.png               0                0                         0   \n",
       "11165_26136_16.png               0                0                         0   \n",
       "11165_26137_16.png               0                0                         0   \n",
       "...                            ...              ...                       ...   \n",
       "11257_26162_16.png               0                0                         0   \n",
       "11257_26163_16.png               0                0                         0   \n",
       "11257_26164_16.png               0                0                         0   \n",
       "11258_26157_16.png               0                0                         0   \n",
       "11258_26158_16.png               0                0                         0   \n",
       "\n",
       "                    aeroway_navigationaid  aeroway_parking_position  \\\n",
       "region_id                                                             \n",
       "11165_26133_16.png                      0                         0   \n",
       "11165_26134_16.png                      0                         0   \n",
       "11165_26135_16.png                      0                         0   \n",
       "11165_26136_16.png                      0                         0   \n",
       "11165_26137_16.png                      0                         0   \n",
       "...                                   ...                       ...   \n",
       "11257_26162_16.png                      0                         0   \n",
       "11257_26163_16.png                      0                         0   \n",
       "11257_26164_16.png                      0                         0   \n",
       "11258_26157_16.png                      0                         0   \n",
       "11258_26158_16.png                      0                         0   \n",
       "\n",
       "                    aeroway_runway  aeroway_taxiway  ...  wheelchair_yes  \\\n",
       "region_id                                            ...                   \n",
       "11165_26133_16.png               0                0  ...               0   \n",
       "11165_26134_16.png               0                0  ...               0   \n",
       "11165_26135_16.png               0                0  ...               0   \n",
       "11165_26136_16.png               0                0  ...               0   \n",
       "11165_26137_16.png               0                0  ...               0   \n",
       "...                            ...              ...  ...             ...   \n",
       "11257_26162_16.png               0                0  ...               0   \n",
       "11257_26163_16.png               0                0  ...               0   \n",
       "11257_26164_16.png               0                0  ...               0   \n",
       "11258_26157_16.png               0                0  ...               0   \n",
       "11258_26158_16.png               0                0  ...               0   \n",
       "\n",
       "                    wires_double  wires_single  wood_deciduous  wood_mixed  \\\n",
       "region_id                                                                    \n",
       "11165_26133_16.png             0             0               0           0   \n",
       "11165_26134_16.png             0             0               0           0   \n",
       "11165_26135_16.png             0             0               0           0   \n",
       "11165_26136_16.png             0             0               0           0   \n",
       "11165_26137_16.png             0             0               0           0   \n",
       "...                          ...           ...             ...         ...   \n",
       "11257_26162_16.png             0             0               0           0   \n",
       "11257_26163_16.png             0             0               0           0   \n",
       "11257_26164_16.png             0             0               0           0   \n",
       "11258_26157_16.png             0             0               0           0   \n",
       "11258_26158_16.png             0             0               0           0   \n",
       "\n",
       "                    zone:traffic_BE-VLG:urban  zone:traffic_DE:rural  \\\n",
       "region_id                                                              \n",
       "11165_26133_16.png                          0                      0   \n",
       "11165_26134_16.png                          0                      0   \n",
       "11165_26135_16.png                          0                      0   \n",
       "11165_26136_16.png                          0                      0   \n",
       "11165_26137_16.png                          0                      0   \n",
       "...                                       ...                    ...   \n",
       "11257_26162_16.png                          0                      0   \n",
       "11257_26163_16.png                          0                      0   \n",
       "11257_26164_16.png                          0                      0   \n",
       "11258_26157_16.png                          0                      0   \n",
       "11258_26158_16.png                          0                      0   \n",
       "\n",
       "                    zone:traffic_DE:urban  zone:traffic_NL:rural  \\\n",
       "region_id                                                          \n",
       "11165_26133_16.png                      0                      0   \n",
       "11165_26134_16.png                      0                      0   \n",
       "11165_26135_16.png                      0                      0   \n",
       "11165_26136_16.png                      0                      0   \n",
       "11165_26137_16.png                      0                      0   \n",
       "...                                   ...                    ...   \n",
       "11257_26162_16.png                      0                      0   \n",
       "11257_26163_16.png                      0                      0   \n",
       "11257_26164_16.png                      0                      0   \n",
       "11258_26157_16.png                      0                      0   \n",
       "11258_26158_16.png                      0                      0   \n",
       "\n",
       "                    zone:traffic_NL:urban  \n",
       "region_id                                  \n",
       "11165_26133_16.png                      0  \n",
       "11165_26134_16.png                      0  \n",
       "11165_26135_16.png                      0  \n",
       "11165_26136_16.png                      0  \n",
       "11165_26137_16.png                      0  \n",
       "...                                   ...  \n",
       "11257_26162_16.png                      0  \n",
       "11257_26163_16.png                      0  \n",
       "11257_26164_16.png                      0  \n",
       "11258_26157_16.png                      0  \n",
       "11258_26158_16.png                      0  \n",
       "\n",
       "[5880 rows x 1567 columns]"
      ]
     },
     "execution_count": 10,
     "metadata": {},
     "output_type": "execute_result"
    }
   ],
   "source": [
    "df = pd.read_pickle(f\"../data/embeddings_roads/{city}.pkl\")\n",
    "df = df.reindex(columns=columns, fill_value=0)\n",
    "df.index = df.index + \".png\"\n",
    "df"
   ]
  },
  {
   "attachments": {},
   "cell_type": "markdown",
   "metadata": {},
   "source": [
    "# Get prepared data and push to huggingface hub"
   ]
  },
  {
   "cell_type": "code",
   "execution_count": 4,
   "metadata": {},
   "outputs": [
    {
     "name": "stdout",
     "output_type": "stream",
     "text": [
      "None\n"
     ]
    },
    {
     "data": {
      "application/vnd.jupyter.widget-view+json": {
       "model_id": "7ef20f2ff1ff4cc6a22c21ecc8818da7",
       "version_major": 2,
       "version_minor": 0
      },
      "text/plain": [
       "Resolving data files:   0%|          | 0/4139 [00:00<?, ?it/s]"
      ]
     },
     "metadata": {},
     "output_type": "display_data"
    },
    {
     "name": "stderr",
     "output_type": "stream",
     "text": [
      "Found cached dataset imagefolder (/home/marcin/.cache/huggingface/datasets/imagefolder/tiles-01a7c0d800e744bb/0.0.0/37fbb85cc714a338bea574ac6c7d0b5be5aff46c1862c1989b20e0771199e93f)\n"
     ]
    },
    {
     "data": {
      "application/vnd.jupyter.widget-view+json": {
       "model_id": "f127324a8f024ddbb8a06374dcd9e3f2",
       "version_major": 2,
       "version_minor": 0
      },
      "text/plain": [
       "  0%|          | 0/1 [00:00<?, ?it/s]"
      ]
     },
     "metadata": {},
     "output_type": "display_data"
    },
    {
     "name": "stderr",
     "output_type": "stream",
     "text": [
      "Loading cached processed dataset at /home/marcin/.cache/huggingface/datasets/imagefolder/tiles-01a7c0d800e744bb/0.0.0/37fbb85cc714a338bea574ac6c7d0b5be5aff46c1862c1989b20e0771199e93f/cache-40f9524c6a32b001.arrow\n"
     ]
    }
   ],
   "source": [
    "ds = TextToImageDataset(\"../data/tiles/Wroclaw, PL\")\n"
   ]
  },
  {
   "cell_type": "code",
   "execution_count": 5,
   "metadata": {},
   "outputs": [
    {
     "data": {
      "image/png": "[encoded data removed]",
      "text/plain": [
       "<PIL.PngImagePlugin.PngImageFile image mode=P size=256x256>"
      ]
     },
     "metadata": {},
     "output_type": "display_data"
    },
    {
     "data": {
      "text/plain": [
       "'OSM of area containing: 1 landuse forest  , 1 leisure nature reserve  .'"
      ]
     },
     "execution_count": 5,
     "metadata": {},
     "output_type": "execute_result"
    }
   ],
   "source": [
    "display(ds[0][0])\n",
    "ds[0][1]"
   ]
  },
  {
   "cell_type": "code",
   "execution_count": null,
   "metadata": {},
   "outputs": [],
   "source": [
    "hds = ds.to_huggingface_dataset()\n",
    "hds.push_to_hub(\"mprzymus/text2tile_small\")"
   ]
  },
  {
   "cell_type": "code",
   "execution_count": 3,
   "metadata": {},
   "outputs": [
    {
     "name": "stderr",
     "output_type": "stream",
     "text": [
      "Resolving data files: 100%|██████████| 135611/135611 [00:01<00:00, 117838.97it/s]\n"
     ]
    },
    {
     "name": "stdout",
     "output_type": "stream",
     "text": [
      "Downloading and preparing dataset imagefolder/tiles to /home/marcin/.cache/huggingface/datasets/imagefolder/tiles-bb44cbe6b3b6f93d/0.0.0/37fbb85cc714a338bea574ac6c7d0b5be5aff46c1862c1989b20e0771199e93f...\n"
     ]
    },
    {
     "name": "stderr",
     "output_type": "stream",
     "text": [
      "Downloading data files: 100%|██████████| 135610/135610 [00:01<00:00, 121436.44it/s]\n",
      "Downloading data files: 100%|██████████| 1/1 [00:00<00:00, 7639.90it/s]\n",
      "Extracting data files: 100%|██████████| 1/1 [00:00<00:00, 1026.76it/s]\n",
      "                                                                  \r"
     ]
    },
    {
     "name": "stdout",
     "output_type": "stream",
     "text": [
      "Dataset imagefolder downloaded and prepared to /home/marcin/.cache/huggingface/datasets/imagefolder/tiles-bb44cbe6b3b6f93d/0.0.0/37fbb85cc714a338bea574ac6c7d0b5be5aff46c1862c1989b20e0771199e93f. Subsequent calls will reuse this data.\n"
     ]
    },
    {
     "name": "stderr",
     "output_type": "stream",
     "text": [
      "100%|██████████| 1/1 [00:00<00:00,  2.49it/s]\n",
      "Pushing split train to the Hub.\n",
      "Creating parquet from Arrow format: 100%|██████████| 20/20 [00:00<00:00, 21.64ba/s]\n",
      "Upload 1 LFS files: 100%|██████████| 1/1 [01:08<00:00, 68.23s/it]\n",
      "Creating parquet from Arrow format: 100%|██████████| 20/20 [00:00<00:00, 27.93ba/s]s/it]\n",
      "Upload 1 LFS files: 100%|██████████| 1/1 [00:44<00:00, 44.85s/it]\n",
      "Creating parquet from Arrow format: 100%|██████████| 20/20 [00:00<00:00, 23.06ba/s]s/it]\n",
      "Upload 1 LFS files: 100%|██████████| 1/1 [01:34<00:00, 94.60s/it]\n",
      "Creating parquet from Arrow format: 100%|██████████| 20/20 [00:00<00:00, 21.53ba/s]s/it]\n",
      "Upload 1 LFS files: 100%|██████████| 1/1 [01:04<00:00, 64.96s/it]\n",
      "Creating parquet from Arrow format: 100%|██████████| 20/20 [00:00<00:00, 20.66ba/s]s/it]\n",
      "Upload 1 LFS files: 100%|██████████| 1/1 [00:56<00:00, 56.07s/it]\n",
      "Creating parquet from Arrow format: 100%|██████████| 20/20 [00:00<00:00, 23.75ba/s]s/it]\n",
      "Upload 1 LFS files: 100%|██████████| 1/1 [00:55<00:00, 55.14s/it]\n",
      "Creating parquet from Arrow format: 100%|██████████| 20/20 [00:01<00:00, 18.74ba/s]s/it]\n",
      "Upload 1 LFS files: 100%|██████████| 1/1 [01:48<00:00, 108.78s/it]\n",
      "Pushing dataset shards to the dataset hub: 100%|██████████| 7/7 [09:13<00:00, 79.10s/it]\n"
     ]
    }
   ],
   "source": [
    "large_ds = TextToImageDataset(\"../data/tiles/\").to_huggingface_dataset()\n",
    "large_ds.push_to_hub(\"mprzymus/text2tile_large\")"
   ]
  },
  {
   "attachments": {},
   "cell_type": "markdown",
   "metadata": {},
   "source": [
    "# Check download works"
   ]
  },
  {
   "cell_type": "code",
   "execution_count": 6,
   "metadata": {},
   "outputs": [
    {
     "name": "stderr",
     "output_type": "stream",
     "text": [
      "Found cached dataset parquet (/home/marcin/.cache/huggingface/datasets/mprzymus___parquet/mprzymus--text2tile-08c7471b58d60160/0.0.0/2a3b91fbd88a2c90d1dbbb32b460cf621d31bd5b05b934492fdef7d8d6f236ec)\n"
     ]
    },
    {
     "data": {
      "application/vnd.jupyter.widget-view+json": {
       "model_id": "a1fb23d6bb86482bb2bc1e4c7acce041",
       "version_major": 2,
       "version_minor": 0
      },
      "text/plain": [
       "  0%|          | 0/2 [00:00<?, ?it/s]"
      ]
     },
     "metadata": {},
     "output_type": "display_data"
    }
   ],
   "source": [
    "ds = load_dataset(\"mprzymus/text2tile\")\n",
    "test_captions = ds[\"test\"][\"caption\"]"
   ]
  },
  {
   "cell_type": "code",
   "execution_count": 9,
   "metadata": {},
   "outputs": [
    {
     "data": {
      "text/plain": [
       "'OSM of area containing: 4 landuse meadows  , 3 landuse farmlands  , 1 natural scrub  , 1 natural water  , 1 water river  .'"
      ]
     },
     "execution_count": 9,
     "metadata": {},
     "output_type": "execute_result"
    }
   ],
   "source": [
    "test_captions[843]"
   ]
  },
  {
   "cell_type": "code",
   "execution_count": 14,
   "metadata": {},
   "outputs": [
    {
     "data": {
      "text/plain": [
       "'OSM of area containing: 2 leisure playgrounds  , 1 shop seafood  , 59 buildings  , 1 shop computer  , 1 office government  .'"
      ]
     },
     "execution_count": 14,
     "metadata": {},
     "output_type": "execute_result"
    }
   ],
   "source": [
    "test_captions[290]"
   ]
  },
  {
   "cell_type": "code",
   "execution_count": 15,
   "metadata": {},
   "outputs": [
    {
     "data": {
      "text/plain": [
       "'OSM of area containing: 2 leisure pitchs  , 191 building apartmentss  , 3 amenity parkings  , 1 amenity fuel  , 2 building industrials  .'"
      ]
     },
     "execution_count": 15,
     "metadata": {},
     "output_type": "execute_result"
    }
   ],
   "source": [
    "test_captions[253]"
   ]
  },
  {
   "cell_type": "code",
   "execution_count": 16,
   "metadata": {},
   "outputs": [
    {
     "data": {
      "image/png": "[encoded data removed]",
      "text/plain": [
       "<PIL.PngImagePlugin.PngImageFile image mode=P size=256x256>"
      ]
     },
     "execution_count": 16,
     "metadata": {},
     "output_type": "execute_result"
    }
   ],
   "source": [
    "ds[\"test\"][\"image\"][253]"
   ]
  },
  {
   "cell_type": "code",
   "execution_count": 11,
   "metadata": {},
   "outputs": [
    {
     "name": "stdout",
     "output_type": "stream",
     "text": [
      "\"waterway canal\"\n",
      "\"landuse forest\"\n",
      "\"highway service\"\n",
      "\"shop wholesale\"\n",
      "\"place suburb\"\n"
     ]
    },
    {
     "data": {
      "text/plain": [
       "'OSM of area containing: 1 waterway canal, 1 landuse forest, 9 highway services , 1 shop wholesale, 1 place suburb.'"
      ]
     },
     "execution_count": 11,
     "metadata": {},
     "output_type": "execute_result"
    }
   ],
   "source": [
    "from map_generation.osm_dataset import create_sentence\n",
    "\n",
    "df = pd.read_csv(\"../data/tiles/Amsterdam, Netherlands/metadata.csv\")\n",
    "series = df[df[\"file_name\"] == \"33635_21524_16.png\"].drop(columns=[\"file_name\"])\n",
    "\n",
    "create_sentence(series.squeeze(axis=0))"
   ]
  },
  {
   "cell_type": "code",
   "execution_count": 12,
   "metadata": {},
   "outputs": [
    {
     "ename": "TypeError",
     "evalue": "list indices must be integers or slices, not str",
     "output_type": "error",
     "traceback": [
      "\u001b[0;31m---------------------------------------------------------------------------\u001b[0m",
      "\u001b[0;31mTypeError\u001b[0m                                 Traceback (most recent call last)",
      "Cell \u001b[0;32mIn[12], line 1\u001b[0m\n\u001b[0;32m----> 1\u001b[0m \u001b[39mlist\u001b[39;49m(series\u001b[39m.\u001b[39;49mcolumns)[\u001b[39m\"\u001b[39;49m\u001b[39mhighway_bus_stop\u001b[39;49m\u001b[39m\"\u001b[39;49m]\n",
      "\u001b[0;31mTypeError\u001b[0m: list indices must be integers or slices, not str"
     ]
    }
   ],
   "source": []
  }
 ],
 "metadata": {
  "kernelspec": {
   "display_name": ".venv",
   "language": "python",
   "name": "python3"
  },
  "language_info": {
   "codemirror_mode": {
    "name": "ipython",
    "version": 3
   },
   "file_extension": ".py",
   "mimetype": "text/x-python",
   "name": "python",
   "nbconvert_exporter": "python",
   "pygments_lexer": "ipython3",
   "version": "3.11.3"
  },
  "orig_nbformat": 4,
  "vscode": {
   "interpreter": {
    "hash": "5dce9f45505a373811135736fcc1a28d7cb642c7707cc61eb0340150084562f1"
   }
  }
 },
 "nbformat": 4,
 "nbformat_minor": 2
}
