{
 "cells": [
  {
   "attachments": {},
   "cell_type": "markdown",
   "metadata": {},
   "source": [
    "# Datasets creation"
   ]
  },
  {
   "cell_type": "code",
   "execution_count": 1,
   "metadata": {},
   "outputs": [
    {
     "name": "stderr",
     "output_type": "stream",
     "text": [
      "/home/marcin/Documents/mgr/nw/nw_venv/lib/python3.10/site-packages/geopandas/_compat.py:123: UserWarning: The Shapely GEOS version (3.11.1-CAPI-1.17.1) is incompatible with the GEOS version PyGEOS was compiled with (3.10.4-CAPI-1.16.2). Conversions between both will be slow.\n",
      "  warnings.warn(\n",
      "/home/marcin/Documents/mgr/nw/srai-tiles/srai/loaders/_base.py:7: UserWarning: Shapely 2.0 is installed, but because PyGEOS is also installed, GeoPandas will still use PyGEOS by default for now. To force to use and test Shapely 2.0, you have to set the environment variable USE_PYGEOS=0. You can do this before starting the Python process, or in your code before importing geopandas:\n",
      "\n",
      "import os\n",
      "os.environ['USE_PYGEOS'] = '0'\n",
      "import geopandas\n",
      "\n",
      "In a future release, GeoPandas will switch to using Shapely by default. If you are using PyGEOS directly (calling PyGEOS functions on geometries from GeoPandas), this will then stop working and you are encouraged to migrate from PyGEOS to Shapely 2.0 (https://shapely.readthedocs.io/en/latest/migration_pygeos.html).\n",
      "  import geopandas as gpd\n"
     ]
    }
   ],
   "source": [
    "import os\n",
    "from itertools import product\n",
    "\n",
    "import numpy as np\n",
    "import pandas as pd\n",
    "from datasets import load_dataset\n",
    "from functional import seq\n",
    "from srai.loaders.osm_loaders.filters import HEX2VEC_FILTER\n",
    "from torchvision.transforms.functional import to_pil_image\n",
    "from tqdm import tqdm\n",
    "from transformers import CLIPTokenizer\n",
    "\n",
    "from map_generation.osm_dataset import TextToImageDataset, create_sentence"
   ]
  },
  {
   "attachments": {},
   "cell_type": "markdown",
   "metadata": {},
   "source": [
    "# Prepare data"
   ]
  },
  {
   "cell_type": "code",
   "execution_count": 2,
   "metadata": {},
   "outputs": [
    {
     "data": {
      "text/plain": [
       "['aeroway_aerodrome',\n",
       " 'aeroway_apron',\n",
       " 'aeroway_gate',\n",
       " 'aeroway_hangar',\n",
       " 'aeroway_helipad']"
      ]
     },
     "execution_count": 2,
     "metadata": {},
     "output_type": "execute_result"
    }
   ],
   "source": [
    "def _flatten_tags(tags):\n",
    "    tags_flat = (\n",
    "        seq(tags.items())\n",
    "        .starmap(lambda k, v: product([k], v if isinstance(v, list) else [v]))\n",
    "        .flatten()\n",
    "        .map(lambda x: \"_\".join(x))\n",
    "        .list()\n",
    "    )\n",
    "    return tags_flat\n",
    "columns = _flatten_tags(HEX2VEC_FILTER)\n",
    "columns[:5]"
   ]
  },
  {
   "attachments": {},
   "cell_type": "markdown",
   "metadata": {},
   "source": [
    "# Saving metadata to image folders\n",
    "Code creates csv with tags in each city's tiles folder. Metadata.csv is used to generate captions.\n",
    "\n",
    "Due to changes in srai.SippyMapRegionizer this code does not run with embeddings present in drive. You can skip this step - on drive are folders with created metadata.csv or use freshly created embeddings with previous notebook."
   ]
  },
  {
   "cell_type": "code",
   "execution_count": 7,
   "metadata": {},
   "outputs": [
    {
     "name": "stderr",
     "output_type": "stream",
     "text": [
      "100%|██████████| 1/1 [00:00<00:00,  4.29it/s]"
     ]
    },
    {
     "name": "stdout",
     "output_type": "stream",
     "text": [
      "saving to ../data/tiles2/Wroclaw, Poland/metadata.csv\n"
     ]
    },
    {
     "name": "stderr",
     "output_type": "stream",
     "text": [
      "\n"
     ]
    }
   ],
   "source": [
    "for city in tqdm(os.listdir(\"../data/tiles\")):\n",
    "    if os.path.exists(f\"../data/embeddings/{city}.pkl\"):\n",
    "        df = pd.read_pickle(f\"../data/embeddings/{city}.pkl\")\n",
    "        df = df.reindex(columns=columns, fill_value=0)\n",
    "        df[\"file_name\"] = df.apply(lambda row: f\"{row.name[0]}_{row.name[1]}.png\", axis=1)\n",
    "        df = df.set_index(\"file_name\")\n",
    "        path = f\"../data/tiles/{city}/metadata.csv\"\n",
    "        print(f\"saving to {path}\")\n",
    "        df.to_csv(path)\n",
    "    else :\n",
    "        print(city, \"not found\")"
   ]
  },
  {
   "attachments": {},
   "cell_type": "markdown",
   "metadata": {},
   "source": [
    "# Get prepared data and push to huggingface hub"
   ]
  },
  {
   "cell_type": "code",
   "execution_count": null,
   "metadata": {},
   "outputs": [],
   "source": [
    "ds = TextToImageDataset(\"../data/tiles/Wrocław, PL\")\n"
   ]
  },
  {
   "cell_type": "code",
   "execution_count": 10,
   "metadata": {},
   "outputs": [
    {
     "data": {
      "image/png": "[encoded data removed]",
      "text/plain": [
       "<PIL.Image.Image image mode=RGB size=256x256>"
      ]
     },
     "execution_count": 10,
     "metadata": {},
     "output_type": "execute_result"
    }
   ],
   "source": [
    "to_pil_image(ds[0][0])"
   ]
  },
  {
   "cell_type": "code",
   "execution_count": null,
   "metadata": {},
   "outputs": [],
   "source": [
    "hds = ds.to_huggingface_dataset()\n",
    "hds.push_to_hub(\"mprzymus/osm_tiles_small\")"
   ]
  },
  {
   "cell_type": "code",
   "execution_count": 14,
   "metadata": {},
   "outputs": [
    {
     "data": {
      "text/plain": [
       "tensor([49406,  3923,   539,  2445, 20281,   281,   272,  1567,  1483, 45258,\n",
       "          272,  3288,  1704,   269, 49407, 49407, 49407, 49407, 49407, 49407,\n",
       "        49407, 49407, 49407, 49407, 49407, 49407, 49407, 49407, 49407, 49407,\n",
       "        49407, 49407, 49407, 49407, 49407, 49407, 49407, 49407, 49407, 49407,\n",
       "        49407, 49407, 49407, 49407, 49407, 49407, 49407, 49407, 49407, 49407,\n",
       "        49407, 49407, 49407, 49407, 49407, 49407, 49407, 49407, 49407, 49407,\n",
       "        49407, 49407, 49407, 49407, 49407, 49407, 49407, 49407, 49407, 49407,\n",
       "        49407, 49407, 49407, 49407, 49407, 49407, 49407])"
      ]
     },
     "execution_count": 14,
     "metadata": {},
     "output_type": "execute_result"
    }
   ],
   "source": [
    "text = ds[0][1]\n",
    "text"
   ]
  },
  {
   "cell_type": "code",
   "execution_count": 16,
   "metadata": {},
   "outputs": [
    {
     "data": {
      "text/plain": [
       "'<|startoftext|>map of area containing : 1 landuse farmland 1 natural wood. <|endoftext|><|endoftext|><|endoftext|><|endoftext|><|endoftext|><|endoftext|><|endoftext|><|endoftext|><|endoftext|><|endoftext|><|endoftext|><|endoftext|><|endoftext|><|endoftext|><|endoftext|><|endoftext|><|endoftext|><|endoftext|><|endoftext|><|endoftext|><|endoftext|><|endoftext|><|endoftext|><|endoftext|><|endoftext|><|endoftext|><|endoftext|><|endoftext|><|endoftext|><|endoftext|><|endoftext|><|endoftext|><|endoftext|><|endoftext|><|endoftext|><|endoftext|><|endoftext|><|endoftext|><|endoftext|><|endoftext|><|endoftext|><|endoftext|><|endoftext|><|endoftext|><|endoftext|><|endoftext|><|endoftext|><|endoftext|><|endoftext|><|endoftext|><|endoftext|><|endoftext|><|endoftext|><|endoftext|><|endoftext|><|endoftext|><|endoftext|><|endoftext|><|endoftext|><|endoftext|><|endoftext|><|endoftext|><|endoftext|>'"
      ]
     },
     "execution_count": 16,
     "metadata": {},
     "output_type": "execute_result"
    }
   ],
   "source": [
    "from map_generation.config import BASE_MODEL_NAME\n",
    "\n",
    "tokenizer = CLIPTokenizer.from_pretrained(BASE_MODEL_NAME, subfolder=\"tokenizer\")\n",
    "tokenizer.decode(text)"
   ]
  },
  {
   "cell_type": "code",
   "execution_count": 3,
   "metadata": {},
   "outputs": [
    {
     "name": "stderr",
     "output_type": "stream",
     "text": [
      "Resolving data files: 100%|██████████| 135611/135611 [00:01<00:00, 117838.97it/s]\n"
     ]
    },
    {
     "name": "stdout",
     "output_type": "stream",
     "text": [
      "Downloading and preparing dataset imagefolder/tiles to /home/marcin/.cache/huggingface/datasets/imagefolder/tiles-bb44cbe6b3b6f93d/0.0.0/37fbb85cc714a338bea574ac6c7d0b5be5aff46c1862c1989b20e0771199e93f...\n"
     ]
    },
    {
     "name": "stderr",
     "output_type": "stream",
     "text": [
      "Downloading data files: 100%|██████████| 135610/135610 [00:01<00:00, 121436.44it/s]\n",
      "Downloading data files: 100%|██████████| 1/1 [00:00<00:00, 7639.90it/s]\n",
      "Extracting data files: 100%|██████████| 1/1 [00:00<00:00, 1026.76it/s]\n",
      "                                                                  \r"
     ]
    },
    {
     "name": "stdout",
     "output_type": "stream",
     "text": [
      "Dataset imagefolder downloaded and prepared to /home/marcin/.cache/huggingface/datasets/imagefolder/tiles-bb44cbe6b3b6f93d/0.0.0/37fbb85cc714a338bea574ac6c7d0b5be5aff46c1862c1989b20e0771199e93f. Subsequent calls will reuse this data.\n"
     ]
    },
    {
     "name": "stderr",
     "output_type": "stream",
     "text": [
      "100%|██████████| 1/1 [00:00<00:00,  2.49it/s]\n",
      "Pushing split train to the Hub.\n",
      "Creating parquet from Arrow format: 100%|██████████| 20/20 [00:00<00:00, 21.64ba/s]\n",
      "Upload 1 LFS files: 100%|██████████| 1/1 [01:08<00:00, 68.23s/it]\n",
      "Creating parquet from Arrow format: 100%|██████████| 20/20 [00:00<00:00, 27.93ba/s]s/it]\n",
      "Upload 1 LFS files: 100%|██████████| 1/1 [00:44<00:00, 44.85s/it]\n",
      "Creating parquet from Arrow format: 100%|██████████| 20/20 [00:00<00:00, 23.06ba/s]s/it]\n",
      "Upload 1 LFS files: 100%|██████████| 1/1 [01:34<00:00, 94.60s/it]\n",
      "Creating parquet from Arrow format: 100%|██████████| 20/20 [00:00<00:00, 21.53ba/s]s/it]\n",
      "Upload 1 LFS files: 100%|██████████| 1/1 [01:04<00:00, 64.96s/it]\n",
      "Creating parquet from Arrow format: 100%|██████████| 20/20 [00:00<00:00, 20.66ba/s]s/it]\n",
      "Upload 1 LFS files: 100%|██████████| 1/1 [00:56<00:00, 56.07s/it]\n",
      "Creating parquet from Arrow format: 100%|██████████| 20/20 [00:00<00:00, 23.75ba/s]s/it]\n",
      "Upload 1 LFS files: 100%|██████████| 1/1 [00:55<00:00, 55.14s/it]\n",
      "Creating parquet from Arrow format: 100%|██████████| 20/20 [00:01<00:00, 18.74ba/s]s/it]\n",
      "Upload 1 LFS files: 100%|██████████| 1/1 [01:48<00:00, 108.78s/it]\n",
      "Pushing dataset shards to the dataset hub: 100%|██████████| 7/7 [09:13<00:00, 79.10s/it]\n"
     ]
    }
   ],
   "source": [
    "large_ds = load_dataset(\"../data/tiles/\")\n",
    "large_ds.push_to_hub(\"mprzymus/osm_tiles_large\")"
   ]
  },
  {
   "attachments": {},
   "cell_type": "markdown",
   "metadata": {},
   "source": [
    "# Check download works"
   ]
  },
  {
   "cell_type": "code",
   "execution_count": 2,
   "metadata": {},
   "outputs": [
    {
     "name": "stderr",
     "output_type": "stream",
     "text": [
      "Found cached dataset parquet (/home/marcin/.cache/huggingface/datasets/mprzymus___parquet/mprzymus--osm_tiles_small-199229e0bb266c92/0.0.0/2a3b91fbd88a2c90d1dbbb32b460cf621d31bd5b05b934492fdef7d8d6f236ec)\n"
     ]
    },
    {
     "data": {
      "application/vnd.jupyter.widget-view+json": {
       "model_id": "dbe6178ae67646c5bcd83d6cdf0ba831",
       "version_major": 2,
       "version_minor": 0
      },
      "text/plain": [
       "  0%|          | 0/1 [00:00<?, ?it/s]"
      ]
     },
     "metadata": {},
     "output_type": "display_data"
    },
    {
     "data": {
      "text/plain": [
       "DatasetDict({\n",
       "    train: Dataset({\n",
       "        features: ['image', 'aeroway_aerodrome', 'aeroway_apron', 'aeroway_gate', 'aeroway_hangar', 'aeroway_helipad', 'aeroway_heliport', 'aeroway_navigationaid', 'aeroway_runway', 'aeroway_taxiway', 'aeroway_terminal', 'aeroway_windsock', 'amenity_animal_boarding', 'amenity_animal_breeding', 'amenity_animal_shelter', 'amenity_arts_centre', 'amenity_atm', 'amenity_baby_hatch', 'amenity_bank', 'amenity_bar', 'amenity_bbq', 'amenity_bench', 'amenity_bicycle_parking', 'amenity_bicycle_rental', 'amenity_bicycle_repair_station', 'amenity_biergarten', 'amenity_boat_rental', 'amenity_boat_sharing', 'amenity_brothel', 'amenity_bureau_de_change', 'amenity_bus_station', 'amenity_cafe', 'amenity_car_rental', 'amenity_car_sharing', 'amenity_car_wash', 'amenity_casino', 'amenity_charging_station', 'amenity_childcare', 'amenity_cinema', 'amenity_clinic', 'amenity_clock', 'amenity_college', 'amenity_community_centre', 'amenity_conference_centre', 'amenity_courthouse', 'amenity_crematorium', 'amenity_dentist', 'amenity_dive_centre', 'amenity_doctors', 'amenity_dog_toilet', 'amenity_drinking_water', 'amenity_driving_school', 'amenity_embassy', 'amenity_events_venue', 'amenity_fast_food', 'amenity_ferry_terminal', 'amenity_fire_station', 'amenity_food_court', 'amenity_fountain', 'amenity_fuel', 'amenity_funeral_hall', 'amenity_gambling', 'amenity_give_box', 'amenity_grave_yard', 'amenity_grit_bin', 'amenity_gym', 'amenity_hospital', 'amenity_hunting_stand', 'amenity_ice_cream', 'amenity_internet_cafe', 'amenity_kindergarten', 'amenity_kitchen', 'amenity_kneipp_water_cure', 'amenity_language_school', 'amenity_library', 'amenity_lounger', 'amenity_love_hotel', 'amenity_marketplace', 'amenity_monastery', 'amenity_motorcycle_parking', 'amenity_music_school', 'amenity_nightclub', 'amenity_nursing_home', 'amenity_parking', 'amenity_parking_entrance', 'amenity_parking_space', 'amenity_pharmacy', 'amenity_photo_booth', 'amenity_place_of_mourning', 'amenity_place_of_worship', 'amenity_planetarium', 'amenity_police', 'amenity_post_box', 'amenity_post_depot', 'amenity_post_office', 'amenity_prison', 'amenity_pub', 'amenity_public_bath', 'amenity_public_bookcase', 'amenity_ranger_station', 'amenity_recycling', 'amenity_refugee_site', 'amenity_restaurant', 'amenity_sanitary_dump_station', 'amenity_school', 'amenity_shelter', 'amenity_shower', 'amenity_social_centre', 'amenity_social_facility', 'amenity_stripclub', 'amenity_studio', 'amenity_swingerclub', 'amenity_taxi', 'amenity_telephone', 'amenity_theatre', 'amenity_toilets', 'amenity_townhall', 'amenity_toy_library', 'amenity_university', 'amenity_vehicle_inspection', 'amenity_vending_machine', 'amenity_veterinary', 'amenity_waste_disposal', 'amenity_waste_transfer_station', 'amenity_water_point', 'amenity_watering_place', 'building_apartments', 'building_bakehouse', 'building_barn', 'building_bridge', 'building_bungalow', 'building_bunker', 'building_cabin', 'building_carport', 'building_cathedral', 'building_chapel', 'building_church', 'building_civic', 'building_college', 'building_commercial', 'building_conservatory', 'building_construction', 'building_container', 'building_cowshed', 'building_detached', 'building_dormitory', 'building_farm', 'building_farm_auxiliary', 'building_fire_station', 'building_garage', 'building_garages', 'building_gatehouse', 'building_government', 'building_grandstand', 'building_greenhouse', 'building_hangar', 'building_hospital', 'building_hotel', 'building_house', 'building_houseboat', 'building_hut', 'building_industrial', 'building_kindergarten', 'building_kiosk', 'building_military', 'building_monastery', 'building_mosque', 'building_office', 'building_parking', 'building_pavilion', 'building_presbytery', 'building_public', 'building_religious', 'building_residential', 'building_retail', 'building_riding_hall', 'building_roof', 'building_ruins', 'building_school', 'building_semidetached_house', 'building_service', 'building_shed', 'building_shrine', 'building_sports_hall', 'building_stable', 'building_stadium', 'building_static_caravan', 'building_sty', 'building_supermarket', 'building_synagogue', 'building_temple', 'building_terrace', 'building_toilets', 'building_train_station', 'building_transformer_tower', 'building_transportation', 'building_tree_house', 'building_university', 'building_warehouse', 'building_water_tower', 'building_yes', 'healthcare_alternative', 'healthcare_audiologist', 'healthcare_birthing_center', 'healthcare_blood_bank', 'healthcare_blood_donation', 'healthcare_counselling', 'healthcare_dialysis', 'healthcare_hospice', 'healthcare_laboratory', 'healthcare_midwife', 'healthcare_nurse', 'healthcare_occupational_therapist', 'healthcare_optometrist', 'healthcare_physiotherapist', 'healthcare_podiatrist', 'healthcare_psychotherapist', 'healthcare_rehabilitation', 'healthcare_sample_collection', 'healthcare_speech_therapist', 'healthcare_vaccination_centre', 'historic_aircraft', 'historic_aqueduct', 'historic_archaeological_site', 'historic_battlefield', 'historic_bomb_crater', 'historic_boundary_stone', 'historic_building', 'historic_cannon', 'historic_castle', 'historic_castle_wall', 'historic_charcoal_pile', 'historic_church', 'historic_city_gate', 'historic_citywalls', 'historic_farm', 'historic_fort', 'historic_highwater_mark', 'historic_locomotive', 'historic_manor', 'historic_memorial', 'historic_milestone', 'historic_monastery', 'historic_monument', 'historic_pillory', 'historic_railway_car', 'historic_ruins', 'historic_rune_stone', 'historic_ship', 'historic_tank', 'historic_tower', 'historic_wayside_cross', 'historic_wayside_shrine', 'historic_wreck', 'historic_yes', 'landuse_allotments', 'landuse_basin', 'landuse_brownfield', 'landuse_cemetery', 'landuse_commercial', 'landuse_conservation', 'landuse_construction', 'landuse_depot', 'landuse_farmland', 'landuse_farmyard', 'landuse_flowerbed', 'landuse_forest', 'landuse_garages', 'landuse_greenfield', 'landuse_greenhouse_horticulture', 'landuse_industrial', 'landuse_landfill', 'landuse_meadow', 'landuse_military', 'landuse_orchard', 'landuse_plant_nursery', 'landuse_port', 'landuse_quarry', 'landuse_railway', 'landuse_recreation_ground', 'landuse_religious', 'landuse_reservoir', 'landuse_residential', 'landuse_retail', 'landuse_village_green', 'landuse_vineyard', 'landuse_winter_sports', 'leisure_adult_gaming_centre', 'leisure_amusement_arcade', 'leisure_bandstand', 'leisure_beach_resort', 'leisure_bird_hide', 'leisure_common', 'leisure_dance', 'leisure_disc_golf_course', 'leisure_dog_park', 'leisure_escape_game', 'leisure_firepit', 'leisure_fishing', 'leisure_fitness_centre', 'leisure_fitness_station', 'leisure_garden', 'leisure_hackerspace', 'leisure_horse_riding', 'leisure_ice_rink', 'leisure_marina', 'leisure_miniature_golf', 'leisure_nature_reserve', 'leisure_park', 'leisure_picnic_table', 'leisure_pitch', 'leisure_playground', 'leisure_slipway', 'leisure_sports_centre', 'leisure_stadium', 'leisure_summer_camp', 'leisure_swimming_area', 'leisure_swimming_pool', 'leisure_track', 'leisure_water_park', 'military_airfield', 'military_barracks', 'military_bunker', 'military_checkpoint', 'military_danger_area', 'military_naval_base', 'military_obstacle_course', 'military_office', 'military_range', 'military_training_area', 'military_trench', 'natural_arete', 'natural_bare_rock', 'natural_bay', 'natural_beach', 'natural_cape', 'natural_cave_entrance', 'natural_cliff', 'natural_coastline', 'natural_dune', 'natural_fell', 'natural_grassland', 'natural_heath', 'natural_hot_spring', 'natural_isthmus', 'natural_mud', 'natural_peak', 'natural_peninsula', 'natural_reef', 'natural_ridge', 'natural_rock', 'natural_saddle', 'natural_sand', 'natural_scree', 'natural_scrub', 'natural_shingle', 'natural_sinkhole', 'natural_spring', 'natural_stone', 'natural_strait', 'natural_water', 'natural_wetland', 'natural_wood', 'office_accountant', 'office_advertising_agency', 'office_architect', 'office_association', 'office_charity', 'office_company', 'office_consulting', 'office_courier', 'office_coworking', 'office_diplomatic', 'office_educational_institution', 'office_employment_agency', 'office_energy_supplier', 'office_engineer', 'office_estate_agent', 'office_financial', 'office_financial_advisor', 'office_forestry', 'office_foundation', 'office_government', 'office_guide', 'office_insurance', 'office_it', 'office_lawyer', 'office_logistics', 'office_moving_company', 'office_newspaper', 'office_ngo', 'office_notary', 'office_political_party', 'office_property_management', 'office_quango', 'office_religion', 'office_research', 'office_surveyor', 'office_tax_advisor', 'office_telecommunication', 'office_visa', 'office_water_utility', 'office_yes', 'shop_agrarian', 'shop_alcohol', 'shop_anime', 'shop_antiques', 'shop_appliance', 'shop_art', 'shop_atv', 'shop_baby_goods', 'shop_bag', 'shop_bakery', 'shop_bathroom_furnishing', 'shop_beauty', 'shop_bed', 'shop_beverages', 'shop_bicycle', 'shop_boat', 'shop_bookmaker', 'shop_books', 'shop_boutique', 'shop_brewing_supplies', 'shop_butcher', 'shop_camera', 'shop_candles', 'shop_cannabis', 'shop_car', 'shop_car_parts', 'shop_car_repair', 'shop_caravan', 'shop_carpet', 'shop_charity', 'shop_cheese', 'shop_chemist', 'shop_chocolate', 'shop_clothes', 'shop_coffee', 'shop_collector', 'shop_computer', 'shop_confectionery', 'shop_convenience', 'shop_copyshop', 'shop_cosmetics', 'shop_craft', 'shop_curtain', 'shop_dairy', 'shop_deli', 'shop_department_store', 'shop_doityourself', 'shop_doors', 'shop_drugstore', 'shop_dry_cleaning', 'shop_electrical', 'shop_electronics', 'shop_energy', 'shop_erotic', 'shop_fabric', 'shop_farm', 'shop_fashion', 'shop_fashion_accessories', 'shop_fireplace', 'shop_fishing', 'shop_flooring', 'shop_florist', 'shop_frame', 'shop_frozen_food', 'shop_fuel', 'shop_funeral_directors', 'shop_furniture', 'shop_games', 'shop_garden_centre', 'shop_garden_furniture', 'shop_gas', 'shop_general', 'shop_gift', 'shop_glaziery', 'shop_golf', 'shop_greengrocer', 'shop_groundskeeping', 'shop_hairdresser', 'shop_hairdresser_supply', 'shop_hardware', 'shop_health_food', 'shop_hearing_aids', 'shop_herbalist', 'shop_hifi', 'shop_household_linen', 'shop_houseware', 'shop_hunting', 'shop_ice_cream', 'shop_interior_decoration', 'shop_jewelry', 'shop_kiosk', 'shop_kitchen', 'shop_lamps', 'shop_laundry', 'shop_leather', 'shop_lighting', 'shop_locksmith', 'shop_lottery', 'shop_mall', 'shop_massage', 'shop_medical_supply', 'shop_military_surplus', 'shop_mobile_phone', 'shop_model', 'shop_money_lender', 'shop_motorcycle', 'shop_music', 'shop_musical_instrument', 'shop_newsagent', 'shop_nutrition_supplements', 'shop_optician', 'shop_organic', 'shop_outdoor', 'shop_outpost', 'shop_paint', 'shop_party', 'shop_pasta', 'shop_pastry', 'shop_pawnbroker', 'shop_perfumery', 'shop_pest_control', 'shop_pet', 'shop_pet_grooming', 'shop_photo', 'shop_pyrotechnics', 'shop_radiotechnics', 'shop_religion', 'shop_scuba_diving', 'shop_seafood', 'shop_second_hand', 'shop_security', 'shop_sewing', 'shop_shoes', 'shop_ski', 'shop_spices', 'shop_sports', 'shop_stationery', 'shop_storage_rental', 'shop_supermarket', 'shop_swimming_pool', 'shop_tailor', 'shop_tattoo', 'shop_tea', 'shop_ticket', 'shop_tiles', 'shop_tobacco', 'shop_toys', 'shop_trade', 'shop_travel_agency', 'shop_trophy', 'shop_tyres', 'shop_vacant', 'shop_vacuum_cleaner', 'shop_variety_store', 'shop_video', 'shop_video_games', 'shop_watches', 'shop_water', 'shop_weapons', 'shop_wholesale', 'shop_window_blind', 'shop_windows', 'shop_wine', 'shop_wool', 'sport_10pin', 'sport_9pin', 'sport_aikido', 'sport_american_football', 'sport_archery', 'sport_athletics', 'sport_badminton', 'sport_bandy', 'sport_baseball', 'sport_basketball', 'sport_beachvolleyball', 'sport_biathlon', 'sport_billiards', 'sport_bmx', 'sport_bobsleigh', 'sport_boules', 'sport_bowls', 'sport_boxing', 'sport_bullfighting', 'sport_canadian_football', 'sport_canoe', 'sport_chess', 'sport_cliff_diving', 'sport_climbing', 'sport_climbing_adventure', 'sport_cricket', 'sport_croquet', 'sport_crossfit', 'sport_curling', 'sport_cycling', 'sport_darts', 'sport_dog_agility', 'sport_dog_racing', 'sport_equestrian', 'sport_fencing', 'sport_field_hockey', 'sport_fitness', 'sport_floorball', 'sport_free_flying', 'sport_futsal', 'sport_gaelic_games', 'sport_golf', 'sport_gymnastics', 'sport_handball', 'sport_hapkido', 'sport_horse_racing', 'sport_horseshoes', 'sport_ice_hockey', 'sport_ice_skating', 'sport_ice_stock', 'sport_judo', 'sport_karate', 'sport_karting', 'sport_kickboxing', 'sport_kitesurfing', 'sport_korfball', 'sport_lacrosse', 'sport_martial_arts', 'sport_miniature_golf', 'sport_model_aerodrome', 'sport_motocross', 'sport_motor', 'sport_multi', 'sport_netball', 'sport_obstacle_course', 'sport_orienteering', 'sport_paddle_tennis', 'sport_padel', 'sport_parachuting', 'sport_parkour', 'sport_pelota', 'sport_pickleball', 'sport_pilates', 'sport_pole_dance', 'sport_racquet', 'sport_rc_car', 'sport_roller_skating', 'sport_rowing', 'sport_rugby_league', 'sport_rugby_union', 'sport_running', 'sport_sailing', 'sport_scuba_diving', 'sport_shooting', 'sport_skateboard', 'sport_ski_jumping', 'sport_skiing', 'sport_snooker', 'sport_soccer', 'sport_speedway', 'sport_squash', 'sport_surfing', 'sport_swimming', 'sport_table_soccer', 'sport_table_tennis', 'sport_taekwondo', 'sport_tennis', 'sport_toboggan', 'sport_volleyball', 'sport_wakeboarding', 'sport_water_polo', 'sport_water_ski', 'sport_weightlifting', 'sport_wrestling', 'sport_yoga', 'tourism_alpine_hut', 'tourism_apartment', 'tourism_aquarium', 'tourism_artwork', 'tourism_attraction', 'tourism_camp_pitch', 'tourism_camp_site', 'tourism_caravan_site', 'tourism_chalet', 'tourism_gallery', 'tourism_guest_house', 'tourism_hostel', 'tourism_hotel', 'tourism_information', 'tourism_motel', 'tourism_museum', 'tourism_picnic_site', 'tourism_theme_park', 'tourism_viewpoint', 'tourism_wilderness_hut', 'tourism_yes', 'tourism_zoo', 'water_basin', 'water_canal', 'water_ditch', 'water_fish_pass', 'water_lagoon', 'water_lake', 'water_lock', 'water_moat', 'water_oxbow', 'water_pond', 'water_reflecting_pool', 'water_reservoir', 'water_river', 'water_wastewater', 'waterway_boatyard', 'waterway_canal', 'waterway_dam', 'waterway_ditch', 'waterway_dock', 'waterway_drain', 'waterway_fairway', 'waterway_fuel', 'waterway_lock_gate', 'waterway_pressurised', 'waterway_river', 'waterway_riverbank', 'waterway_stream', 'waterway_tidal_channel', 'waterway_turning_point', 'waterway_water_point', 'waterway_waterfall', 'waterway_weir'],\n",
       "        num_rows: 2144\n",
       "    })\n",
       "})"
      ]
     },
     "execution_count": 2,
     "metadata": {},
     "output_type": "execute_result"
    }
   ],
   "source": [
    "\n",
    "ds = load_dataset(\"mprzymus/osm_tiles_small\")\n",
    "ds"
   ]
  },
  {
   "cell_type": "code",
   "execution_count": 3,
   "metadata": {},
   "outputs": [
    {
     "data": {
      "text/plain": [
       "['OSM of area containing: 1 natural water  , 4 natural scrubs  , 1 water reservoir  .',\n",
       " 'OSM of area containing: 1 natural grassland  , 2 water rivers  , 3 waterway rivers  .',\n",
       " 'OSM of area containing: 1 natural wood  , 8 waterway ditchs  .',\n",
       " 'OSM of area containing: 3 landuse farmlands  , 6 building houses  , 2 landuse constructions  .',\n",
       " 'OSM of area containing: 2 shop greengrocers  , 263 buildings  , 73 building garages  .',\n",
       " 'OSM of area containing: 1 landuse farmland  , 1 natural grassland  , 1 leisure park  .',\n",
       " 'OSM of area containing: 2 landuse farmlands  , 3 landuse forests  .',\n",
       " 'OSM of area containing: 2 buildings  , 6 landuse meadows  , 1 waterway stream  .',\n",
       " 'OSM of area containing: 5 waterway ditchs  , 2 waterway canals  , 1 natural water  .',\n",
       " 'OSM of area containing: 1 building shed  , 11 landuse residentials  , 3 natural scrubs  .']"
      ]
     },
     "execution_count": 3,
     "metadata": {},
     "output_type": "execute_result"
    }
   ],
   "source": [
    "sentences = []\n",
    "idx = np.random.randint(0, len(ds[\"train\"]), size=10)\n",
    "for i in idx:\n",
    "    series = pd.Series(ds[\"train\"][int(i)]).drop(\"image\")\n",
    "    sentences.append(create_sentence(series, n_columns=3))\n",
    "sentences\n"
   ]
  },
  {
   "cell_type": "code",
   "execution_count": null,
   "metadata": {},
   "outputs": [],
   "source": []
  }
 ],
 "metadata": {
  "kernelspec": {
   "display_name": ".venv",
   "language": "python",
   "name": "python3"
  },
  "language_info": {
   "codemirror_mode": {
    "name": "ipython",
    "version": 3
   },
   "file_extension": ".py",
   "mimetype": "text/x-python",
   "name": "python",
   "nbconvert_exporter": "python",
   "pygments_lexer": "ipython3",
   "version": "3.10.6"
  },
  "orig_nbformat": 4,
  "vscode": {
   "interpreter": {
    "hash": "5dce9f45505a373811135736fcc1a28d7cb642c7707cc61eb0340150084562f1"
   }
  }
 },
 "nbformat": 4,
 "nbformat_minor": 2
}
