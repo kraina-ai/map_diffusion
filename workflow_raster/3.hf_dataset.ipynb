{
 "cells": [
  {
   "attachments": {},
   "cell_type": "markdown",
   "metadata": {},
   "source": [
    "# Datasets creation"
   ]
  },
  {
   "cell_type": "code",
   "execution_count": 2,
   "metadata": {},
   "outputs": [
    {
     "name": "stderr",
     "output_type": "stream",
     "text": [
      "/home/marcin/Documents/mgr/nw/nw_venv/lib/python3.10/site-packages/geopandas/_compat.py:123: UserWarning: The Shapely GEOS version (3.11.1-CAPI-1.17.1) is incompatible with the GEOS version PyGEOS was compiled with (3.10.4-CAPI-1.16.2). Conversions between both will be slow.\n",
      "  warnings.warn(\n",
      "/home/marcin/Documents/mgr/nw/srai-tiles/srai/loaders/_base.py:7: UserWarning: Shapely 2.0 is installed, but because PyGEOS is also installed, GeoPandas will still use PyGEOS by default for now. To force to use and test Shapely 2.0, you have to set the environment variable USE_PYGEOS=0. You can do this before starting the Python process, or in your code before importing geopandas:\n",
      "\n",
      "import os\n",
      "os.environ['USE_PYGEOS'] = '0'\n",
      "import geopandas\n",
      "\n",
      "In a future release, GeoPandas will switch to using Shapely by default. If you are using PyGEOS directly (calling PyGEOS functions on geometries from GeoPandas), this will then stop working and you are encouraged to migrate from PyGEOS to Shapely 2.0 (https://shapely.readthedocs.io/en/latest/migration_pygeos.html).\n",
      "  import geopandas as gpd\n"
     ]
    }
   ],
   "source": [
    "import os\n",
    "from itertools import product\n",
    "\n",
    "import numpy as np\n",
    "import pandas as pd\n",
    "from datasets import load_dataset\n",
    "from functional import seq\n",
    "from srai.loaders.osm_loaders.filters import HEX2VEC_FILTER\n",
    "from torchvision.transforms.functional import to_pil_image\n",
    "from tqdm import tqdm\n",
    "from transformers import CLIPTokenizer\n",
    "\n",
    "from map_generation.osm_dataset import TextToImageDataset, create_sentence"
   ]
  },
  {
   "attachments": {},
   "cell_type": "markdown",
   "metadata": {},
   "source": [
    "# Prepare data"
   ]
  },
  {
   "cell_type": "code",
   "execution_count": 3,
   "metadata": {},
   "outputs": [
    {
     "data": {
      "text/plain": [
       "['aeroway_aerodrome',\n",
       " 'aeroway_apron',\n",
       " 'aeroway_gate',\n",
       " 'aeroway_hangar',\n",
       " 'aeroway_helipad']"
      ]
     },
     "execution_count": 3,
     "metadata": {},
     "output_type": "execute_result"
    }
   ],
   "source": [
    "def _flatten_tags(tags):\n",
    "    tags_flat = (\n",
    "        seq(tags.items())\n",
    "        .starmap(lambda k, v: product([k], v if isinstance(v, list) else [v]))\n",
    "        .flatten()\n",
    "        .map(lambda x: \"_\".join(x))\n",
    "        .list()\n",
    "    )\n",
    "    return tags_flat\n",
    "columns = _flatten_tags(HEX2VEC_FILTER)\n",
    "columns[:5]"
   ]
  },
  {
   "attachments": {},
   "cell_type": "markdown",
   "metadata": {},
   "source": [
    "# Saving metadata to image folders\n",
    "Code creates csv with tags in each city's tiles folder. Metadata.csv is used to generate captions.\n",
    "\n",
    "Due to changes in srai.SippyMapRegionizer this code does not run with embeddings present in drive. You can skip this step - on drive are folders with created metadata.csv or use freshly created embeddings with previous notebook."
   ]
  },
  {
   "cell_type": "code",
   "execution_count": 4,
   "metadata": {},
   "outputs": [
    {
     "name": "stderr",
     "output_type": "stream",
     "text": [
      "  0%|          | 0/3 [00:00<?, ?it/s]"
     ]
    },
    {
     "name": "stdout",
     "output_type": "stream",
     "text": [
      "saving to ../data/tiles/Milan, Italy/metadata.csv\n"
     ]
    },
    {
     "name": "stderr",
     "output_type": "stream",
     "text": [
      " 33%|███▎      | 1/3 [00:00<00:01,  1.94it/s]"
     ]
    },
    {
     "name": "stdout",
     "output_type": "stream",
     "text": [
      "saving to ../data/tiles/Dresden, Germany/metadata.csv\n"
     ]
    },
    {
     "name": "stderr",
     "output_type": "stream",
     "text": [
      "100%|██████████| 3/3 [00:01<00:00,  1.84it/s]"
     ]
    },
    {
     "name": "stdout",
     "output_type": "stream",
     "text": [
      "saving to ../data/tiles/Barcelona, Spain/metadata.csv\n"
     ]
    },
    {
     "name": "stderr",
     "output_type": "stream",
     "text": [
      "\n"
     ]
    }
   ],
   "source": [
    "for city in tqdm(os.listdir(\"../data/tiles\")):\n",
    "    if os.path.exists(f\"../data/embeddings/{city}.pkl\"):\n",
    "        df = pd.read_pickle(f\"../data/embeddings/{city}.pkl\")\n",
    "        df = df.reindex(columns=columns, fill_value=0)\n",
    "        df.index = df.index + \".png\"\n",
    "        df.index = df.index.rename(\"file_name\")\n",
    "        path = f\"../data/tiles/{city}/metadata.csv\"\n",
    "        print(f\"saving to {path}\")\n",
    "        df.to_csv(path)\n",
    "    else :\n",
    "        print(city, \"not found\")"
   ]
  },
  {
   "cell_type": "code",
   "execution_count": 18,
   "metadata": {},
   "outputs": [
    {
     "data": {
      "text/html": [
       "<div>\n",
       "<style scoped>\n",
       "    .dataframe tbody tr th:only-of-type {\n",
       "        vertical-align: middle;\n",
       "    }\n",
       "\n",
       "    .dataframe tbody tr th {\n",
       "        vertical-align: top;\n",
       "    }\n",
       "\n",
       "    .dataframe thead th {\n",
       "        text-align: right;\n",
       "    }\n",
       "</style>\n",
       "<table border=\"1\" class=\"dataframe\">\n",
       "  <thead>\n",
       "    <tr style=\"text-align: right;\">\n",
       "      <th></th>\n",
       "      <th>aeroway_aerodrome</th>\n",
       "      <th>aeroway_apron</th>\n",
       "      <th>aeroway_gate</th>\n",
       "      <th>aeroway_hangar</th>\n",
       "      <th>aeroway_helipad</th>\n",
       "      <th>aeroway_heliport</th>\n",
       "      <th>aeroway_navigationaid</th>\n",
       "      <th>aeroway_runway</th>\n",
       "      <th>aeroway_taxiway</th>\n",
       "      <th>aeroway_terminal</th>\n",
       "      <th>...</th>\n",
       "      <th>waterway_lock_gate</th>\n",
       "      <th>waterway_pressurised</th>\n",
       "      <th>waterway_river</th>\n",
       "      <th>waterway_riverbank</th>\n",
       "      <th>waterway_stream</th>\n",
       "      <th>waterway_tidal_channel</th>\n",
       "      <th>waterway_turning_point</th>\n",
       "      <th>waterway_water_point</th>\n",
       "      <th>waterway_waterfall</th>\n",
       "      <th>waterway_weir</th>\n",
       "    </tr>\n",
       "    <tr>\n",
       "      <th>file_name</th>\n",
       "      <th></th>\n",
       "      <th></th>\n",
       "      <th></th>\n",
       "      <th></th>\n",
       "      <th></th>\n",
       "      <th></th>\n",
       "      <th></th>\n",
       "      <th></th>\n",
       "      <th></th>\n",
       "      <th></th>\n",
       "      <th></th>\n",
       "      <th></th>\n",
       "      <th></th>\n",
       "      <th></th>\n",
       "      <th></th>\n",
       "      <th></th>\n",
       "      <th></th>\n",
       "      <th></th>\n",
       "      <th></th>\n",
       "      <th></th>\n",
       "      <th></th>\n",
       "    </tr>\n",
       "  </thead>\n",
       "  <tbody>\n",
       "    <tr>\n",
       "      <th>33141_24468_16.png</th>\n",
       "      <td>0</td>\n",
       "      <td>0</td>\n",
       "      <td>0</td>\n",
       "      <td>0</td>\n",
       "      <td>0</td>\n",
       "      <td>0</td>\n",
       "      <td>0</td>\n",
       "      <td>0</td>\n",
       "      <td>0</td>\n",
       "      <td>0</td>\n",
       "      <td>...</td>\n",
       "      <td>0</td>\n",
       "      <td>0</td>\n",
       "      <td>0</td>\n",
       "      <td>0</td>\n",
       "      <td>0</td>\n",
       "      <td>0</td>\n",
       "      <td>0</td>\n",
       "      <td>0</td>\n",
       "      <td>0</td>\n",
       "      <td>0</td>\n",
       "    </tr>\n",
       "    <tr>\n",
       "      <th>33142_24465_16.png</th>\n",
       "      <td>0</td>\n",
       "      <td>0</td>\n",
       "      <td>0</td>\n",
       "      <td>0</td>\n",
       "      <td>0</td>\n",
       "      <td>0</td>\n",
       "      <td>0</td>\n",
       "      <td>0</td>\n",
       "      <td>0</td>\n",
       "      <td>0</td>\n",
       "      <td>...</td>\n",
       "      <td>0</td>\n",
       "      <td>0</td>\n",
       "      <td>1</td>\n",
       "      <td>0</td>\n",
       "      <td>0</td>\n",
       "      <td>0</td>\n",
       "      <td>0</td>\n",
       "      <td>0</td>\n",
       "      <td>0</td>\n",
       "      <td>0</td>\n",
       "    </tr>\n",
       "    <tr>\n",
       "      <th>33142_24466_16.png</th>\n",
       "      <td>0</td>\n",
       "      <td>0</td>\n",
       "      <td>0</td>\n",
       "      <td>0</td>\n",
       "      <td>0</td>\n",
       "      <td>0</td>\n",
       "      <td>0</td>\n",
       "      <td>0</td>\n",
       "      <td>0</td>\n",
       "      <td>0</td>\n",
       "      <td>...</td>\n",
       "      <td>0</td>\n",
       "      <td>0</td>\n",
       "      <td>0</td>\n",
       "      <td>0</td>\n",
       "      <td>0</td>\n",
       "      <td>0</td>\n",
       "      <td>0</td>\n",
       "      <td>0</td>\n",
       "      <td>0</td>\n",
       "      <td>0</td>\n",
       "    </tr>\n",
       "    <tr>\n",
       "      <th>33142_24467_16.png</th>\n",
       "      <td>0</td>\n",
       "      <td>0</td>\n",
       "      <td>0</td>\n",
       "      <td>0</td>\n",
       "      <td>0</td>\n",
       "      <td>0</td>\n",
       "      <td>0</td>\n",
       "      <td>0</td>\n",
       "      <td>0</td>\n",
       "      <td>0</td>\n",
       "      <td>...</td>\n",
       "      <td>0</td>\n",
       "      <td>0</td>\n",
       "      <td>0</td>\n",
       "      <td>0</td>\n",
       "      <td>0</td>\n",
       "      <td>0</td>\n",
       "      <td>0</td>\n",
       "      <td>0</td>\n",
       "      <td>0</td>\n",
       "      <td>0</td>\n",
       "    </tr>\n",
       "    <tr>\n",
       "      <th>33142_24468_16.png</th>\n",
       "      <td>0</td>\n",
       "      <td>0</td>\n",
       "      <td>0</td>\n",
       "      <td>0</td>\n",
       "      <td>0</td>\n",
       "      <td>0</td>\n",
       "      <td>0</td>\n",
       "      <td>0</td>\n",
       "      <td>0</td>\n",
       "      <td>0</td>\n",
       "      <td>...</td>\n",
       "      <td>0</td>\n",
       "      <td>0</td>\n",
       "      <td>0</td>\n",
       "      <td>0</td>\n",
       "      <td>0</td>\n",
       "      <td>0</td>\n",
       "      <td>0</td>\n",
       "      <td>0</td>\n",
       "      <td>0</td>\n",
       "      <td>0</td>\n",
       "    </tr>\n",
       "    <tr>\n",
       "      <th>...</th>\n",
       "      <td>...</td>\n",
       "      <td>...</td>\n",
       "      <td>...</td>\n",
       "      <td>...</td>\n",
       "      <td>...</td>\n",
       "      <td>...</td>\n",
       "      <td>...</td>\n",
       "      <td>...</td>\n",
       "      <td>...</td>\n",
       "      <td>...</td>\n",
       "      <td>...</td>\n",
       "      <td>...</td>\n",
       "      <td>...</td>\n",
       "      <td>...</td>\n",
       "      <td>...</td>\n",
       "      <td>...</td>\n",
       "      <td>...</td>\n",
       "      <td>...</td>\n",
       "      <td>...</td>\n",
       "      <td>...</td>\n",
       "      <td>...</td>\n",
       "    </tr>\n",
       "    <tr>\n",
       "      <th>33163_24492_16.png</th>\n",
       "      <td>0</td>\n",
       "      <td>0</td>\n",
       "      <td>0</td>\n",
       "      <td>0</td>\n",
       "      <td>0</td>\n",
       "      <td>0</td>\n",
       "      <td>0</td>\n",
       "      <td>0</td>\n",
       "      <td>0</td>\n",
       "      <td>0</td>\n",
       "      <td>...</td>\n",
       "      <td>0</td>\n",
       "      <td>0</td>\n",
       "      <td>0</td>\n",
       "      <td>0</td>\n",
       "      <td>0</td>\n",
       "      <td>0</td>\n",
       "      <td>0</td>\n",
       "      <td>0</td>\n",
       "      <td>0</td>\n",
       "      <td>0</td>\n",
       "    </tr>\n",
       "    <tr>\n",
       "      <th>33163_24493_16.png</th>\n",
       "      <td>0</td>\n",
       "      <td>0</td>\n",
       "      <td>0</td>\n",
       "      <td>0</td>\n",
       "      <td>0</td>\n",
       "      <td>0</td>\n",
       "      <td>0</td>\n",
       "      <td>0</td>\n",
       "      <td>0</td>\n",
       "      <td>0</td>\n",
       "      <td>...</td>\n",
       "      <td>0</td>\n",
       "      <td>0</td>\n",
       "      <td>0</td>\n",
       "      <td>0</td>\n",
       "      <td>0</td>\n",
       "      <td>0</td>\n",
       "      <td>0</td>\n",
       "      <td>0</td>\n",
       "      <td>0</td>\n",
       "      <td>0</td>\n",
       "    </tr>\n",
       "    <tr>\n",
       "      <th>33163_24494_16.png</th>\n",
       "      <td>0</td>\n",
       "      <td>0</td>\n",
       "      <td>0</td>\n",
       "      <td>0</td>\n",
       "      <td>0</td>\n",
       "      <td>0</td>\n",
       "      <td>0</td>\n",
       "      <td>0</td>\n",
       "      <td>0</td>\n",
       "      <td>0</td>\n",
       "      <td>...</td>\n",
       "      <td>0</td>\n",
       "      <td>0</td>\n",
       "      <td>0</td>\n",
       "      <td>0</td>\n",
       "      <td>0</td>\n",
       "      <td>0</td>\n",
       "      <td>0</td>\n",
       "      <td>0</td>\n",
       "      <td>0</td>\n",
       "      <td>0</td>\n",
       "    </tr>\n",
       "    <tr>\n",
       "      <th>33164_24485_16.png</th>\n",
       "      <td>0</td>\n",
       "      <td>0</td>\n",
       "      <td>0</td>\n",
       "      <td>0</td>\n",
       "      <td>0</td>\n",
       "      <td>0</td>\n",
       "      <td>0</td>\n",
       "      <td>0</td>\n",
       "      <td>0</td>\n",
       "      <td>0</td>\n",
       "      <td>...</td>\n",
       "      <td>0</td>\n",
       "      <td>0</td>\n",
       "      <td>0</td>\n",
       "      <td>0</td>\n",
       "      <td>0</td>\n",
       "      <td>0</td>\n",
       "      <td>0</td>\n",
       "      <td>0</td>\n",
       "      <td>0</td>\n",
       "      <td>0</td>\n",
       "    </tr>\n",
       "    <tr>\n",
       "      <th>33164_24486_16.png</th>\n",
       "      <td>0</td>\n",
       "      <td>0</td>\n",
       "      <td>0</td>\n",
       "      <td>0</td>\n",
       "      <td>0</td>\n",
       "      <td>0</td>\n",
       "      <td>0</td>\n",
       "      <td>0</td>\n",
       "      <td>0</td>\n",
       "      <td>0</td>\n",
       "      <td>...</td>\n",
       "      <td>0</td>\n",
       "      <td>0</td>\n",
       "      <td>0</td>\n",
       "      <td>0</td>\n",
       "      <td>0</td>\n",
       "      <td>0</td>\n",
       "      <td>0</td>\n",
       "      <td>0</td>\n",
       "      <td>0</td>\n",
       "      <td>0</td>\n",
       "    </tr>\n",
       "  </tbody>\n",
       "</table>\n",
       "<p>603 rows × 725 columns</p>\n",
       "</div>"
      ],
      "text/plain": [
       "                    aeroway_aerodrome  aeroway_apron  aeroway_gate   \n",
       "file_name                                                            \n",
       "33141_24468_16.png                  0              0             0  \\\n",
       "33142_24465_16.png                  0              0             0   \n",
       "33142_24466_16.png                  0              0             0   \n",
       "33142_24467_16.png                  0              0             0   \n",
       "33142_24468_16.png                  0              0             0   \n",
       "...                               ...            ...           ...   \n",
       "33163_24492_16.png                  0              0             0   \n",
       "33163_24493_16.png                  0              0             0   \n",
       "33163_24494_16.png                  0              0             0   \n",
       "33164_24485_16.png                  0              0             0   \n",
       "33164_24486_16.png                  0              0             0   \n",
       "\n",
       "                    aeroway_hangar  aeroway_helipad  aeroway_heliport   \n",
       "file_name                                                               \n",
       "33141_24468_16.png               0                0                 0  \\\n",
       "33142_24465_16.png               0                0                 0   \n",
       "33142_24466_16.png               0                0                 0   \n",
       "33142_24467_16.png               0                0                 0   \n",
       "33142_24468_16.png               0                0                 0   \n",
       "...                            ...              ...               ...   \n",
       "33163_24492_16.png               0                0                 0   \n",
       "33163_24493_16.png               0                0                 0   \n",
       "33163_24494_16.png               0                0                 0   \n",
       "33164_24485_16.png               0                0                 0   \n",
       "33164_24486_16.png               0                0                 0   \n",
       "\n",
       "                    aeroway_navigationaid  aeroway_runway  aeroway_taxiway   \n",
       "file_name                                                                    \n",
       "33141_24468_16.png                      0               0                0  \\\n",
       "33142_24465_16.png                      0               0                0   \n",
       "33142_24466_16.png                      0               0                0   \n",
       "33142_24467_16.png                      0               0                0   \n",
       "33142_24468_16.png                      0               0                0   \n",
       "...                                   ...             ...              ...   \n",
       "33163_24492_16.png                      0               0                0   \n",
       "33163_24493_16.png                      0               0                0   \n",
       "33163_24494_16.png                      0               0                0   \n",
       "33164_24485_16.png                      0               0                0   \n",
       "33164_24486_16.png                      0               0                0   \n",
       "\n",
       "                    aeroway_terminal  ...  waterway_lock_gate   \n",
       "file_name                             ...                       \n",
       "33141_24468_16.png                 0  ...                   0  \\\n",
       "33142_24465_16.png                 0  ...                   0   \n",
       "33142_24466_16.png                 0  ...                   0   \n",
       "33142_24467_16.png                 0  ...                   0   \n",
       "33142_24468_16.png                 0  ...                   0   \n",
       "...                              ...  ...                 ...   \n",
       "33163_24492_16.png                 0  ...                   0   \n",
       "33163_24493_16.png                 0  ...                   0   \n",
       "33163_24494_16.png                 0  ...                   0   \n",
       "33164_24485_16.png                 0  ...                   0   \n",
       "33164_24486_16.png                 0  ...                   0   \n",
       "\n",
       "                    waterway_pressurised  waterway_river  waterway_riverbank   \n",
       "file_name                                                                      \n",
       "33141_24468_16.png                     0               0                   0  \\\n",
       "33142_24465_16.png                     0               1                   0   \n",
       "33142_24466_16.png                     0               0                   0   \n",
       "33142_24467_16.png                     0               0                   0   \n",
       "33142_24468_16.png                     0               0                   0   \n",
       "...                                  ...             ...                 ...   \n",
       "33163_24492_16.png                     0               0                   0   \n",
       "33163_24493_16.png                     0               0                   0   \n",
       "33163_24494_16.png                     0               0                   0   \n",
       "33164_24485_16.png                     0               0                   0   \n",
       "33164_24486_16.png                     0               0                   0   \n",
       "\n",
       "                    waterway_stream  waterway_tidal_channel   \n",
       "file_name                                                     \n",
       "33141_24468_16.png                0                       0  \\\n",
       "33142_24465_16.png                0                       0   \n",
       "33142_24466_16.png                0                       0   \n",
       "33142_24467_16.png                0                       0   \n",
       "33142_24468_16.png                0                       0   \n",
       "...                             ...                     ...   \n",
       "33163_24492_16.png                0                       0   \n",
       "33163_24493_16.png                0                       0   \n",
       "33163_24494_16.png                0                       0   \n",
       "33164_24485_16.png                0                       0   \n",
       "33164_24486_16.png                0                       0   \n",
       "\n",
       "                    waterway_turning_point  waterway_water_point   \n",
       "file_name                                                          \n",
       "33141_24468_16.png                       0                     0  \\\n",
       "33142_24465_16.png                       0                     0   \n",
       "33142_24466_16.png                       0                     0   \n",
       "33142_24467_16.png                       0                     0   \n",
       "33142_24468_16.png                       0                     0   \n",
       "...                                    ...                   ...   \n",
       "33163_24492_16.png                       0                     0   \n",
       "33163_24493_16.png                       0                     0   \n",
       "33163_24494_16.png                       0                     0   \n",
       "33164_24485_16.png                       0                     0   \n",
       "33164_24486_16.png                       0                     0   \n",
       "\n",
       "                    waterway_waterfall  waterway_weir  \n",
       "file_name                                              \n",
       "33141_24468_16.png                   0              0  \n",
       "33142_24465_16.png                   0              0  \n",
       "33142_24466_16.png                   0              0  \n",
       "33142_24467_16.png                   0              0  \n",
       "33142_24468_16.png                   0              0  \n",
       "...                                ...            ...  \n",
       "33163_24492_16.png                   0              0  \n",
       "33163_24493_16.png                   0              0  \n",
       "33163_24494_16.png                   0              0  \n",
       "33164_24485_16.png                   0              0  \n",
       "33164_24486_16.png                   0              0  \n",
       "\n",
       "[603 rows x 725 columns]"
      ]
     },
     "execution_count": 18,
     "metadata": {},
     "output_type": "execute_result"
    }
   ],
   "source": [
    "df = pd.read_pickle(f\"../data/embeddings/{city}.pkl\")\n",
    "df = df.reindex(columns=columns, fill_value=0)\n",
    "df.index = df.index + \".png\"\n",
    "df"
   ]
  },
  {
   "attachments": {},
   "cell_type": "markdown",
   "metadata": {},
   "source": [
    "# Get prepared data and push to huggingface hub"
   ]
  },
  {
   "cell_type": "code",
   "execution_count": 4,
   "metadata": {},
   "outputs": [
    {
     "name": "stdout",
     "output_type": "stream",
     "text": [
      "None\n"
     ]
    },
    {
     "data": {
      "application/vnd.jupyter.widget-view+json": {
       "model_id": "7ef20f2ff1ff4cc6a22c21ecc8818da7",
       "version_major": 2,
       "version_minor": 0
      },
      "text/plain": [
       "Resolving data files:   0%|          | 0/4139 [00:00<?, ?it/s]"
      ]
     },
     "metadata": {},
     "output_type": "display_data"
    },
    {
     "name": "stderr",
     "output_type": "stream",
     "text": [
      "Found cached dataset imagefolder (/home/marcin/.cache/huggingface/datasets/imagefolder/tiles-01a7c0d800e744bb/0.0.0/37fbb85cc714a338bea574ac6c7d0b5be5aff46c1862c1989b20e0771199e93f)\n"
     ]
    },
    {
     "data": {
      "application/vnd.jupyter.widget-view+json": {
       "model_id": "f127324a8f024ddbb8a06374dcd9e3f2",
       "version_major": 2,
       "version_minor": 0
      },
      "text/plain": [
       "  0%|          | 0/1 [00:00<?, ?it/s]"
      ]
     },
     "metadata": {},
     "output_type": "display_data"
    },
    {
     "name": "stderr",
     "output_type": "stream",
     "text": [
      "Loading cached processed dataset at /home/marcin/.cache/huggingface/datasets/imagefolder/tiles-01a7c0d800e744bb/0.0.0/37fbb85cc714a338bea574ac6c7d0b5be5aff46c1862c1989b20e0771199e93f/cache-40f9524c6a32b001.arrow\n"
     ]
    }
   ],
   "source": [
    "ds = TextToImageDataset(\"../data/tiles/Wroclaw, PL\")\n"
   ]
  },
  {
   "cell_type": "code",
   "execution_count": 5,
   "metadata": {},
   "outputs": [
    {
     "data": {
      "image/png": "[encoded data removed]",
      "text/plain": [
       "<PIL.PngImagePlugin.PngImageFile image mode=P size=256x256>"
      ]
     },
     "metadata": {},
     "output_type": "display_data"
    },
    {
     "data": {
      "text/plain": [
       "'OSM of area containing: 1 landuse forest  , 1 leisure nature reserve  .'"
      ]
     },
     "execution_count": 5,
     "metadata": {},
     "output_type": "execute_result"
    }
   ],
   "source": [
    "display(ds[0][0])\n",
    "ds[0][1]"
   ]
  },
  {
   "cell_type": "code",
   "execution_count": null,
   "metadata": {},
   "outputs": [],
   "source": [
    "hds = ds.to_huggingface_dataset()\n",
    "hds.push_to_hub(\"mprzymus/text2tile_small\")"
   ]
  },
  {
   "cell_type": "code",
   "execution_count": 3,
   "metadata": {},
   "outputs": [
    {
     "name": "stderr",
     "output_type": "stream",
     "text": [
      "Resolving data files: 100%|██████████| 135611/135611 [00:01<00:00, 117838.97it/s]\n"
     ]
    },
    {
     "name": "stdout",
     "output_type": "stream",
     "text": [
      "Downloading and preparing dataset imagefolder/tiles to /home/marcin/.cache/huggingface/datasets/imagefolder/tiles-bb44cbe6b3b6f93d/0.0.0/37fbb85cc714a338bea574ac6c7d0b5be5aff46c1862c1989b20e0771199e93f...\n"
     ]
    },
    {
     "name": "stderr",
     "output_type": "stream",
     "text": [
      "Downloading data files: 100%|██████████| 135610/135610 [00:01<00:00, 121436.44it/s]\n",
      "Downloading data files: 100%|██████████| 1/1 [00:00<00:00, 7639.90it/s]\n",
      "Extracting data files: 100%|██████████| 1/1 [00:00<00:00, 1026.76it/s]\n",
      "                                                                  \r"
     ]
    },
    {
     "name": "stdout",
     "output_type": "stream",
     "text": [
      "Dataset imagefolder downloaded and prepared to /home/marcin/.cache/huggingface/datasets/imagefolder/tiles-bb44cbe6b3b6f93d/0.0.0/37fbb85cc714a338bea574ac6c7d0b5be5aff46c1862c1989b20e0771199e93f. Subsequent calls will reuse this data.\n"
     ]
    },
    {
     "name": "stderr",
     "output_type": "stream",
     "text": [
      "100%|██████████| 1/1 [00:00<00:00,  2.49it/s]\n",
      "Pushing split train to the Hub.\n",
      "Creating parquet from Arrow format: 100%|██████████| 20/20 [00:00<00:00, 21.64ba/s]\n",
      "Upload 1 LFS files: 100%|██████████| 1/1 [01:08<00:00, 68.23s/it]\n",
      "Creating parquet from Arrow format: 100%|██████████| 20/20 [00:00<00:00, 27.93ba/s]s/it]\n",
      "Upload 1 LFS files: 100%|██████████| 1/1 [00:44<00:00, 44.85s/it]\n",
      "Creating parquet from Arrow format: 100%|██████████| 20/20 [00:00<00:00, 23.06ba/s]s/it]\n",
      "Upload 1 LFS files: 100%|██████████| 1/1 [01:34<00:00, 94.60s/it]\n",
      "Creating parquet from Arrow format: 100%|██████████| 20/20 [00:00<00:00, 21.53ba/s]s/it]\n",
      "Upload 1 LFS files: 100%|██████████| 1/1 [01:04<00:00, 64.96s/it]\n",
      "Creating parquet from Arrow format: 100%|██████████| 20/20 [00:00<00:00, 20.66ba/s]s/it]\n",
      "Upload 1 LFS files: 100%|██████████| 1/1 [00:56<00:00, 56.07s/it]\n",
      "Creating parquet from Arrow format: 100%|██████████| 20/20 [00:00<00:00, 23.75ba/s]s/it]\n",
      "Upload 1 LFS files: 100%|██████████| 1/1 [00:55<00:00, 55.14s/it]\n",
      "Creating parquet from Arrow format: 100%|██████████| 20/20 [00:01<00:00, 18.74ba/s]s/it]\n",
      "Upload 1 LFS files: 100%|██████████| 1/1 [01:48<00:00, 108.78s/it]\n",
      "Pushing dataset shards to the dataset hub: 100%|██████████| 7/7 [09:13<00:00, 79.10s/it]\n"
     ]
    }
   ],
   "source": [
    "large_ds = TextToImageDataset(\"../data/tiles/\").to_huggingface_dataset()\n",
    "large_ds.push_to_hub(\"mprzymus/text2tile_large\")"
   ]
  },
  {
   "attachments": {},
   "cell_type": "markdown",
   "metadata": {},
   "source": [
    "# Check download works"
   ]
  },
  {
   "cell_type": "code",
   "execution_count": 4,
   "metadata": {},
   "outputs": [
    {
     "data": {
      "application/vnd.jupyter.widget-view+json": {
       "model_id": "cdce1ca3e59c453680c87f5a13fb5d87",
       "version_major": 2,
       "version_minor": 0
      },
      "text/plain": [
       "Downloading readme:   0%|          | 0.00/400 [00:00<?, ?B/s]"
      ]
     },
     "metadata": {},
     "output_type": "display_data"
    },
    {
     "name": "stdout",
     "output_type": "stream",
     "text": [
      "Downloading and preparing dataset None/None to /home/marcin/.cache/huggingface/datasets/mprzymus___parquet/mprzymus--text2tile_small-c83afa8267529a0a/0.0.0/2a3b91fbd88a2c90d1dbbb32b460cf621d31bd5b05b934492fdef7d8d6f236ec...\n"
     ]
    },
    {
     "data": {
      "application/vnd.jupyter.widget-view+json": {
       "model_id": "fcefa0942bad4d3aadbe88bb31758ffb",
       "version_major": 2,
       "version_minor": 0
      },
      "text/plain": [
       "Downloading data files:   0%|          | 0/1 [00:00<?, ?it/s]"
      ]
     },
     "metadata": {},
     "output_type": "display_data"
    },
    {
     "data": {
      "application/vnd.jupyter.widget-view+json": {
       "model_id": "0e92662836b84619af94351ceff623f1",
       "version_major": 2,
       "version_minor": 0
      },
      "text/plain": [
       "Downloading data:   0%|          | 0.00/33.9M [00:00<?, ?B/s]"
      ]
     },
     "metadata": {},
     "output_type": "display_data"
    },
    {
     "data": {
      "application/vnd.jupyter.widget-view+json": {
       "model_id": "c16c0d7374434bb8aa5d02f9debd0326",
       "version_major": 2,
       "version_minor": 0
      },
      "text/plain": [
       "Extracting data files:   0%|          | 0/1 [00:00<?, ?it/s]"
      ]
     },
     "metadata": {},
     "output_type": "display_data"
    },
    {
     "data": {
      "application/vnd.jupyter.widget-view+json": {
       "model_id": "ab466648e68d40bb9b9d877f0ab99011",
       "version_major": 2,
       "version_minor": 0
      },
      "text/plain": [
       "Generating train split:   0%|          | 0/2144 [00:00<?, ? examples/s]"
      ]
     },
     "metadata": {},
     "output_type": "display_data"
    },
    {
     "name": "stdout",
     "output_type": "stream",
     "text": [
      "Dataset parquet downloaded and prepared to /home/marcin/.cache/huggingface/datasets/mprzymus___parquet/mprzymus--text2tile_small-c83afa8267529a0a/0.0.0/2a3b91fbd88a2c90d1dbbb32b460cf621d31bd5b05b934492fdef7d8d6f236ec. Subsequent calls will reuse this data.\n"
     ]
    },
    {
     "data": {
      "application/vnd.jupyter.widget-view+json": {
       "model_id": "c90cbab5925f45e9b9d23f0602660d02",
       "version_major": 2,
       "version_minor": 0
      },
      "text/plain": [
       "  0%|          | 0/1 [00:00<?, ?it/s]"
      ]
     },
     "metadata": {},
     "output_type": "display_data"
    },
    {
     "data": {
      "text/plain": [
       "DatasetDict({\n",
       "    train: Dataset({\n",
       "        features: ['image', 'caption'],\n",
       "        num_rows: 2144\n",
       "    })\n",
       "})"
      ]
     },
     "execution_count": 4,
     "metadata": {},
     "output_type": "execute_result"
    }
   ],
   "source": [
    "ds = load_dataset(\"mprzymus/text2tile_small\")\n",
    "ds"
   ]
  }
 ],
 "metadata": {
  "kernelspec": {
   "display_name": ".venv",
   "language": "python",
   "name": "python3"
  },
  "language_info": {
   "codemirror_mode": {
    "name": "ipython",
    "version": 3
   },
   "file_extension": ".py",
   "mimetype": "text/x-python",
   "name": "python",
   "nbconvert_exporter": "python",
   "pygments_lexer": "ipython3",
   "version": "3.10.6"
  },
  "orig_nbformat": 4,
  "vscode": {
   "interpreter": {
    "hash": "5dce9f45505a373811135736fcc1a28d7cb642c7707cc61eb0340150084562f1"
   }
  }
 },
 "nbformat": 4,
 "nbformat_minor": 2
}
