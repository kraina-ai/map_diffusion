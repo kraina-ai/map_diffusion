{
 "cells": [
  {
   "attachments": {},
   "cell_type": "markdown",
   "metadata": {},
   "source": [
    "# Datasets creation"
   ]
  },
  {
   "cell_type": "code",
   "execution_count": 53,
   "metadata": {},
   "outputs": [],
   "source": [
    "import os\n",
    "\n",
    "import numpy as np\n",
    "import pandas as pd\n",
    "from datasets import load_dataset\n",
    "from functional import seq\n",
    "from tqdm import tqdm\n",
    "\n",
    "from map_generation.osm_dataset import TextToImageDataset\n",
    "from srai.utils.geocode import geocode_to_region_gdf\n",
    "from srai.loaders.osm_loaders.filters import GEOFABRIK_LAYERS, HEX2VEC_FILTER\n",
    "from srai.regionizers import (\n",
    "    SlippyMapRegionizer,\n",
    "    H3Regionizer,\n",
    "    AdministrativeBoundaryRegionizer,\n",
    ")\n",
    "from srai.loaders import OSMOnlineLoader\n",
    "from srai.plotting.folium_wrapper import plot_regions\n",
    "import geopandas as gpd\n",
    "import pandas as pd\n",
    "import shapely\n",
    "import osmnx\n",
    "from map_generation.config import N_COLUMNS\n",
    "\n",
    "tqdm.pandas()"
   ]
  },
  {
   "attachments": {},
   "cell_type": "markdown",
   "metadata": {},
   "source": [
    "# Saving metadata to image folders\n",
    "Code creates csv with tags in each city's tiles folder. Metadata.csv is used to generate captions.\n",
    "\n",
    "Due to changes in srai.SippyMapRegionizer this code does not run with embeddings present in drive. You can skip this step - on drive are folders with created metadata.csv or use freshly created embeddings with previous notebook."
   ]
  },
  {
   "cell_type": "code",
   "execution_count": 54,
   "metadata": {},
   "outputs": [
    {
     "name": "stderr",
     "output_type": "stream",
     "text": [
      "100%|██████████| 46/46 [00:19<00:00,  2.40it/s]\n"
     ]
    }
   ],
   "source": [
    "for city in tqdm(os.listdir(\"../data/tiles_own\")):\n",
    "    path_to_embedding = f\"../data/embeddings/{city}.pkl\"\n",
    "    if os.path.exists(path_to_embedding):\n",
    "        df: pd.DataFrame = pd.read_pickle(path_to_embedding)\n",
    "        df.index = df.index + \".png\"\n",
    "        df.index = df.index.rename(\"file_name\")\n",
    "        df = df.reset_index()\n",
    "        df = df.drop(columns=[\"geometry\"])\n",
    "        path = f\"../data/tiles_own/{city}/metadata.jsonl\"\n",
    "        df.to_json(path, lines=True, orient=\"records\")\n",
    "    else :\n",
    "        print(city, \"not found\")"
   ]
  },
  {
   "cell_type": "code",
   "execution_count": 6,
   "metadata": {},
   "outputs": [
    {
     "data": {
      "text/plain": [
       "array([None, 'suburb'], dtype=object)"
      ]
     },
     "execution_count": 6,
     "metadata": {},
     "output_type": "execute_result"
    }
   ],
   "source": [
    "df = pd.read_json(f\"../data/tiles_own/{city}/metadata.jsonl\", lines=True)\n",
    "df[\"name\"].unique()"
   ]
  },
  {
   "cell_type": "code",
   "execution_count": 45,
   "metadata": {},
   "outputs": [
    {
     "data": {
      "text/html": [
       "<div>\n",
       "<style scoped>\n",
       "    .dataframe tbody tr th:only-of-type {\n",
       "        vertical-align: middle;\n",
       "    }\n",
       "\n",
       "    .dataframe tbody tr th {\n",
       "        vertical-align: top;\n",
       "    }\n",
       "\n",
       "    .dataframe thead th {\n",
       "        text-align: right;\n",
       "    }\n",
       "</style>\n",
       "<table border=\"1\" class=\"dataframe\">\n",
       "  <thead>\n",
       "    <tr style=\"text-align: right;\">\n",
       "      <th></th>\n",
       "      <th>admin_region</th>\n",
       "      <th>geometry</th>\n",
       "      <th>name</th>\n",
       "    </tr>\n",
       "    <tr>\n",
       "      <th>region_id</th>\n",
       "      <th></th>\n",
       "      <th></th>\n",
       "      <th></th>\n",
       "    </tr>\n",
       "  </thead>\n",
       "  <tbody>\n",
       "    <tr>\n",
       "      <th>38000_23032_16</th>\n",
       "      <td>Trușeni Commune</td>\n",
       "      <td>GEOMETRYCOLLECTION (POLYGON ((28.75732 47.0608...</td>\n",
       "      <td>village</td>\n",
       "    </tr>\n",
       "    <tr>\n",
       "      <th>38000_23033_16</th>\n",
       "      <td>Trușeni Commune</td>\n",
       "      <td>GEOMETRYCOLLECTION (POLYGON ((28.75732 47.0608...</td>\n",
       "      <td>village</td>\n",
       "    </tr>\n",
       "    <tr>\n",
       "      <th>38001_23032_16</th>\n",
       "      <td>Trușeni Commune</td>\n",
       "      <td>GEOMETRYCOLLECTION (POLYGON ((28.75732 47.0608...</td>\n",
       "      <td>village</td>\n",
       "    </tr>\n",
       "    <tr>\n",
       "      <th>38001_23033_16</th>\n",
       "      <td>Trușeni Commune</td>\n",
       "      <td>GEOMETRYCOLLECTION (POLYGON ((28.75732 47.0608...</td>\n",
       "      <td>village</td>\n",
       "    </tr>\n",
       "    <tr>\n",
       "      <th>38001_23034_16</th>\n",
       "      <td>Trușeni Commune</td>\n",
       "      <td>GEOMETRYCOLLECTION (POLYGON ((28.75732 47.0608...</td>\n",
       "      <td>village</td>\n",
       "    </tr>\n",
       "    <tr>\n",
       "      <th>...</th>\n",
       "      <td>...</td>\n",
       "      <td>...</td>\n",
       "      <td>...</td>\n",
       "    </tr>\n",
       "    <tr>\n",
       "      <th>38041_23068_16</th>\n",
       "      <td>Sîngera</td>\n",
       "      <td>MULTIPOLYGON (((28.95170 46.92271, 28.95200 46...</td>\n",
       "      <td>town</td>\n",
       "    </tr>\n",
       "    <tr>\n",
       "      <th>38041_23069_16</th>\n",
       "      <td>Sîngera</td>\n",
       "      <td>MULTIPOLYGON (((28.95170 46.92271, 28.95200 46...</td>\n",
       "      <td>town</td>\n",
       "    </tr>\n",
       "    <tr>\n",
       "      <th>38041_23070_16</th>\n",
       "      <td>unknown</td>\n",
       "      <td>None</td>\n",
       "      <td>unknown</td>\n",
       "    </tr>\n",
       "    <tr>\n",
       "      <th>38041_23071_16</th>\n",
       "      <td>unknown</td>\n",
       "      <td>None</td>\n",
       "      <td>unknown</td>\n",
       "    </tr>\n",
       "    <tr>\n",
       "      <th>38042_23071_16</th>\n",
       "      <td>unknown</td>\n",
       "      <td>None</td>\n",
       "      <td>unknown</td>\n",
       "    </tr>\n",
       "  </tbody>\n",
       "</table>\n",
       "<p>852 rows × 3 columns</p>\n",
       "</div>"
      ],
      "text/plain": [
       "                   admin_region  \\\n",
       "region_id                         \n",
       "38000_23032_16  Trușeni Commune   \n",
       "38000_23033_16  Trușeni Commune   \n",
       "38001_23032_16  Trușeni Commune   \n",
       "38001_23033_16  Trușeni Commune   \n",
       "38001_23034_16  Trușeni Commune   \n",
       "...                         ...   \n",
       "38041_23068_16          Sîngera   \n",
       "38041_23069_16          Sîngera   \n",
       "38041_23070_16          unknown   \n",
       "38041_23071_16          unknown   \n",
       "38042_23071_16          unknown   \n",
       "\n",
       "                                                         geometry     name  \n",
       "region_id                                                                   \n",
       "38000_23032_16  GEOMETRYCOLLECTION (POLYGON ((28.75732 47.0608...  village  \n",
       "38000_23033_16  GEOMETRYCOLLECTION (POLYGON ((28.75732 47.0608...  village  \n",
       "38001_23032_16  GEOMETRYCOLLECTION (POLYGON ((28.75732 47.0608...  village  \n",
       "38001_23033_16  GEOMETRYCOLLECTION (POLYGON ((28.75732 47.0608...  village  \n",
       "38001_23034_16  GEOMETRYCOLLECTION (POLYGON ((28.75732 47.0608...  village  \n",
       "...                                                           ...      ...  \n",
       "38041_23068_16  MULTIPOLYGON (((28.95170 46.92271, 28.95200 46...     town  \n",
       "38041_23069_16  MULTIPOLYGON (((28.95170 46.92271, 28.95200 46...     town  \n",
       "38041_23070_16                                               None  unknown  \n",
       "38041_23071_16                                               None  unknown  \n",
       "38042_23071_16                                               None  unknown  \n",
       "\n",
       "[852 rows x 3 columns]"
      ]
     },
     "execution_count": 45,
     "metadata": {},
     "output_type": "execute_result"
    }
   ],
   "source": [
    "pd.read_pickle(f\"../data/admins/Chișinău, Moldova.pkl\")"
   ]
  },
  {
   "attachments": {},
   "cell_type": "markdown",
   "metadata": {},
   "source": [
    "# Get prepared data and push to huggingface hub"
   ]
  },
  {
   "cell_type": "code",
   "execution_count": null,
   "metadata": {},
   "outputs": [],
   "source": [
    "ds = TextToImageDataset(\"../data/tiles_own/Wrocław, PL\", n_columns=N_COLUMNS)"
   ]
  },
  {
   "cell_type": "code",
   "execution_count": 6,
   "metadata": {},
   "outputs": [
    {
     "data": {
      "text/plain": [
       "{'image': Image(decode=True, id=None),\n",
       " 'shop_hairdresser': Value(dtype='int64', id=None),\n",
       " 'natural_mud': Value(dtype='int64', id=None),\n",
       " 'amenity_motorcycle_parking': Value(dtype='int64', id=None),\n",
       " 'highway_trunk': Value(dtype='int64', id=None),\n",
       " 'shop_garden_centre': Value(dtype='int64', id=None),\n",
       " 'shop_department_store': Value(dtype='int64', id=None),\n",
       " 'shop_video_games': Value(dtype='int64', id=None),\n",
       " 'tourism_aquarium': Value(dtype='int64', id=None),\n",
       " 'historic_citywalls': Value(dtype='int64', id=None),\n",
       " 'landuse_quarry': Value(dtype='int64', id=None),\n",
       " 'sport_pelota': Value(dtype='int64', id=None),\n",
       " 'sport_athletics': Value(dtype='int64', id=None),\n",
       " 'tourism_attraction': Value(dtype='int64', id=None),\n",
       " 'landuse_industrial': Value(dtype='int64', id=None),\n",
       " 'aeroway_gate': Value(dtype='int64', id=None),\n",
       " 'building_barn': Value(dtype='int64', id=None),\n",
       " 'amenity_car_rental': Value(dtype='int64', id=None),\n",
       " 'office_religion': Value(dtype='int64', id=None),\n",
       " 'amenity_bicycle_rental': Value(dtype='int64', id=None),\n",
       " 'shop_carpet': Value(dtype='int64', id=None),\n",
       " 'tourism_apartment': Value(dtype='int64', id=None),\n",
       " 'building_kiosk': Value(dtype='int64', id=None),\n",
       " 'natural_saddle': Value(dtype='int64', id=None),\n",
       " 'shop_cheese': Value(dtype='int64', id=None),\n",
       " 'highway_motorway_junction': Value(dtype='int64', id=None),\n",
       " 'amenity_give_box': Value(dtype='int64', id=None),\n",
       " 'waterway_boatyard': Value(dtype='int64', id=None),\n",
       " 'shop_herbalist': Value(dtype='int64', id=None),\n",
       " 'sport_9pin': Value(dtype='int64', id=None),\n",
       " 'amenity_arts_centre': Value(dtype='int64', id=None),\n",
       " 'amenity_charging_station': Value(dtype='int64', id=None),\n",
       " 'leisure_track': Value(dtype='int64', id=None),\n",
       " 'shop_ice_cream': Value(dtype='int64', id=None),\n",
       " 'sport_motor': Value(dtype='int64', id=None),\n",
       " 'amenity_school': Value(dtype='int64', id=None),\n",
       " 'historic_yes': Value(dtype='int64', id=None),\n",
       " 'natural_hot_spring': Value(dtype='int64', id=None),\n",
       " 'shop_water': Value(dtype='int64', id=None),\n",
       " 'sport_parachuting': Value(dtype='int64', id=None),\n",
       " 'shop_florist': Value(dtype='int64', id=None),\n",
       " 'sport_free_flying': Value(dtype='int64', id=None),\n",
       " 'shop_vacuum_cleaner': Value(dtype='int64', id=None),\n",
       " 'shop_collector': Value(dtype='int64', id=None),\n",
       " 'building_grandstand': Value(dtype='int64', id=None),\n",
       " 'shop_deli': Value(dtype='int64', id=None),\n",
       " 'shop_lottery': Value(dtype='int64', id=None),\n",
       " 'leisure_playground': Value(dtype='int64', id=None),\n",
       " 'building_monastery': Value(dtype='int64', id=None),\n",
       " 'shop_hearing_aids': Value(dtype='int64', id=None),\n",
       " 'tourism_alpine_hut': Value(dtype='int64', id=None),\n",
       " 'aeroway_taxiway': Value(dtype='int64', id=None),\n",
       " 'shop_swimming_pool': Value(dtype='int64', id=None),\n",
       " 'tourism_viewpoint': Value(dtype='int64', id=None),\n",
       " 'amenity_brothel': Value(dtype='int64', id=None),\n",
       " 'amenity_pharmacy': Value(dtype='int64', id=None),\n",
       " 'landuse_construction': Value(dtype='int64', id=None),\n",
       " 'shop_bag': Value(dtype='int64', id=None),\n",
       " 'shop_scuba_diving': Value(dtype='int64', id=None),\n",
       " 'shop_chemist': Value(dtype='int64', id=None),\n",
       " 'historic_castle': Value(dtype='int64', id=None),\n",
       " 'landuse_residential': Value(dtype='int64', id=None),\n",
       " 'shop_sewing': Value(dtype='int64', id=None),\n",
       " 'amenity_lounger': Value(dtype='int64', id=None),\n",
       " 'leisure_miniature_golf': Value(dtype='int64', id=None),\n",
       " 'amenity_parking_entrance': Value(dtype='int64', id=None),\n",
       " 'aeroway_runway': Value(dtype='int64', id=None),\n",
       " 'building_yes': Value(dtype='int64', id=None),\n",
       " 'tourism_camp_site': Value(dtype='int64', id=None),\n",
       " 'waterway_waterfall': Value(dtype='int64', id=None),\n",
       " 'waterway_lock_gate': Value(dtype='int64', id=None),\n",
       " 'highway_give_way': Value(dtype='int64', id=None),\n",
       " 'leisure_bird_hide': Value(dtype='int64', id=None),\n",
       " 'leisure_swimming_pool': Value(dtype='int64', id=None),\n",
       " 'shop_fashion': Value(dtype='int64', id=None),\n",
       " 'waterway_tidal_channel': Value(dtype='int64', id=None),\n",
       " 'amenity_studio': Value(dtype='int64', id=None),\n",
       " 'sport_american_football': Value(dtype='int64', id=None),\n",
       " 'leisure_picnic_table': Value(dtype='int64', id=None),\n",
       " 'railway_proposed': Value(dtype='int64', id=None),\n",
       " 'amenity_college': Value(dtype='int64', id=None),\n",
       " 'historic_locomotive': Value(dtype='int64', id=None),\n",
       " 'sport_dog_racing': Value(dtype='int64', id=None),\n",
       " 'shop_hunting': Value(dtype='int64', id=None),\n",
       " 'shop_tattoo': Value(dtype='int64', id=None),\n",
       " 'sport_rowing': Value(dtype='int64', id=None),\n",
       " 'leisure_slipway': Value(dtype='int64', id=None),\n",
       " 'tourism_museum': Value(dtype='int64', id=None),\n",
       " 'amenity_ice_cream': Value(dtype='int64', id=None),\n",
       " 'sport_martial_arts': Value(dtype='int64', id=None),\n",
       " 'waterway_fuel': Value(dtype='int64', id=None),\n",
       " 'shop_medical_supply': Value(dtype='int64', id=None),\n",
       " 'sport_rugby_union': Value(dtype='int64', id=None),\n",
       " 'railway_subway': Value(dtype='int64', id=None),\n",
       " 'highway_elevator': Value(dtype='int64', id=None),\n",
       " 'shop_bathroom_furnishing': Value(dtype='int64', id=None),\n",
       " 'landuse_brownfield': Value(dtype='int64', id=None),\n",
       " 'amenity_post_box': Value(dtype='int64', id=None),\n",
       " 'office_energy_supplier': Value(dtype='int64', id=None),\n",
       " 'sport_shooting': Value(dtype='int64', id=None),\n",
       " 'leisure_bandstand': Value(dtype='int64', id=None),\n",
       " 'aeroway_hangar': Value(dtype='int64', id=None),\n",
       " 'natural_reef': Value(dtype='int64', id=None),\n",
       " 'sport_ice_stock': Value(dtype='int64', id=None),\n",
       " 'office_logistics': Value(dtype='int64', id=None),\n",
       " 'leisure_disc_golf_course': Value(dtype='int64', id=None),\n",
       " 'amenity_cinema': Value(dtype='int64', id=None),\n",
       " 'sport_korfball': Value(dtype='int64', id=None),\n",
       " 'building_presbytery': Value(dtype='int64', id=None),\n",
       " 'building_retail': Value(dtype='int64', id=None),\n",
       " 'water_ditch': Value(dtype='int64', id=None),\n",
       " 'landuse_greenhouse_horticulture': Value(dtype='int64', id=None),\n",
       " 'office_educational_institution': Value(dtype='int64', id=None),\n",
       " 'sport_table_tennis': Value(dtype='int64', id=None),\n",
       " 'healthcare_rehabilitation': Value(dtype='int64', id=None),\n",
       " 'shop_organic': Value(dtype='int64', id=None),\n",
       " 'shop_confectionery': Value(dtype='int64', id=None),\n",
       " 'natural_wood': Value(dtype='int64', id=None),\n",
       " 'shop_gift': Value(dtype='int64', id=None),\n",
       " 'building_toilets': Value(dtype='int64', id=None),\n",
       " 'tourism_guest_house': Value(dtype='int64', id=None),\n",
       " 'shop_pet': Value(dtype='int64', id=None),\n",
       " 'office_advertising_agency': Value(dtype='int64', id=None),\n",
       " 'amenity_police': Value(dtype='int64', id=None),\n",
       " 'shop_outpost': Value(dtype='int64', id=None),\n",
       " 'water_fish_pass': Value(dtype='int64', id=None),\n",
       " 'landuse_greenfield': Value(dtype='int64', id=None),\n",
       " 'amenity_swingerclub': Value(dtype='int64', id=None),\n",
       " 'amenity_telephone': Value(dtype='int64', id=None),\n",
       " 'shop_fireplace': Value(dtype='int64', id=None),\n",
       " 'sport_rugby_league': Value(dtype='int64', id=None),\n",
       " 'amenity_bicycle_parking': Value(dtype='int64', id=None),\n",
       " 'shop_kiosk': Value(dtype='int64', id=None),\n",
       " 'sport_canoe': Value(dtype='int64', id=None),\n",
       " 'office_ngo': Value(dtype='int64', id=None),\n",
       " 'sport_parkour': Value(dtype='int64', id=None),\n",
       " 'amenity_fire_station': Value(dtype='int64', id=None),\n",
       " 'building_apartments': Value(dtype='int64', id=None),\n",
       " 'office_property_management': Value(dtype='int64', id=None),\n",
       " 'natural_dune': Value(dtype='int64', id=None),\n",
       " 'shop_cosmetics': Value(dtype='int64', id=None),\n",
       " 'water_canal': Value(dtype='int64', id=None),\n",
       " 'waterway_canal': Value(dtype='int64', id=None),\n",
       " 'shop_locksmith': Value(dtype='int64', id=None),\n",
       " 'amenity_dog_toilet': Value(dtype='int64', id=None),\n",
       " 'office_coworking': Value(dtype='int64', id=None),\n",
       " 'building_tree_house': Value(dtype='int64', id=None),\n",
       " 'shop_greengrocer': Value(dtype='int64', id=None),\n",
       " 'amenity_kneipp_water_cure': Value(dtype='int64', id=None),\n",
       " 'shop_second_hand': Value(dtype='int64', id=None),\n",
       " 'building_hangar': Value(dtype='int64', id=None),\n",
       " 'building_farm_auxiliary': Value(dtype='int64', id=None),\n",
       " 'sport_dog_agility': Value(dtype='int64', id=None),\n",
       " 'shop_mobile_phone': Value(dtype='int64', id=None),\n",
       " 'shop_pyrotechnics': Value(dtype='int64', id=None),\n",
       " 'natural_cave_entrance': Value(dtype='int64', id=None),\n",
       " 'water_lake': Value(dtype='int64', id=None),\n",
       " 'building_cathedral': Value(dtype='int64', id=None),\n",
       " 'building_sty': Value(dtype='int64', id=None),\n",
       " 'shop_fishing': Value(dtype='int64', id=None),\n",
       " 'amenity_post_office': Value(dtype='int64', id=None),\n",
       " 'sport_orienteering': Value(dtype='int64', id=None),\n",
       " 'leisure_garden': Value(dtype='int64', id=None),\n",
       " 'historic_castle_wall': Value(dtype='int64', id=None),\n",
       " 'building_cabin': Value(dtype='int64', id=None),\n",
       " 'building_water_tower': Value(dtype='int64', id=None),\n",
       " 'shop_frozen_food': Value(dtype='int64', id=None),\n",
       " 'sport_wrestling': Value(dtype='int64', id=None),\n",
       " 'building_military': Value(dtype='int64', id=None),\n",
       " 'amenity_recycling': Value(dtype='int64', id=None),\n",
       " 'shop_trade': Value(dtype='int64', id=None),\n",
       " 'building_carport': Value(dtype='int64', id=None),\n",
       " 'building_stadium': Value(dtype='int64', id=None),\n",
       " 'waterway_ditch': Value(dtype='int64', id=None),\n",
       " 'healthcare_audiologist': Value(dtype='int64', id=None),\n",
       " 'building_hospital': Value(dtype='int64', id=None),\n",
       " 'sport_darts': Value(dtype='int64', id=None),\n",
       " 'leisure_escape_game': Value(dtype='int64', id=None),\n",
       " 'healthcare_vaccination_centre': Value(dtype='int64', id=None),\n",
       " 'tourism_picnic_site': Value(dtype='int64', id=None),\n",
       " 'shop_atv': Value(dtype='int64', id=None),\n",
       " 'shop_pawnbroker': Value(dtype='int64', id=None),\n",
       " 'sport_fencing': Value(dtype='int64', id=None),\n",
       " 'landuse_railway': Value(dtype='int64', id=None),\n",
       " 'office_diplomatic': Value(dtype='int64', id=None),\n",
       " 'office_telecommunication': Value(dtype='int64', id=None),\n",
       " 'building_container': Value(dtype='int64', id=None),\n",
       " 'healthcare_speech_therapist': Value(dtype='int64', id=None),\n",
       " 'sport_horseshoes': Value(dtype='int64', id=None),\n",
       " 'sport_multi': Value(dtype='int64', id=None),\n",
       " 'tourism_artwork': Value(dtype='int64', id=None),\n",
       " 'amenity_internet_cafe': Value(dtype='int64', id=None),\n",
       " 'landuse_forest': Value(dtype='int64', id=None),\n",
       " 'amenity_bank': Value(dtype='int64', id=None),\n",
       " 'shop_motorcycle': Value(dtype='int64', id=None),\n",
       " 'shop_electronics': Value(dtype='int64', id=None),\n",
       " 'sport_pickleball': Value(dtype='int64', id=None),\n",
       " 'amenity_clinic': Value(dtype='int64', id=None),\n",
       " 'sport_scuba_diving': Value(dtype='int64', id=None),\n",
       " 'healthcare_physiotherapist': Value(dtype='int64', id=None),\n",
       " 'shop_stationery': Value(dtype='int64', id=None),\n",
       " 'office_courier': Value(dtype='int64', id=None),\n",
       " 'military_naval_base': Value(dtype='int64', id=None),\n",
       " 'sport_aikido': Value(dtype='int64', id=None),\n",
       " 'landuse_plant_nursery': Value(dtype='int64', id=None),\n",
       " 'office_water_utility': Value(dtype='int64', id=None),\n",
       " 'landuse_flowerbed': Value(dtype='int64', id=None),\n",
       " 'highway_bridleway': Value(dtype='int64', id=None),\n",
       " 'railway_tram': Value(dtype='int64', id=None),\n",
       " 'office_tax_advisor': Value(dtype='int64', id=None),\n",
       " 'shop_bakery': Value(dtype='int64', id=None),\n",
       " 'office_estate_agent': Value(dtype='int64', id=None),\n",
       " 'waterway_fairway': Value(dtype='int64', id=None),\n",
       " 'shop_books': Value(dtype='int64', id=None),\n",
       " 'building_fire_station': Value(dtype='int64', id=None),\n",
       " 'railway_abandoned': Value(dtype='int64', id=None),\n",
       " 'historic_farm': Value(dtype='int64', id=None),\n",
       " 'office_association': Value(dtype='int64', id=None),\n",
       " 'leisure_fitness_station': Value(dtype='int64', id=None),\n",
       " 'shop_party': Value(dtype='int64', id=None),\n",
       " 'amenity_courthouse': Value(dtype='int64', id=None),\n",
       " 'sport_volleyball': Value(dtype='int64', id=None),\n",
       " 'building_garages': Value(dtype='int64', id=None),\n",
       " 'waterway_river': Value(dtype='int64', id=None),\n",
       " 'building_supermarket': Value(dtype='int64', id=None),\n",
       " 'building_house': Value(dtype='int64', id=None),\n",
       " 'sport_cricket': Value(dtype='int64', id=None),\n",
       " 'amenity_boat_rental': Value(dtype='int64', id=None),\n",
       " 'aeroway_heliport': Value(dtype='int64', id=None),\n",
       " 'amenity_photo_booth': Value(dtype='int64', id=None),\n",
       " 'shop_cannabis': Value(dtype='int64', id=None),\n",
       " 'shop_camera': Value(dtype='int64', id=None),\n",
       " 'amenity_waste_disposal': Value(dtype='int64', id=None),\n",
       " 'railway_light_rail': Value(dtype='int64', id=None),\n",
       " 'natural_coastline': Value(dtype='int64', id=None),\n",
       " 'shop_tyres': Value(dtype='int64', id=None),\n",
       " 'healthcare_midwife': Value(dtype='int64', id=None),\n",
       " 'shop_doityourself': Value(dtype='int64', id=None),\n",
       " 'building_greenhouse': Value(dtype='int64', id=None),\n",
       " 'amenity_kitchen': Value(dtype='int64', id=None),\n",
       " 'sport_gymnastics': Value(dtype='int64', id=None),\n",
       " 'sport_ski_jumping': Value(dtype='int64', id=None),\n",
       " 'sport_water_polo': Value(dtype='int64', id=None),\n",
       " 'sport_yoga': Value(dtype='int64', id=None),\n",
       " 'aeroway_windsock': Value(dtype='int64', id=None),\n",
       " 'healthcare_psychotherapist': Value(dtype='int64', id=None),\n",
       " 'shop_household_linen': Value(dtype='int64', id=None),\n",
       " 'sport_karate': Value(dtype='int64', id=None),\n",
       " 'amenity_library': Value(dtype='int64', id=None),\n",
       " 'sport_field_hockey': Value(dtype='int64', id=None),\n",
       " 'building_office': Value(dtype='int64', id=None),\n",
       " 'waterway_dam': Value(dtype='int64', id=None),\n",
       " 'sport_snooker': Value(dtype='int64', id=None),\n",
       " 'natural_rock': Value(dtype='int64', id=None),\n",
       " 'shop_boutique': Value(dtype='int64', id=None),\n",
       " 'natural_scree': Value(dtype='int64', id=None),\n",
       " 'shop_ticket': Value(dtype='int64', id=None),\n",
       " 'amenity_waste_transfer_station': Value(dtype='int64', id=None),\n",
       " 'landuse_farmland': Value(dtype='int64', id=None),\n",
       " 'landuse_garages': Value(dtype='int64', id=None),\n",
       " 'tourism_caravan_site': Value(dtype='int64', id=None),\n",
       " 'office_it': Value(dtype='int64', id=None),\n",
       " 'historic_ship': Value(dtype='int64', id=None),\n",
       " 'shop_security': Value(dtype='int64', id=None),\n",
       " 'sport_cliff_diving': Value(dtype='int64', id=None),\n",
       " 'shop_tiles': Value(dtype='int64', id=None),\n",
       " 'shop_art': Value(dtype='int64', id=None),\n",
       " 'amenity_grave_yard': Value(dtype='int64', id=None),\n",
       " 'historic_rune_stone': Value(dtype='int64', id=None),\n",
       " 'highway_stop': Value(dtype='int64', id=None),\n",
       " 'amenity_atm': Value(dtype='int64', id=None),\n",
       " 'railway_stop': Value(dtype='int64', id=None),\n",
       " 'amenity_driving_school': Value(dtype='int64', id=None),\n",
       " 'shop_radiotechnics': Value(dtype='int64', id=None),\n",
       " 'sport_hapkido': Value(dtype='int64', id=None),\n",
       " 'water_oxbow': Value(dtype='int64', id=None),\n",
       " 'historic_memorial': Value(dtype='int64', id=None),\n",
       " 'amenity_vending_machine': Value(dtype='int64', id=None),\n",
       " 'military_range': Value(dtype='int64', id=None),\n",
       " 'office_architect': Value(dtype='int64', id=None),\n",
       " 'office_insurance': Value(dtype='int64', id=None),\n",
       " 'landuse_farmyard': Value(dtype='int64', id=None),\n",
       " 'office_company': Value(dtype='int64', id=None),\n",
       " 'sport_tennis': Value(dtype='int64', id=None),\n",
       " 'water_pond': Value(dtype='int64', id=None),\n",
       " 'amenity_townhall': Value(dtype='int64', id=None),\n",
       " 'amenity_restaurant': Value(dtype='int64', id=None),\n",
       " 'landuse_winter_sports': Value(dtype='int64', id=None),\n",
       " 'amenity_community_centre': Value(dtype='int64', id=None),\n",
       " 'amenity_prison': Value(dtype='int64', id=None),\n",
       " 'healthcare_blood_donation': Value(dtype='int64', id=None),\n",
       " 'shop_anime': Value(dtype='int64', id=None),\n",
       " 'highway_motorway_link': Value(dtype='int64', id=None),\n",
       " 'aeroway_terminal': Value(dtype='int64', id=None),\n",
       " 'shop_golf': Value(dtype='int64', id=None),\n",
       " 'amenity_planetarium': Value(dtype='int64', id=None),\n",
       " 'amenity_fast_food': Value(dtype='int64', id=None),\n",
       " 'military_obstacle_course': Value(dtype='int64', id=None),\n",
       " 'highway_primary_link': Value(dtype='int64', id=None),\n",
       " 'natural_bay': Value(dtype='int64', id=None),\n",
       " 'landuse_meadow': Value(dtype='int64', id=None),\n",
       " 'sport_model_aerodrome': Value(dtype='int64', id=None),\n",
       " 'natural_fell': Value(dtype='int64', id=None),\n",
       " 'historic_railway_car': Value(dtype='int64', id=None),\n",
       " 'shop_frame': Value(dtype='int64', id=None),\n",
       " 'sport_gaelic_games': Value(dtype='int64', id=None),\n",
       " 'amenity_language_school': Value(dtype='int64', id=None),\n",
       " 'highway_steps': Value(dtype='int64', id=None),\n",
       " 'amenity_gambling': Value(dtype='int64', id=None),\n",
       " 'office_research': Value(dtype='int64', id=None),\n",
       " 'amenity_conference_centre': Value(dtype='int64', id=None),\n",
       " 'healthcare_occupational_therapist': Value(dtype='int64', id=None),\n",
       " 'shop_charity': Value(dtype='int64', id=None),\n",
       " 'amenity_ferry_terminal': Value(dtype='int64', id=None),\n",
       " 'amenity_taxi': Value(dtype='int64', id=None),\n",
       " 'building_gatehouse': Value(dtype='int64', id=None),\n",
       " 'highway_motorway': Value(dtype='int64', id=None),\n",
       " 'tourism_yes': Value(dtype='int64', id=None),\n",
       " 'railway_tram_crossing': Value(dtype='int64', id=None),\n",
       " 'building_houseboat': Value(dtype='int64', id=None),\n",
       " 'highway_service': Value(dtype='int64', id=None),\n",
       " 'historic_charcoal_pile': Value(dtype='int64', id=None),\n",
       " 'tourism_chalet': Value(dtype='int64', id=None),\n",
       " 'landuse_port': Value(dtype='int64', id=None),\n",
       " 'building_chapel': Value(dtype='int64', id=None),\n",
       " 'shop_spices': Value(dtype='int64', id=None),\n",
       " 'tourism_information': Value(dtype='int64', id=None),\n",
       " 'shop_candles': Value(dtype='int64', id=None),\n",
       " 'amenity_veterinary': Value(dtype='int64', id=None),\n",
       " 'landuse_religious': Value(dtype='int64', id=None),\n",
       " 'historic_highwater_mark': Value(dtype='int64', id=None),\n",
       " 'building_transportation': Value(dtype='int64', id=None),\n",
       " 'waterway_drain': Value(dtype='int64', id=None),\n",
       " 'waterway_dock': Value(dtype='int64', id=None),\n",
       " 'shop_toys': Value(dtype='int64', id=None),\n",
       " 'building_shrine': Value(dtype='int64', id=None),\n",
       " 'highway_tertiary': Value(dtype='int64', id=None),\n",
       " 'sport_running': Value(dtype='int64', id=None),\n",
       " 'building_static_caravan': Value(dtype='int64', id=None),\n",
       " 'amenity_shelter': Value(dtype='int64', id=None),\n",
       " 'landuse_landfill': Value(dtype='int64', id=None),\n",
       " 'building_bungalow': Value(dtype='int64', id=None),\n",
       " 'natural_cliff': Value(dtype='int64', id=None),\n",
       " 'railway_milestone': Value(dtype='int64', id=None),\n",
       " 'healthcare_optometrist': Value(dtype='int64', id=None),\n",
       " 'sport_cycling': Value(dtype='int64', id=None),\n",
       " 'shop_video': Value(dtype='int64', id=None),\n",
       " 'healthcare_dialysis': Value(dtype='int64', id=None),\n",
       " 'healthcare_birthing_center': Value(dtype='int64', id=None),\n",
       " 'office_employment_agency': Value(dtype='int64', id=None),\n",
       " 'office_financial_advisor': Value(dtype='int64', id=None),\n",
       " 'shop_caravan': Value(dtype='int64', id=None),\n",
       " 'amenity_food_court': Value(dtype='int64', id=None),\n",
       " 'highway_services': Value(dtype='int64', id=None),\n",
       " 'sport_paddle_tennis': Value(dtype='int64', id=None),\n",
       " 'office_consulting': Value(dtype='int64', id=None),\n",
       " 'shop_bed': Value(dtype='int64', id=None),\n",
       " 'shop_fashion_accessories': Value(dtype='int64', id=None),\n",
       " 'amenity_nightclub': Value(dtype='int64', id=None),\n",
       " 'landuse_reservoir': Value(dtype='int64', id=None),\n",
       " 'highway_secondary': Value(dtype='int64', id=None),\n",
       " 'railway_rail': Value(dtype='int64', id=None),\n",
       " 'landuse_retail': Value(dtype='int64', id=None),\n",
       " 'sport_archery': Value(dtype='int64', id=None),\n",
       " 'historic_cannon': Value(dtype='int64', id=None),\n",
       " 'office_yes': Value(dtype='int64', id=None),\n",
       " 'building_roof': Value(dtype='int64', id=None),\n",
       " 'healthcare_nurse': Value(dtype='int64', id=None),\n",
       " 'amenity_fountain': Value(dtype='int64', id=None),\n",
       " 'office_visa': Value(dtype='int64', id=None),\n",
       " 'shop_supermarket': Value(dtype='int64', id=None),\n",
       " 'sport_racquet': Value(dtype='int64', id=None),\n",
       " 'sport_sailing': Value(dtype='int64', id=None),\n",
       " 'amenity_music_school': Value(dtype='int64', id=None),\n",
       " 'amenity_public_bath': Value(dtype='int64', id=None),\n",
       " 'tourism_theme_park': Value(dtype='int64', id=None),\n",
       " 'amenity_bicycle_repair_station': Value(dtype='int64', id=None),\n",
       " 'building_church': Value(dtype='int64', id=None),\n",
       " 'building_industrial': Value(dtype='int64', id=None),\n",
       " 'shop_general': Value(dtype='int64', id=None),\n",
       " 'aeroway_navigationaid': Value(dtype='int64', id=None),\n",
       " 'waterway_stream': Value(dtype='int64', id=None),\n",
       " 'railway_disused': Value(dtype='int64', id=None),\n",
       " 'shop_baby_goods': Value(dtype='int64', id=None),\n",
       " 'sport_biathlon': Value(dtype='int64', id=None),\n",
       " 'sport_croquet': Value(dtype='int64', id=None),\n",
       " 'aeroway_helipad': Value(dtype='int64', id=None),\n",
       " 'highway_bus_stop': Value(dtype='int64', id=None),\n",
       " 'shop_hairdresser_supply': Value(dtype='int64', id=None),\n",
       " 'building_synagogue': Value(dtype='int64', id=None),\n",
       " 'office_newspaper': Value(dtype='int64', id=None),\n",
       " 'military_danger_area': Value(dtype='int64', id=None),\n",
       " 'sport_bowls': Value(dtype='int64', id=None),\n",
       " 'shop_bicycle': Value(dtype='int64', id=None),\n",
       " 'natural_sand': Value(dtype='int64', id=None),\n",
       " 'aeroway_apron': Value(dtype='int64', id=None),\n",
       " 'highway_turning_loop': Value(dtype='int64', id=None),\n",
       " 'sport_fitness': Value(dtype='int64', id=None),\n",
       " 'tourism_gallery': Value(dtype='int64', id=None),\n",
       " 'shop_brewing_supplies': Value(dtype='int64', id=None),\n",
       " 'railway_crossing': Value(dtype='int64', id=None),\n",
       " 'railway_station': Value(dtype='int64', id=None),\n",
       " 'sport_bandy': Value(dtype='int64', id=None),\n",
       " 'sport_skateboard': Value(dtype='int64', id=None),\n",
       " 'building_kindergarten': Value(dtype='int64', id=None),\n",
       " 'shop_butcher': Value(dtype='int64', id=None),\n",
       " 'shop_lamps': Value(dtype='int64', id=None),\n",
       " 'sport_taekwondo': Value(dtype='int64', id=None),\n",
       " 'shop_tobacco': Value(dtype='int64', id=None),\n",
       " 'shop_energy': Value(dtype='int64', id=None),\n",
       " 'highway_secondary_link': Value(dtype='int64', id=None),\n",
       " 'building_public': Value(dtype='int64', id=None),\n",
       " 'historic_boundary_stone': Value(dtype='int64', id=None),\n",
       " 'sport_climbing': Value(dtype='int64', id=None),\n",
       " 'leisure_pitch': Value(dtype='int64', id=None),\n",
       " 'military_airfield': Value(dtype='int64', id=None),\n",
       " 'natural_peninsula': Value(dtype='int64', id=None),\n",
       " 'shop_boat': Value(dtype='int64', id=None),\n",
       " 'sport_water_ski': Value(dtype='int64', id=None),\n",
       " 'amenity_university': Value(dtype='int64', id=None),\n",
       " 'leisure_horse_riding': Value(dtype='int64', id=None),\n",
       " 'shop_trophy': Value(dtype='int64', id=None),\n",
       " 'shop_fabric': Value(dtype='int64', id=None),\n",
       " 'sport_pole_dance': Value(dtype='int64', id=None),\n",
       " 'sport_horse_racing': Value(dtype='int64', id=None),\n",
       " 'office_quango': Value(dtype='int64', id=None),\n",
       " 'sport_basketball': Value(dtype='int64', id=None),\n",
       " 'amenity_animal_boarding': Value(dtype='int64', id=None),\n",
       " 'sport_skiing': Value(dtype='int64', id=None),\n",
       " 'railway_halt': Value(dtype='int64', id=None),\n",
       " 'shop_travel_agency': Value(dtype='int64', id=None),\n",
       " 'building_transformer_tower': Value(dtype='int64', id=None),\n",
       " 'sport_canadian_football': Value(dtype='int64', id=None),\n",
       " 'amenity_toilets': Value(dtype='int64', id=None),\n",
       " 'sport_equestrian': Value(dtype='int64', id=None),\n",
       " 'military_trench': Value(dtype='int64', id=None),\n",
       " 'shop_beauty': Value(dtype='int64', id=None),\n",
       " 'office_engineer': Value(dtype='int64', id=None),\n",
       " 'building_bunker': Value(dtype='int64', id=None),\n",
       " 'sport_curling': Value(dtype='int64', id=None),\n",
       " 'building_religious': Value(dtype='int64', id=None),\n",
       " 'shop_copyshop': Value(dtype='int64', id=None),\n",
       " 'sport_miniature_golf': Value(dtype='int64', id=None),\n",
       " 'leisure_fitness_centre': Value(dtype='int64', id=None),\n",
       " 'sport_10pin': Value(dtype='int64', id=None),\n",
       " 'leisure_ice_rink': Value(dtype='int64', id=None),\n",
       " 'shop_newsagent': Value(dtype='int64', id=None),\n",
       " 'building_college': Value(dtype='int64', id=None),\n",
       " 'water_lock': Value(dtype='int64', id=None),\n",
       " 'healthcare_alternative': Value(dtype='int64', id=None),\n",
       " 'building_semidetached_house': Value(dtype='int64', id=None),\n",
       " 'shop_dairy': Value(dtype='int64', id=None),\n",
       " 'leisure_adult_gaming_centre': Value(dtype='int64', id=None),\n",
       " 'shop_interior_decoration': Value(dtype='int64', id=None),\n",
       " 'amenity_embassy': Value(dtype='int64', id=None),\n",
       " 'sport_judo': Value(dtype='int64', id=None),\n",
       " 'tourism_hostel': Value(dtype='int64', id=None),\n",
       " 'sport_ice_hockey': Value(dtype='int64', id=None),\n",
       " 'shop_outdoor': Value(dtype='int64', id=None),\n",
       " 'leisure_marina': Value(dtype='int64', id=None),\n",
       " 'building_warehouse': Value(dtype='int64', id=None),\n",
       " 'sport_floorball': Value(dtype='int64', id=None),\n",
       " 'shop_agrarian': Value(dtype='int64', id=None),\n",
       " 'military_bunker': Value(dtype='int64', id=None),\n",
       " 'office_government': Value(dtype='int64', id=None),\n",
       " 'highway_road': Value(dtype='int64', id=None),\n",
       " 'natural_water': Value(dtype='int64', id=None),\n",
       " 'waterway_water_point': Value(dtype='int64', id=None),\n",
       " 'building_conservatory': Value(dtype='int64', id=None),\n",
       " 'healthcare_podiatrist': Value(dtype='int64', id=None),\n",
       " 'amenity_refugee_site': Value(dtype='int64', id=None),\n",
       " 'shop_religion': Value(dtype='int64', id=None),\n",
       " 'amenity_parking': Value(dtype='int64', id=None),\n",
       " 'leisure_dance': Value(dtype='int64', id=None),\n",
       " 'natural_sinkhole': Value(dtype='int64', id=None),\n",
       " 'office_financial': Value(dtype='int64', id=None),\n",
       " 'shop_perfumery': Value(dtype='int64', id=None),\n",
       " 'sport_ice_skating': Value(dtype='int64', id=None),\n",
       " 'water_lagoon': Value(dtype='int64', id=None),\n",
       " 'building_bakehouse': Value(dtype='int64', id=None),\n",
       " 'office_surveyor': Value(dtype='int64', id=None),\n",
       " 'historic_church': Value(dtype='int64', id=None),\n",
       " 'highway_trunk_link': Value(dtype='int64', id=None),\n",
       " 'natural_arete': Value(dtype='int64', id=None),\n",
       " 'building_residential': Value(dtype='int64', id=None),\n",
       " 'historic_aircraft': Value(dtype='int64', id=None),\n",
       " 'landuse_military': Value(dtype='int64', id=None),\n",
       " 'building_farm': Value(dtype='int64', id=None),\n",
       " 'landuse_cemetery': Value(dtype='int64', id=None),\n",
       " 'sport_bullfighting': Value(dtype='int64', id=None),\n",
       " 'amenity_parking_space': Value(dtype='int64', id=None),\n",
       " 'sport_roller_skating': Value(dtype='int64', id=None),\n",
       " 'shop_antiques': Value(dtype='int64', id=None),\n",
       " 'sport_soccer': Value(dtype='int64', id=None),\n",
       " 'highway_turning_circle': Value(dtype='int64', id=None),\n",
       " 'shop_nutrition_supplements': Value(dtype='int64', id=None),\n",
       " 'sport_motocross': Value(dtype='int64', id=None),\n",
       " 'historic_milestone': Value(dtype='int64', id=None),\n",
       " 'landuse_conservation': Value(dtype='int64', id=None),\n",
       " 'shop_leather': Value(dtype='int64', id=None),\n",
       " 'healthcare_laboratory': Value(dtype='int64', id=None),\n",
       " 'amenity_childcare': Value(dtype='int64', id=None),\n",
       " 'highway_tertiary_link': Value(dtype='int64', id=None),\n",
       " 'natural_peak': Value(dtype='int64', id=None),\n",
       " 'highway_living_street': Value(dtype='int64', id=None),\n",
       " 'amenity_bench': Value(dtype='int64', id=None),\n",
       " 'highway_speed_camera': Value(dtype='int64', id=None),\n",
       " 'building_temple': Value(dtype='int64', id=None),\n",
       " 'leisure_water_park': Value(dtype='int64', id=None),\n",
       " 'sport_wakeboarding': Value(dtype='int64', id=None),\n",
       " 'highway_construction': Value(dtype='int64', id=None),\n",
       " 'amenity_animal_shelter': Value(dtype='int64', id=None),\n",
       " 'shop_electrical': Value(dtype='int64', id=None),\n",
       " 'shop_money_lender': Value(dtype='int64', id=None),\n",
       " 'amenity_stripclub': Value(dtype='int64', id=None),\n",
       " 'sport_crossfit': Value(dtype='int64', id=None),\n",
       " 'amenity_post_depot': Value(dtype='int64', id=None),\n",
       " 'landuse_commercial': Value(dtype='int64', id=None),\n",
       " 'highway_pedestrian': Value(dtype='int64', id=None),\n",
       " 'highway_footway': Value(dtype='int64', id=None),\n",
       " 'shop_convenience': Value(dtype='int64', id=None),\n",
       " 'shop_curtain': Value(dtype='int64', id=None),\n",
       " 'amenity_sanitary_dump_station': Value(dtype='int64', id=None),\n",
       " 'railway_buffer_stop': Value(dtype='int64', id=None),\n",
       " 'historic_wayside_shrine': Value(dtype='int64', id=None),\n",
       " 'natural_beach': Value(dtype='int64', id=None),\n",
       " 'shop_watches': Value(dtype='int64', id=None),\n",
       " 'building_construction': Value(dtype='int64', id=None),\n",
       " 'shop_vacant': Value(dtype='int64', id=None),\n",
       " 'amenity_kindergarten': Value(dtype='int64', id=None),\n",
       " 'amenity_casino': Value(dtype='int64', id=None),\n",
       " 'building_ruins': Value(dtype='int64', id=None),\n",
       " 'highway_rest_area': Value(dtype='int64', id=None),\n",
       " 'amenity_car_sharing': Value(dtype='int64', id=None),\n",
       " 'historic_building': Value(dtype='int64', id=None),\n",
       " 'building_dormitory': Value(dtype='int64', id=None),\n",
       " 'shop_car_parts': Value(dtype='int64', id=None),\n",
       " 'shop_military_surplus': Value(dtype='int64', id=None),\n",
       " 'building_garage': Value(dtype='int64', id=None),\n",
       " 'building_shed': Value(dtype='int64', id=None),\n",
       " 'shop_bookmaker': Value(dtype='int64', id=None),\n",
       " 'sport_weightlifting': Value(dtype='int64', id=None),\n",
       " 'highway_crossing': Value(dtype='int64', id=None),\n",
       " 'shop_tailor': Value(dtype='int64', id=None),\n",
       " 'shop_computer': Value(dtype='int64', id=None),\n",
       " 'office_political_party': Value(dtype='int64', id=None),\n",
       " 'amenity_ranger_station': Value(dtype='int64', id=None),\n",
       " 'shop_chocolate': Value(dtype='int64', id=None),\n",
       " 'highway_proposed': Value(dtype='int64', id=None),\n",
       " 'shop_gas': Value(dtype='int64', id=None),\n",
       " 'shop_hifi': Value(dtype='int64', id=None),\n",
       " 'shop_health_food': Value(dtype='int64', id=None),\n",
       " 'leisure_beach_resort': Value(dtype='int64', id=None),\n",
       " 'historic_bomb_crater': Value(dtype='int64', id=None),\n",
       " 'natural_ridge': Value(dtype='int64', id=None),\n",
       " 'waterway_turning_point': Value(dtype='int64', id=None),\n",
       " 'amenity_bbq': Value(dtype='int64', id=None),\n",
       " 'leisure_swimming_area': Value(dtype='int64', id=None),\n",
       " 'shop_musical_instrument': Value(dtype='int64', id=None),\n",
       " 'office_guide': Value(dtype='int64', id=None),\n",
       " 'building_sports_hall': Value(dtype='int64', id=None),\n",
       " 'landuse_orchard': Value(dtype='int64', id=None),\n",
       " 'amenity_boat_sharing': Value(dtype='int64', id=None),\n",
       " 'amenity_watering_place': Value(dtype='int64', id=None),\n",
       " 'tourism_motel': Value(dtype='int64', id=None),\n",
       " 'amenity_dentist': Value(dtype='int64', id=None),\n",
       " 'shop_wine': Value(dtype='int64', id=None),\n",
       " 'building_university': Value(dtype='int64', id=None),\n",
       " 'sport_chess': Value(dtype='int64', id=None),\n",
       " 'shop_furniture': Value(dtype='int64', id=None),\n",
       " 'amenity_hunting_stand': Value(dtype='int64', id=None),\n",
       " 'leisure_fishing': Value(dtype='int64', id=None),\n",
       " 'natural_bare_rock': Value(dtype='int64', id=None),\n",
       " 'amenity_fuel': Value(dtype='int64', id=None),\n",
       " 'natural_scrub': Value(dtype='int64', id=None),\n",
       " 'amenity_place_of_mourning': Value(dtype='int64', id=None),\n",
       " 'sport_baseball': Value(dtype='int64', id=None),\n",
       " 'historic_city_gate': Value(dtype='int64', id=None),\n",
       " 'sport_kickboxing': Value(dtype='int64', id=None),\n",
       " 'shop_clothes': Value(dtype='int64', id=None),\n",
       " 'office_charity': Value(dtype='int64', id=None),\n",
       " 'shop_craft': Value(dtype='int64', id=None),\n",
       " 'shop_dry_cleaning': Value(dtype='int64', id=None),\n",
       " 'shop_wholesale': Value(dtype='int64', id=None),\n",
       " 'shop_seafood': Value(dtype='int64', id=None),\n",
       " 'amenity_water_point': Value(dtype='int64', id=None),\n",
       " 'amenity_social_centre': Value(dtype='int64', id=None),\n",
       " 'office_foundation': Value(dtype='int64', id=None),\n",
       " 'historic_wayside_cross': Value(dtype='int64', id=None),\n",
       " 'shop_mall': Value(dtype='int64', id=None),\n",
       " 'building_detached': Value(dtype='int64', id=None),\n",
       " 'railway_platform': Value(dtype='int64', id=None),\n",
       " 'waterway_pressurised': Value(dtype='int64', id=None),\n",
       " 'sport_speedway': Value(dtype='int64', id=None),\n",
       " 'amenity_love_hotel': Value(dtype='int64', id=None),\n",
       " 'water_reservoir': Value(dtype='int64', id=None),\n",
       " 'healthcare_hospice': Value(dtype='int64', id=None),\n",
       " 'railway_construction': Value(dtype='int64', id=None),\n",
       " 'building_hotel': Value(dtype='int64', id=None),\n",
       " 'amenity_grit_bin': Value(dtype='int64', id=None),\n",
       " 'historic_fort': Value(dtype='int64', id=None),\n",
       " 'building_school': Value(dtype='int64', id=None),\n",
       " 'healthcare_counselling': Value(dtype='int64', id=None),\n",
       " 'amenity_crematorium': Value(dtype='int64', id=None),\n",
       " 'landuse_recreation_ground': Value(dtype='int64', id=None),\n",
       " 'shop_farm': Value(dtype='int64', id=None),\n",
       " 'natural_wetland': Value(dtype='int64', id=None),\n",
       " 'leisure_stadium': Value(dtype='int64', id=None),\n",
       " 'shop_kitchen': Value(dtype='int64', id=None),\n",
       " 'railway_razed': Value(dtype='int64', id=None),\n",
       " 'natural_shingle': Value(dtype='int64', id=None),\n",
       " 'shop_weapons': Value(dtype='int64', id=None),\n",
       " 'water_wastewater': Value(dtype='int64', id=None),\n",
       " 'historic_tank': Value(dtype='int64', id=None),\n",
       " 'amenity_gym': Value(dtype='int64', id=None),\n",
       " 'leisure_sports_centre': Value(dtype='int64', id=None),\n",
       " 'highway_emergency_access_point': Value(dtype='int64', id=None),\n",
       " 'highway_raceway': Value(dtype='int64', id=None),\n",
       " 'sport_surfing': Value(dtype='int64', id=None),\n",
       " 'sport_boules': Value(dtype='int64', id=None),\n",
       " 'natural_isthmus': Value(dtype='int64', id=None),\n",
       " 'amenity_theatre': Value(dtype='int64', id=None),\n",
       " 'office_forestry': Value(dtype='int64', id=None),\n",
       " 'leisure_common': Value(dtype='int64', id=None),\n",
       " 'sport_billiards': Value(dtype='int64', id=None),\n",
       " 'landuse_basin': Value(dtype='int64', id=None),\n",
       " 'amenity_bar': Value(dtype='int64', id=None),\n",
       " 'natural_heath': Value(dtype='int64', id=None),\n",
       " 'sport_climbing_adventure': Value(dtype='int64', id=None),\n",
       " 'highway_corridor': Value(dtype='int64', id=None),\n",
       " 'tourism_zoo': Value(dtype='int64', id=None),\n",
       " 'sport_swimming': Value(dtype='int64', id=None),\n",
       " 'amenity_events_venue': Value(dtype='int64', id=None),\n",
       " 'amenity_drinking_water': Value(dtype='int64', id=None),\n",
       " 'building_commercial': Value(dtype='int64', id=None),\n",
       " 'shop_music': Value(dtype='int64', id=None),\n",
       " 'landuse_depot': Value(dtype='int64', id=None),\n",
       " 'aeroway_aerodrome': Value(dtype='int64', id=None),\n",
       " 'tourism_hotel': Value(dtype='int64', id=None),\n",
       " 'highway_passing_place': Value(dtype='int64', id=None),\n",
       " 'natural_cape': Value(dtype='int64', id=None),\n",
       " 'shop_car': Value(dtype='int64', id=None),\n",
       " 'shop_beverages': Value(dtype='int64', id=None),\n",
       " 'shop_tea': Value(dtype='int64', id=None),\n",
       " 'amenity_vehicle_inspection': Value(dtype='int64', id=None),\n",
       " 'sport_rc_car': Value(dtype='int64', id=None),\n",
       " 'natural_strait': Value(dtype='int64', id=None),\n",
       " 'building_stable': Value(dtype='int64', id=None),\n",
       " 'military_barracks': Value(dtype='int64', id=None),\n",
       " 'sport_kitesurfing': Value(dtype='int64', id=None),\n",
       " 'sport_futsal': Value(dtype='int64', id=None),\n",
       " 'highway_mini_roundabout': Value(dtype='int64', id=None),\n",
       " 'highway_cycleway': Value(dtype='int64', id=None),\n",
       " 'amenity_clock': Value(dtype='int64', id=None),\n",
       " 'railway_miniature': Value(dtype='int64', id=None),\n",
       " 'amenity_biergarten': Value(dtype='int64', id=None),\n",
       " 'amenity_funeral_hall': Value(dtype='int64', id=None),\n",
       " 'historic_ruins': Value(dtype='int64', id=None),\n",
       " 'sport_table_soccer': Value(dtype='int64', id=None),\n",
       " 'sport_squash': Value(dtype='int64', id=None),\n",
       " 'sport_badminton': Value(dtype='int64', id=None),\n",
       " 'leisure_hackerspace': Value(dtype='int64', id=None),\n",
       " 'historic_battlefield': Value(dtype='int64', id=None),\n",
       " 'shop_model': Value(dtype='int64', id=None),\n",
       " 'water_moat': Value(dtype='int64', id=None),\n",
       " 'historic_tower': Value(dtype='int64', id=None),\n",
       " 'shop_variety_store': Value(dtype='int64', id=None),\n",
       " 'tourism_camp_pitch': Value(dtype='int64', id=None),\n",
       " 'highway_track': Value(dtype='int64', id=None),\n",
       " 'shop_laundry': Value(dtype='int64', id=None),\n",
       " 'shop_groundskeeping': Value(dtype='int64', id=None),\n",
       " 'railway_signal': Value(dtype='int64', id=None),\n",
       " 'leisure_summer_camp': Value(dtype='int64', id=None),\n",
       " 'shop_doors': Value(dtype='int64', id=None),\n",
       " 'highway_busway': Value(dtype='int64', id=None),\n",
       " 'water_river': Value(dtype='int64', id=None),\n",
       " 'amenity_pub': Value(dtype='int64', id=None),\n",
       " 'highway_traffic_mirror': Value(dtype='int64', id=None),\n",
       " 'natural_stone': Value(dtype='int64', id=None),\n",
       " 'shop_hardware': Value(dtype='int64', id=None),\n",
       " 'leisure_dog_park': Value(dtype='int64', id=None),\n",
       " 'shop_alcohol': Value(dtype='int64', id=None),\n",
       " 'sport_golf': Value(dtype='int64', id=None),\n",
       " 'military_checkpoint': Value(dtype='int64', id=None),\n",
       " 'sport_handball': Value(dtype='int64', id=None),\n",
       " 'sport_pilates': Value(dtype='int64', id=None),\n",
       " 'railway_tram_stop': Value(dtype='int64', id=None),\n",
       " 'building_service': Value(dtype='int64', id=None),\n",
       " 'sport_karting': Value(dtype='int64', id=None),\n",
       " 'leisure_nature_reserve': Value(dtype='int64', id=None),\n",
       " 'shop_erotic': Value(dtype='int64', id=None),\n",
       " 'shop_optician': Value(dtype='int64', id=None),\n",
       " 'shop_coffee': Value(dtype='int64', id=None),\n",
       " 'shop_appliance': Value(dtype='int64', id=None),\n",
       " 'shop_games': Value(dtype='int64', id=None),\n",
       " 'building_pavilion': Value(dtype='int64', id=None),\n",
       " 'historic_wreck': Value(dtype='int64', id=None),\n",
       " 'amenity_car_wash': Value(dtype='int64', id=None),\n",
       " 'shop_pastry': Value(dtype='int64', id=None),\n",
       " 'highway_residential': Value(dtype='int64', id=None),\n",
       " 'amenity_bus_station': Value(dtype='int64', id=None),\n",
       " 'shop_garden_furniture': Value(dtype='int64', id=None),\n",
       " 'amenity_doctors': Value(dtype='int64', id=None),\n",
       " 'highway_path': Value(dtype='int64', id=None),\n",
       " 'water_reflecting_pool': Value(dtype='int64', id=None),\n",
       " 'sport_beachvolleyball': Value(dtype='int64', id=None),\n",
       " 'landuse_allotments': Value(dtype='int64', id=None),\n",
       " 'railway_switch': Value(dtype='int64', id=None),\n",
       " 'railway_narrow_gauge': Value(dtype='int64', id=None),\n",
       " 'military_training_area': Value(dtype='int64', id=None),\n",
       " 'amenity_animal_breeding': Value(dtype='int64', id=None),\n",
       " 'railway_railway_crossing': Value(dtype='int64', id=None),\n",
       " 'shop_car_repair': Value(dtype='int64', id=None),\n",
       " 'waterway_weir': Value(dtype='int64', id=None),\n",
       " 'building_civic': Value(dtype='int64', id=None),\n",
       " 'historic_aqueduct': Value(dtype='int64', id=None),\n",
       " 'amenity_hospital': Value(dtype='int64', id=None),\n",
       " 'military_office': Value(dtype='int64', id=None),\n",
       " 'amenity_shower': Value(dtype='int64', id=None),\n",
       " 'leisure_firepit': Value(dtype='int64', id=None),\n",
       " 'amenity_toy_library': Value(dtype='int64', id=None),\n",
       " 'highway_unclassified': Value(dtype='int64', id=None),\n",
       " 'shop_jewelry': Value(dtype='int64', id=None),\n",
       " 'building_riding_hall': Value(dtype='int64', id=None),\n",
       " 'office_moving_company': Value(dtype='int64', id=None),\n",
       " 'historic_archaeological_site': Value(dtype='int64', id=None),\n",
       " 'historic_monastery': Value(dtype='int64', id=None),\n",
       " 'leisure_park': Value(dtype='int64', id=None),\n",
       " 'office_accountant': Value(dtype='int64', id=None),\n",
       " 'amenity_bureau_de_change': Value(dtype='int64', id=None),\n",
       " 'shop_paint': Value(dtype='int64', id=None),\n",
       " 'historic_monument': Value(dtype='int64', id=None),\n",
       " 'waterway_riverbank': Value(dtype='int64', id=None),\n",
       " 'railway_subway_entrance': Value(dtype='int64', id=None),\n",
       " 'shop_windows': Value(dtype='int64', id=None),\n",
       " 'historic_manor': Value(dtype='int64', id=None),\n",
       " 'sport_obstacle_course': Value(dtype='int64', id=None),\n",
       " 'shop_window_blind': Value(dtype='int64', id=None),\n",
       " 'healthcare_blood_bank': Value(dtype='int64', id=None),\n",
       " 'sport_toboggan': Value(dtype='int64', id=None),\n",
       " 'sport_lacrosse': Value(dtype='int64', id=None),\n",
       " 'sport_bmx': Value(dtype='int64', id=None),\n",
       " 'amenity_marketplace': Value(dtype='int64', id=None),\n",
       " 'shop_pest_control': Value(dtype='int64', id=None),\n",
       " 'amenity_place_of_worship': Value(dtype='int64', id=None),\n",
       " 'shop_fuel': Value(dtype='int64', id=None),\n",
       " 'shop_photo': Value(dtype='int64', id=None),\n",
       " 'railway_derail': Value(dtype='int64', id=None),\n",
       " 'railway_tram_level_crossing': Value(dtype='int64', id=None),\n",
       " 'amenity_social_facility': Value(dtype='int64', id=None),\n",
       " 'sport_padel': Value(dtype='int64', id=None),\n",
       " 'building_hut': Value(dtype='int64', id=None),\n",
       " 'railway_level_crossing': Value(dtype='int64', id=None),\n",
       " 'building_parking': Value(dtype='int64', id=None),\n",
       " 'tourism_wilderness_hut': Value(dtype='int64', id=None),\n",
       " 'shop_flooring': Value(dtype='int64', id=None),\n",
       " 'amenity_nursing_home': Value(dtype='int64', id=None),\n",
       " 'sport_netball': Value(dtype='int64', id=None),\n",
       " 'shop_glaziery': Value(dtype='int64', id=None),\n",
       " 'amenity_dive_centre': Value(dtype='int64', id=None),\n",
       " 'highway_platform': Value(dtype='int64', id=None),\n",
       " 'sport_bobsleigh': Value(dtype='int64', id=None),\n",
       " 'amenity_baby_hatch': Value(dtype='int64', id=None),\n",
       " 'landuse_vineyard': Value(dtype='int64', id=None),\n",
       " 'office_notary': Value(dtype='int64', id=None),\n",
       " 'healthcare_sample_collection': Value(dtype='int64', id=None),\n",
       " 'highway_traffic_signals': Value(dtype='int64', id=None),\n",
       " 'landuse_village_green': Value(dtype='int64', id=None),\n",
       " 'shop_ski': Value(dtype='int64', id=None),\n",
       " 'shop_pasta': Value(dtype='int64', id=None),\n",
       " 'shop_pet_grooming': Value(dtype='int64', id=None),\n",
       " 'amenity_monastery': Value(dtype='int64', id=None),\n",
       " 'sport_boxing': Value(dtype='int64', id=None),\n",
       " 'building_bridge': Value(dtype='int64', id=None),\n",
       " 'amenity_cafe': Value(dtype='int64', id=None),\n",
       " 'natural_spring': Value(dtype='int64', id=None),\n",
       " 'shop_sports': Value(dtype='int64', id=None),\n",
       " 'shop_storage_rental': Value(dtype='int64', id=None),\n",
       " 'building_cowshed': Value(dtype='int64', id=None),\n",
       " 'shop_funeral_directors': Value(dtype='int64', id=None),\n",
       " 'shop_drugstore': Value(dtype='int64', id=None),\n",
       " 'building_terrace': Value(dtype='int64', id=None),\n",
       " 'highway_milestone': Value(dtype='int64', id=None),\n",
       " 'water_basin': Value(dtype='int64', id=None),\n",
       " 'office_lawyer': Value(dtype='int64', id=None),\n",
       " 'highway_primary': Value(dtype='int64', id=None),\n",
       " 'building_government': Value(dtype='int64', id=None),\n",
       " 'building_mosque': Value(dtype='int64', id=None),\n",
       " 'leisure_amusement_arcade': Value(dtype='int64', id=None),\n",
       " 'natural_grassland': Value(dtype='int64', id=None),\n",
       " 'shop_shoes': Value(dtype='int64', id=None),\n",
       " 'building_train_station': Value(dtype='int64', id=None),\n",
       " 'shop_houseware': Value(dtype='int64', id=None),\n",
       " 'shop_lighting': Value(dtype='int64', id=None),\n",
       " 'shop_massage': Value(dtype='int64', id=None),\n",
       " 'historic_pillory': Value(dtype='int64', id=None),\n",
       " 'highway_street_lamp': Value(dtype='int64', id=None),\n",
       " 'shop_wool': Value(dtype='int64', id=None),\n",
       " 'amenity_public_bookcase': Value(dtype='int64', id=None),\n",
       " 'name': Value(dtype='string', id=None),\n",
       " 'admin_region': Value(dtype='string', id=None),\n",
       " 'geocode': Value(dtype='string', id=None),\n",
       " 'caption': Value(dtype='string', id=None)}"
      ]
     },
     "execution_count": 6,
     "metadata": {},
     "output_type": "execute_result"
    }
   ],
   "source": [
    "ds.dataset[\"train\"].features"
   ]
  },
  {
   "cell_type": "code",
   "execution_count": 18,
   "metadata": {},
   "outputs": [
    {
     "data": {
      "image/png": "[encoded data removed]",
      "text/plain": [
       "<PIL.PngImagePlugin.PngImageFile image mode=RGBA size=256x256>"
      ]
     },
     "metadata": {},
     "output_type": "display_data"
    },
    {
     "data": {
      "text/plain": [
       "'OSM from Wrocław, Poland, Europe of suburb area containing: 36 highway footways , 2 building residentials , 4 building industrials , 5 amenity benchs , 1 water river, 1 landuse recreation ground, 13 highway paths , 1 building shed, 1 landuse allotments, 1 amenity taxi.'"
      ]
     },
     "execution_count": 18,
     "metadata": {},
     "output_type": "execute_result"
    }
   ],
   "source": [
    "i = 1050\n",
    "display(ds[i][0])\n",
    "ds[i][1]"
   ]
  },
  {
   "cell_type": "code",
   "execution_count": 19,
   "metadata": {},
   "outputs": [
    {
     "name": "stderr",
     "output_type": "stream",
     "text": [
      "Pushing split train to the Hub.\n"
     ]
    },
    {
     "data": {
      "application/vnd.jupyter.widget-view+json": {
       "model_id": "ebe25a162d144aa5a257ee8c55658538",
       "version_major": 2,
       "version_minor": 0
      },
      "text/plain": [
       "Map:   0%|          | 0/2144 [00:00<?, ? examples/s]"
      ]
     },
     "metadata": {},
     "output_type": "display_data"
    },
    {
     "data": {
      "application/vnd.jupyter.widget-view+json": {
       "model_id": "932999c590f6406d9ee17441b2a5dae9",
       "version_major": 2,
       "version_minor": 0
      },
      "text/plain": [
       "Pushing dataset shards to the dataset hub:   0%|          | 0/1 [00:00<?, ?it/s]"
      ]
     },
     "metadata": {},
     "output_type": "display_data"
    },
    {
     "data": {
      "application/vnd.jupyter.widget-view+json": {
       "model_id": "2cc7f201231143e2ba86c78685c0c3ca",
       "version_major": 2,
       "version_minor": 0
      },
      "text/plain": [
       "Creating parquet from Arrow format:   0%|          | 0/3 [00:00<?, ?ba/s]"
      ]
     },
     "metadata": {},
     "output_type": "display_data"
    },
    {
     "data": {
      "application/vnd.jupyter.widget-view+json": {
       "model_id": "20e90ec6561648308b86397677721c5b",
       "version_major": 2,
       "version_minor": 0
      },
      "text/plain": [
       "Upload 1 LFS files:   0%|          | 0/1 [00:00<?, ?it/s]"
      ]
     },
     "metadata": {},
     "output_type": "display_data"
    }
   ],
   "source": [
    "hds = ds.to_huggingface_dataset()\n",
    "hds.push_to_hub(\"mprzymus/text2tile_small_v2\", private=True)"
   ]
  },
  {
   "cell_type": "code",
   "execution_count": 55,
   "metadata": {},
   "outputs": [
    {
     "name": "stdout",
     "output_type": "stream",
     "text": [
      "None\n"
     ]
    },
    {
     "data": {
      "application/vnd.jupyter.widget-view+json": {
       "model_id": "1e17d98232ea442aac65dde646c70751",
       "version_major": 2,
       "version_minor": 0
      },
      "text/plain": [
       "Resolving data files:   0%|          | 0/116838 [00:00<?, ?it/s]"
      ]
     },
     "metadata": {},
     "output_type": "display_data"
    },
    {
     "name": "stdout",
     "output_type": "stream",
     "text": [
      "Downloading and preparing dataset imagefolder/tiles_own to /home/marcin/.cache/huggingface/datasets/imagefolder/tiles_own-ac728ca8a5a6f100/0.0.0/37fbb85cc714a338bea574ac6c7d0b5be5aff46c1862c1989b20e0771199e93f...\n"
     ]
    },
    {
     "data": {
      "application/vnd.jupyter.widget-view+json": {
       "model_id": "43635804abd949c2ae36072d828e756a",
       "version_major": 2,
       "version_minor": 0
      },
      "text/plain": [
       "Downloading data files:   0%|          | 0/116838 [00:00<?, ?it/s]"
      ]
     },
     "metadata": {},
     "output_type": "display_data"
    },
    {
     "data": {
      "application/vnd.jupyter.widget-view+json": {
       "model_id": "b6a55998682c4b2abdc1b7d15a30d90d",
       "version_major": 2,
       "version_minor": 0
      },
      "text/plain": [
       "Downloading data files: 0it [00:00, ?it/s]"
      ]
     },
     "metadata": {},
     "output_type": "display_data"
    },
    {
     "data": {
      "application/vnd.jupyter.widget-view+json": {
       "model_id": "f7c4700fb00644ecb08f349aad760fcb",
       "version_major": 2,
       "version_minor": 0
      },
      "text/plain": [
       "Extracting data files: 0it [00:00, ?it/s]"
      ]
     },
     "metadata": {},
     "output_type": "display_data"
    },
    {
     "data": {
      "application/vnd.jupyter.widget-view+json": {
       "model_id": "41b0562af496468b848d44857feb2c3f",
       "version_major": 2,
       "version_minor": 0
      },
      "text/plain": [
       "Generating train split: 0 examples [00:00, ? examples/s]"
      ]
     },
     "metadata": {},
     "output_type": "display_data"
    },
    {
     "name": "stdout",
     "output_type": "stream",
     "text": [
      "Dataset imagefolder downloaded and prepared to /home/marcin/.cache/huggingface/datasets/imagefolder/tiles_own-ac728ca8a5a6f100/0.0.0/37fbb85cc714a338bea574ac6c7d0b5be5aff46c1862c1989b20e0771199e93f. Subsequent calls will reuse this data.\n"
     ]
    },
    {
     "data": {
      "application/vnd.jupyter.widget-view+json": {
       "model_id": "4ba7de5082394722bc890e23bf7d20e1",
       "version_major": 2,
       "version_minor": 0
      },
      "text/plain": [
       "  0%|          | 0/1 [00:00<?, ?it/s]"
      ]
     },
     "metadata": {},
     "output_type": "display_data"
    },
    {
     "data": {
      "application/vnd.jupyter.widget-view+json": {
       "model_id": "4c18591e1d95441b86c7b2b7bb6a1c0c",
       "version_major": 2,
       "version_minor": 0
      },
      "text/plain": [
       "Map:   0%|          | 0/116792 [00:00<?, ? examples/s]"
      ]
     },
     "metadata": {},
     "output_type": "display_data"
    },
    {
     "name": "stderr",
     "output_type": "stream",
     "text": [
      "Pushing split train to the Hub.\n"
     ]
    },
    {
     "data": {
      "application/vnd.jupyter.widget-view+json": {
       "model_id": "dad164e3a98644ddab939b4fea51f603",
       "version_major": 2,
       "version_minor": 0
      },
      "text/plain": [
       "Map:   0%|          | 0/10618 [00:00<?, ? examples/s]"
      ]
     },
     "metadata": {},
     "output_type": "display_data"
    },
    {
     "data": {
      "application/vnd.jupyter.widget-view+json": {
       "model_id": "64275f1e79db4385955b3eb4482e34d4",
       "version_major": 2,
       "version_minor": 0
      },
      "text/plain": [
       "Pushing dataset shards to the dataset hub:   0%|          | 0/11 [00:00<?, ?it/s]"
      ]
     },
     "metadata": {},
     "output_type": "display_data"
    },
    {
     "data": {
      "application/vnd.jupyter.widget-view+json": {
       "model_id": "9abc844449f846cbb54495970a9f08db",
       "version_major": 2,
       "version_minor": 0
      },
      "text/plain": [
       "Creating parquet from Arrow format:   0%|          | 0/11 [00:00<?, ?ba/s]"
      ]
     },
     "metadata": {},
     "output_type": "display_data"
    },
    {
     "data": {
      "application/vnd.jupyter.widget-view+json": {
       "model_id": "cf6abd6ec79b43c893f2a5594315a66b",
       "version_major": 2,
       "version_minor": 0
      },
      "text/plain": [
       "Upload 1 LFS files:   0%|          | 0/1 [00:00<?, ?it/s]"
      ]
     },
     "metadata": {},
     "output_type": "display_data"
    },
    {
     "data": {
      "application/vnd.jupyter.widget-view+json": {
       "model_id": "ab4e11d4f71440fbae592c001fdeb901",
       "version_major": 2,
       "version_minor": 0
      },
      "text/plain": [
       "Map:   0%|          | 0/10618 [00:00<?, ? examples/s]"
      ]
     },
     "metadata": {},
     "output_type": "display_data"
    },
    {
     "data": {
      "application/vnd.jupyter.widget-view+json": {
       "model_id": "3831a172865e441794eecec1c1fbcbca",
       "version_major": 2,
       "version_minor": 0
      },
      "text/plain": [
       "Creating parquet from Arrow format:   0%|          | 0/11 [00:00<?, ?ba/s]"
      ]
     },
     "metadata": {},
     "output_type": "display_data"
    },
    {
     "data": {
      "application/vnd.jupyter.widget-view+json": {
       "model_id": "6430c3678e5644bbaa6246d278399946",
       "version_major": 2,
       "version_minor": 0
      },
      "text/plain": [
       "Upload 1 LFS files:   0%|          | 0/1 [00:00<?, ?it/s]"
      ]
     },
     "metadata": {},
     "output_type": "display_data"
    },
    {
     "data": {
      "application/vnd.jupyter.widget-view+json": {
       "model_id": "88b9020e4bd84c2782022b358067f60a",
       "version_major": 2,
       "version_minor": 0
      },
      "text/plain": [
       "Map:   0%|          | 0/10618 [00:00<?, ? examples/s]"
      ]
     },
     "metadata": {},
     "output_type": "display_data"
    },
    {
     "data": {
      "application/vnd.jupyter.widget-view+json": {
       "model_id": "7b959ccd06b64d4283d84047497df2ff",
       "version_major": 2,
       "version_minor": 0
      },
      "text/plain": [
       "Creating parquet from Arrow format:   0%|          | 0/11 [00:00<?, ?ba/s]"
      ]
     },
     "metadata": {},
     "output_type": "display_data"
    },
    {
     "data": {
      "application/vnd.jupyter.widget-view+json": {
       "model_id": "2341cfd4f05848cb81b67274057c14ab",
       "version_major": 2,
       "version_minor": 0
      },
      "text/plain": [
       "Upload 1 LFS files:   0%|          | 0/1 [00:00<?, ?it/s]"
      ]
     },
     "metadata": {},
     "output_type": "display_data"
    },
    {
     "data": {
      "application/vnd.jupyter.widget-view+json": {
       "model_id": "20d88d778fdb4671b4d5544edfe30cb7",
       "version_major": 2,
       "version_minor": 0
      },
      "text/plain": [
       "Map:   0%|          | 0/10618 [00:00<?, ? examples/s]"
      ]
     },
     "metadata": {},
     "output_type": "display_data"
    },
    {
     "data": {
      "application/vnd.jupyter.widget-view+json": {
       "model_id": "9ecd4813a4e64a708311639620f9d486",
       "version_major": 2,
       "version_minor": 0
      },
      "text/plain": [
       "Creating parquet from Arrow format:   0%|          | 0/11 [00:00<?, ?ba/s]"
      ]
     },
     "metadata": {},
     "output_type": "display_data"
    },
    {
     "data": {
      "application/vnd.jupyter.widget-view+json": {
       "model_id": "50b32a6b173a40e99b7f2b6f85f8cac9",
       "version_major": 2,
       "version_minor": 0
      },
      "text/plain": [
       "Upload 1 LFS files:   0%|          | 0/1 [00:00<?, ?it/s]"
      ]
     },
     "metadata": {},
     "output_type": "display_data"
    },
    {
     "data": {
      "application/vnd.jupyter.widget-view+json": {
       "model_id": "0f013ae419bc4e99a37b46136117a7ff",
       "version_major": 2,
       "version_minor": 0
      },
      "text/plain": [
       "Map:   0%|          | 0/10618 [00:00<?, ? examples/s]"
      ]
     },
     "metadata": {},
     "output_type": "display_data"
    },
    {
     "data": {
      "application/vnd.jupyter.widget-view+json": {
       "model_id": "9d6db4ddadfd43beaa7d217d1b08d3d3",
       "version_major": 2,
       "version_minor": 0
      },
      "text/plain": [
       "Creating parquet from Arrow format:   0%|          | 0/11 [00:00<?, ?ba/s]"
      ]
     },
     "metadata": {},
     "output_type": "display_data"
    },
    {
     "data": {
      "application/vnd.jupyter.widget-view+json": {
       "model_id": "dad8d19332a4441c81e8afcd18ad0708",
       "version_major": 2,
       "version_minor": 0
      },
      "text/plain": [
       "Upload 1 LFS files:   0%|          | 0/1 [00:00<?, ?it/s]"
      ]
     },
     "metadata": {},
     "output_type": "display_data"
    },
    {
     "data": {
      "application/vnd.jupyter.widget-view+json": {
       "model_id": "a7d2490fa322406ba6c44228de8b90dc",
       "version_major": 2,
       "version_minor": 0
      },
      "text/plain": [
       "Map:   0%|          | 0/10617 [00:00<?, ? examples/s]"
      ]
     },
     "metadata": {},
     "output_type": "display_data"
    },
    {
     "data": {
      "application/vnd.jupyter.widget-view+json": {
       "model_id": "d1bfeef1fac7436884e18854b1e02af6",
       "version_major": 2,
       "version_minor": 0
      },
      "text/plain": [
       "Creating parquet from Arrow format:   0%|          | 0/11 [00:00<?, ?ba/s]"
      ]
     },
     "metadata": {},
     "output_type": "display_data"
    },
    {
     "data": {
      "application/vnd.jupyter.widget-view+json": {
       "model_id": "f0fae6fcb3cb402ca5c1436367ac0c47",
       "version_major": 2,
       "version_minor": 0
      },
      "text/plain": [
       "Upload 1 LFS files:   0%|          | 0/1 [00:00<?, ?it/s]"
      ]
     },
     "metadata": {},
     "output_type": "display_data"
    },
    {
     "data": {
      "application/vnd.jupyter.widget-view+json": {
       "model_id": "61780170ec654e8a9dfd6f0f671b9146",
       "version_major": 2,
       "version_minor": 0
      },
      "text/plain": [
       "Map:   0%|          | 0/10617 [00:00<?, ? examples/s]"
      ]
     },
     "metadata": {},
     "output_type": "display_data"
    },
    {
     "data": {
      "application/vnd.jupyter.widget-view+json": {
       "model_id": "b29650e509f044559f54325a40c5606b",
       "version_major": 2,
       "version_minor": 0
      },
      "text/plain": [
       "Creating parquet from Arrow format:   0%|          | 0/11 [00:00<?, ?ba/s]"
      ]
     },
     "metadata": {},
     "output_type": "display_data"
    },
    {
     "data": {
      "application/vnd.jupyter.widget-view+json": {
       "model_id": "0be13046d5ad403e9fb7cabedf0070c7",
       "version_major": 2,
       "version_minor": 0
      },
      "text/plain": [
       "Upload 1 LFS files:   0%|          | 0/1 [00:00<?, ?it/s]"
      ]
     },
     "metadata": {},
     "output_type": "display_data"
    },
    {
     "data": {
      "application/vnd.jupyter.widget-view+json": {
       "model_id": "ac4782050329422bbd14ddcfc2cf4d9c",
       "version_major": 2,
       "version_minor": 0
      },
      "text/plain": [
       "Map:   0%|          | 0/10617 [00:00<?, ? examples/s]"
      ]
     },
     "metadata": {},
     "output_type": "display_data"
    },
    {
     "data": {
      "application/vnd.jupyter.widget-view+json": {
       "model_id": "fd36c42b12974c4dbbb48495e4f002a9",
       "version_major": 2,
       "version_minor": 0
      },
      "text/plain": [
       "Creating parquet from Arrow format:   0%|          | 0/11 [00:00<?, ?ba/s]"
      ]
     },
     "metadata": {},
     "output_type": "display_data"
    },
    {
     "data": {
      "application/vnd.jupyter.widget-view+json": {
       "model_id": "d81fa89306414d8eb7c4158199880a39",
       "version_major": 2,
       "version_minor": 0
      },
      "text/plain": [
       "Upload 1 LFS files:   0%|          | 0/1 [00:00<?, ?it/s]"
      ]
     },
     "metadata": {},
     "output_type": "display_data"
    },
    {
     "data": {
      "application/vnd.jupyter.widget-view+json": {
       "model_id": "07fe23c3836d4c67a5ad7674fc86b082",
       "version_major": 2,
       "version_minor": 0
      },
      "text/plain": [
       "Map:   0%|          | 0/10617 [00:00<?, ? examples/s]"
      ]
     },
     "metadata": {},
     "output_type": "display_data"
    },
    {
     "data": {
      "application/vnd.jupyter.widget-view+json": {
       "model_id": "d6d50b57b34544799af673b103bdaa79",
       "version_major": 2,
       "version_minor": 0
      },
      "text/plain": [
       "Creating parquet from Arrow format:   0%|          | 0/11 [00:00<?, ?ba/s]"
      ]
     },
     "metadata": {},
     "output_type": "display_data"
    },
    {
     "data": {
      "application/vnd.jupyter.widget-view+json": {
       "model_id": "be9b516fff964462b51eadff3897859f",
       "version_major": 2,
       "version_minor": 0
      },
      "text/plain": [
       "Upload 1 LFS files:   0%|          | 0/1 [00:00<?, ?it/s]"
      ]
     },
     "metadata": {},
     "output_type": "display_data"
    },
    {
     "data": {
      "application/vnd.jupyter.widget-view+json": {
       "model_id": "14ebb3891e1b47ec9e82859b76f050a5",
       "version_major": 2,
       "version_minor": 0
      },
      "text/plain": [
       "Map:   0%|          | 0/10617 [00:00<?, ? examples/s]"
      ]
     },
     "metadata": {},
     "output_type": "display_data"
    },
    {
     "data": {
      "application/vnd.jupyter.widget-view+json": {
       "model_id": "6ceac9fa086b4f6f9baa406a347cbb50",
       "version_major": 2,
       "version_minor": 0
      },
      "text/plain": [
       "Creating parquet from Arrow format:   0%|          | 0/11 [00:00<?, ?ba/s]"
      ]
     },
     "metadata": {},
     "output_type": "display_data"
    },
    {
     "data": {
      "application/vnd.jupyter.widget-view+json": {
       "model_id": "571e87f4b83f45dfa1e9a91a4fc0586e",
       "version_major": 2,
       "version_minor": 0
      },
      "text/plain": [
       "Upload 1 LFS files:   0%|          | 0/1 [00:00<?, ?it/s]"
      ]
     },
     "metadata": {},
     "output_type": "display_data"
    },
    {
     "data": {
      "application/vnd.jupyter.widget-view+json": {
       "model_id": "9c150d66cd344a64a58bb02d69f3fb50",
       "version_major": 2,
       "version_minor": 0
      },
      "text/plain": [
       "Map:   0%|          | 0/10617 [00:00<?, ? examples/s]"
      ]
     },
     "metadata": {},
     "output_type": "display_data"
    },
    {
     "data": {
      "application/vnd.jupyter.widget-view+json": {
       "model_id": "c7122b3fa2bb4e869abb0d9ee294384a",
       "version_major": 2,
       "version_minor": 0
      },
      "text/plain": [
       "Creating parquet from Arrow format:   0%|          | 0/11 [00:00<?, ?ba/s]"
      ]
     },
     "metadata": {},
     "output_type": "display_data"
    },
    {
     "data": {
      "application/vnd.jupyter.widget-view+json": {
       "model_id": "8d21c648a7294cccbf96a50906eb9bc3",
       "version_major": 2,
       "version_minor": 0
      },
      "text/plain": [
       "Upload 1 LFS files:   0%|          | 0/1 [00:00<?, ?it/s]"
      ]
     },
     "metadata": {},
     "output_type": "display_data"
    },
    {
     "data": {
      "application/vnd.jupyter.widget-view+json": {
       "model_id": "183d7d39445c4255829da6a8d7fd0754",
       "version_major": 2,
       "version_minor": 0
      },
      "text/plain": [
       "Deleting unused files from dataset repository:   0%|          | 0/4 [00:00<?, ?it/s]"
      ]
     },
     "metadata": {},
     "output_type": "display_data"
    },
    {
     "data": {
      "application/vnd.jupyter.widget-view+json": {
       "model_id": "e33eafa9c5644a78b41a89d621426986",
       "version_major": 2,
       "version_minor": 0
      },
      "text/plain": [
       "Downloading metadata:   0%|          | 0.00/408 [00:00<?, ?B/s]"
      ]
     },
     "metadata": {},
     "output_type": "display_data"
    }
   ],
   "source": [
    "large_ds = TextToImageDataset(\"../data/tiles_own\").to_huggingface_dataset()\n",
    "large_ds.push_to_hub(\"mprzymus/text2tile_large\")"
   ]
  },
  {
   "attachments": {},
   "cell_type": "markdown",
   "metadata": {},
   "source": [
    "# Check download works"
   ]
  },
  {
   "cell_type": "code",
   "execution_count": 6,
   "metadata": {},
   "outputs": [
    {
     "name": "stderr",
     "output_type": "stream",
     "text": [
      "Found cached dataset parquet (/home/marcin/.cache/huggingface/datasets/mprzymus___parquet/mprzymus--text2tile-08c7471b58d60160/0.0.0/2a3b91fbd88a2c90d1dbbb32b460cf621d31bd5b05b934492fdef7d8d6f236ec)\n"
     ]
    },
    {
     "data": {
      "application/vnd.jupyter.widget-view+json": {
       "model_id": "a1fb23d6bb86482bb2bc1e4c7acce041",
       "version_major": 2,
       "version_minor": 0
      },
      "text/plain": [
       "  0%|          | 0/2 [00:00<?, ?it/s]"
      ]
     },
     "metadata": {},
     "output_type": "display_data"
    }
   ],
   "source": [
    "ds = load_dataset(\"mprzymus/text2tile\")\n",
    "test_captions = ds[\"test\"][\"caption\"]"
   ]
  },
  {
   "cell_type": "code",
   "execution_count": 9,
   "metadata": {},
   "outputs": [
    {
     "data": {
      "text/plain": [
       "'OSM of area containing: 4 landuse meadows  , 3 landuse farmlands  , 1 natural scrub  , 1 natural water  , 1 water river  .'"
      ]
     },
     "execution_count": 9,
     "metadata": {},
     "output_type": "execute_result"
    }
   ],
   "source": [
    "test_captions[843]"
   ]
  },
  {
   "cell_type": "code",
   "execution_count": 14,
   "metadata": {},
   "outputs": [
    {
     "data": {
      "text/plain": [
       "'OSM of area containing: 2 leisure playgrounds  , 1 shop seafood  , 59 buildings  , 1 shop computer  , 1 office government  .'"
      ]
     },
     "execution_count": 14,
     "metadata": {},
     "output_type": "execute_result"
    }
   ],
   "source": [
    "test_captions[290]"
   ]
  },
  {
   "cell_type": "code",
   "execution_count": 15,
   "metadata": {},
   "outputs": [
    {
     "data": {
      "text/plain": [
       "'OSM of area containing: 2 leisure pitchs  , 191 building apartmentss  , 3 amenity parkings  , 1 amenity fuel  , 2 building industrials  .'"
      ]
     },
     "execution_count": 15,
     "metadata": {},
     "output_type": "execute_result"
    }
   ],
   "source": [
    "test_captions[253]"
   ]
  },
  {
   "cell_type": "code",
   "execution_count": 16,
   "metadata": {},
   "outputs": [
    {
     "data": {
      "image/png": "[encoded data removed]",
      "text/plain": [
       "<PIL.PngImagePlugin.PngImageFile image mode=P size=256x256>"
      ]
     },
     "execution_count": 16,
     "metadata": {},
     "output_type": "execute_result"
    }
   ],
   "source": [
    "ds[\"test\"][\"image\"][253]"
   ]
  }
 ],
 "metadata": {
  "kernelspec": {
   "display_name": ".venv",
   "language": "python",
   "name": "python3"
  },
  "language_info": {
   "codemirror_mode": {
    "name": "ipython",
    "version": 3
   },
   "file_extension": ".py",
   "mimetype": "text/x-python",
   "name": "python",
   "nbconvert_exporter": "python",
   "pygments_lexer": "ipython3",
   "version": "3.11.3"
  },
  "orig_nbformat": 4,
  "vscode": {
   "interpreter": {
    "hash": "5dce9f45505a373811135736fcc1a28d7cb642c7707cc61eb0340150084562f1"
   }
  }
 },
 "nbformat": 4,
 "nbformat_minor": 2
}
