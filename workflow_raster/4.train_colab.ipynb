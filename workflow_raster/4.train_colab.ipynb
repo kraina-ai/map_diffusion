{
 "cells": [
  {
   "cell_type": "code",
   "execution_count": 1,
   "metadata": {},
   "outputs": [],
   "source": [
    "from accelerate import notebook_launcher\n",
    "from map_generation.train_text_to_image import main\n",
    "import sys"
   ]
  },
  {
   "cell_type": "code",
   "execution_count": null,
   "metadata": {},
   "outputs": [],
   "source": [
    "old_sys_args = sys.argv\n",
    "sys.argv = [\n",
    "    \"map_generation/train_text_to_image.py\",\n",
    "    \"--dataset_name=mprzymus/osm_tiles_small\",\n",
    "    \"--pretrained_model_name_or_path=hf-internal-testing/tiny-stable-diffusion-pipe\",\n",
    "    \"--gradient_accumulation_steps=1\",\n",
    "    \"--gradient_checkpointing\",\n",
    "    \"--max_grad_norm=1\",\n",
    "    \"--lr_scheduler=constant\",\n",
    "    \"--lr_warmup_steps=0\",\n",
    "    \"--output_dir=result_path_jupyter\",\n",
    "    \"--snr_gamma=5.0\",\n",
    "    \"--p_uncond=0.1\",\n",
    "    \"--lr_scheduler=constant\",\n",
    "    \"--lr_warmup_steps=0\",\n",
    "    \"--use_ema\",\n",
    "    \"--max_train_steps=10\",\n",
    "    \"--checkpointing_steps=3\",\n",
    "    \"--checkpoints_total_limit=2\",\n",
    "    \"--resume_from_checkpoint=result_path_jupyter/checkpoint-9\"\n",
    "]\n",
    "notebook_launcher(main, num_processes=1)\n",
    "sys.argv = old_sys_args"
   ]
  }
 ],
 "metadata": {
  "kernelspec": {
   "display_name": ".venv",
   "language": "python",
   "name": "python3"
  },
  "language_info": {
   "codemirror_mode": {
    "name": "ipython",
    "version": 3
   },
   "file_extension": ".py",
   "mimetype": "text/x-python",
   "name": "python",
   "nbconvert_exporter": "python",
   "pygments_lexer": "ipython3",
   "version": "3.11.3"
  },
  "orig_nbformat": 4
 },
 "nbformat": 4,
 "nbformat_minor": 2
}
