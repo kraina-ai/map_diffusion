{
  "cells": [
    {
      "cell_type": "markdown",
      "metadata": {
        "id": "GYCuLeOsPeZ0"
      },
      "source": [
        "# Install dependencies\n",
        "\n",
        "Restart might be required due to conflict on numpy version."
      ]
    },
    {
      "cell_type": "code",
      "execution_count": null,
      "metadata": {
        "id": "rResTIP7PIU8"
      },
      "outputs": [],
      "source": [
        "!pip uninstall -y map_generation\n",
        "!pip install git+https://github.com/mprzymus/map_generation.git@colab"
      ]
    },
    {
      "cell_type": "code",
      "execution_count": null,
      "metadata": {
        "colab": {
          "base_uri": "https://localhost:8080/"
        },
        "id": "sdPgRHlPrXaR",
        "outputId": "bce36ad5-bd33-419e-96c1-01cfc859c2d2"
      },
      "outputs": [
        {
          "name": "stdout",
          "output_type": "stream",
          "text": [
            "Drive already mounted at /content/drive/; to attempt to forcibly remount, call drive.mount(\"/content/drive/\", force_remount=True).\n"
          ]
        }
      ],
      "source": [
        "from google.colab import drive\n",
        "\n",
        "from google.colab import runtime\n",
        "drive.mount('/content/drive/')"
      ]
    },
    {
      "cell_type": "code",
      "execution_count": null,
      "metadata": {
        "colab": {
          "base_uri": "https://localhost:8080/"
        },
        "id": "jjyOzw4wOgJp",
        "outputId": "40083007-08b7-400b-9dd2-5d4cecf90c70"
      },
      "outputs": [
        {
          "name": "stdout",
          "output_type": "stream",
          "text": [
            "result_path_jupyter\n"
          ]
        }
      ],
      "source": [
        "COLAB_PATH = \"drive/MyDrive/mgr/diffusion\"\n",
        "!ls $COLAB_PATH"
      ]
    },
    {
      "cell_type": "code",
      "execution_count": null,
      "metadata": {
        "id": "10S8ogKBOY7r"
      },
      "outputs": [],
      "source": [
        "from accelerate import notebook_launcher\n",
        "from map_generation.train_text_to_image import main\n",
        "import sys"
      ]
    },
    {
      "cell_type": "code",
      "execution_count": null,
      "metadata": {
        "colab": {
          "base_uri": "https://localhost:8080/"
        },
        "id": "31cnwh8uSWMC",
        "outputId": "2cab5857-8a2a-4524-c741-7c22229f7e05"
      },
      "outputs": [
        {
          "data": {
            "text/plain": [
              "(7, 0.0001, 32)"
            ]
          },
          "execution_count": 4,
          "metadata": {},
          "output_type": "execute_result"
        }
      ],
      "source": [
        "from map_generation.config import N_COLUMNS, LEARNING_RAGE, BATCH_SIZE\n",
        "N_COLUMNS, LEARNING_RAGE, BATCH_SIZE"
      ]
    },
    {
      "cell_type": "code",
      "execution_count": null,
      "metadata": {
        "id": "vo-yElK8OY7s"
      },
      "outputs": [],
      "source": [
        "old_sys_args = sys.argv\n",
        "\n",
        "sys.argv = [\n",
        "    \"map_generation/train_text_to_image.py\",\n",
        "    \"--dataset_name=mprzymus/text2tile_large\",\n",
        "    \"--pretrained_model_name_or_path=runwayml/stable-diffusion-v1-5\",\n",
        "    \"--gradient_accumulation_steps=1\",\n",
        "    \"--gradient_checkpointing\",\n",
        "    \"--max_grad_norm=1\",\n",
        "    \"--lr_scheduler=constant\",\n",
        "    \"--lr_warmup_steps=0\",\n",
        "    f\"--output_dir={COLAB_PATH}/result_path_jupyter\",\n",
        "    \"--snr_gamma=5.0\",\n",
        "    \"--p_uncond=0.2\",\n",
        "    \"--lr_scheduler=constant\",\n",
        "    \"--lr_warmup_steps=0\",\n",
        "    \"--use_ema\",\n",
        "    \"--checkpointing_steps=1_000\",\n",
        "    \"--learning_rate=0.0001\",\n",
        "    \"--train_batch_size=32\",\n",
        "    \"--mixed_precision=fp16\",\n",
        "    \"--max_train_steps=14400\",\n",
        "    f\"--resume_from_checkpoint={COLAB_PATH}/result_path_jupyter/checkpoint-500\"\n",
        "]\n",
        "notebook_launcher(main, num_processes=1)\n",
        "sys.argv = old_sys_args\n",
        "runtime.unassign()"
      ]
    }
  ],
  "metadata": {
    "accelerator": "GPU",
    "colab": {
      "gpuType": "T4",
      "machine_shape": "hm",
      "provenance": []
    },
    "kernelspec": {
      "display_name": "Python 3",
      "name": "python3"
    },
    "language_info": {
      "codemirror_mode": {
        "name": "ipython",
        "version": 3
      },
      "file_extension": ".py",
      "mimetype": "text/x-python",
      "name": "python",
      "nbconvert_exporter": "python",
      "pygments_lexer": "ipython3",
      "version": "3.11.3"
    },
    "orig_nbformat": 4
  },
  "nbformat": 4,
  "nbformat_minor": 0
}