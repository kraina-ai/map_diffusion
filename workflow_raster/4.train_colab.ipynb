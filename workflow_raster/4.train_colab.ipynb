{
  "cells": [
    {
      "cell_type": "code",
      "source": [
        "from google.colab import drive\n",
        "drive.mount('drive/')\n",
        "COLAB_PATH = \"drive/MyDrive/mgr/diffusion\"\n",
        "!ls $COLAB_PATH"
      ],
      "metadata": {
        "id": "jjyOzw4wOgJp"
      },
      "execution_count": null,
      "outputs": []
    },
    {
      "cell_type": "markdown",
      "source": [
        "# Install dependencies\n",
        "\n",
        "Restart might be required due to conflict on numpy version."
      ],
      "metadata": {
        "id": "GYCuLeOsPeZ0"
      }
    },
    {
      "cell_type": "code",
      "source": [
        "!pip uninstall -y map_generation\n",
        "!pip install git+https://github.com/mprzymus/map_generation.git@colab"
      ],
      "metadata": {
        "id": "rResTIP7PIU8"
      },
      "execution_count": null,
      "outputs": []
    },
    {
      "cell_type": "code",
      "execution_count": 1,
      "metadata": {
        "id": "10S8ogKBOY7r"
      },
      "outputs": [],
      "source": [
        "from accelerate import notebook_launcher\n",
        "from map_generation.train_text_to_image import main\n",
        "import sys"
      ]
    },
    {
      "cell_type": "code",
      "execution_count": null,
      "metadata": {
        "id": "vo-yElK8OY7s"
      },
      "outputs": [],
      "source": [
        "CUDA_LAUNCH_BLOCKING=1\n",
        "old_sys_args = sys.argv\n",
        "sys.argv = [\n",
        "    \"map_generation/train_text_to_image.py\",\n",
        "    \"--dataset_name=mprzymus/osm_tiles_small\",\n",
        "    \"--pretrained_model_name_or_path=hf-internal-testing/tiny-stable-diffusion-pipe\",\n",
        "    \"--gradient_accumulation_steps=1\",\n",
        "    \"--gradient_checkpointing\",\n",
        "    \"--max_grad_norm=1\",\n",
        "    \"--lr_scheduler=constant\",\n",
        "    \"--lr_warmup_steps=0\",\n",
        "    f\"--output_dir={COLAB_PATH}/result_path_jupyter\",\n",
        "    \"--snr_gamma=5.0\",\n",
        "    \"--p_uncond=0.2\",\n",
        "    \"--lr_scheduler=constant\",\n",
        "    \"--lr_warmup_steps=0\",\n",
        "    \"--use_ema\",\n",
        "    \"--max_train_steps=5\",\n",
        "    \"--checkpointing_steps=2\",\n",
        "    # \"--checkpoints_total_limit=2\",\n",
        "    f\"--resume_from_checkpoint={COLAB_PATH}/result_path_jupyter/checkpoint-4\"\n",
        "]\n",
        "notebook_launcher(main, num_processes=1)\n",
        "sys.argv = old_sys_args"
      ]
    }
  ],
  "metadata": {
    "kernelspec": {
      "display_name": "Python 3",
      "name": "python3"
    },
    "language_info": {
      "codemirror_mode": {
        "name": "ipython",
        "version": 3
      },
      "file_extension": ".py",
      "mimetype": "text/x-python",
      "name": "python",
      "nbconvert_exporter": "python",
      "pygments_lexer": "ipython3",
      "version": "3.11.3"
    },
    "orig_nbformat": 4,
    "colab": {
      "provenance": [],
      "gpuType": "T4"
    },
    "accelerator": "GPU"
  },
  "nbformat": 4,
  "nbformat_minor": 0
}